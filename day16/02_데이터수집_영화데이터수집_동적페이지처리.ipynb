{
 "cells": [
  {
   "cell_type": "markdown",
   "metadata": {},
   "source": [
    "#### 영화데이터수집\n",
    "- 수집처 : 메가박스\n",
    "- 수집처 URL : https://www.megabox.co.kr/movie\n",
    "- 수집위치 (웹 네비게이션) : 영화 > 전체영화 > 박스오피스\n",
    "- 수집데이터 (10개 영화 정보만 수집)\n",
    "    - 영화제목, 실관람평점, 예매순위, 예매율, 누적관객수, 개별관람평점, 개별관람명내용, 긍정(6점이상), 부정(6점미만)"
   ]
  },
  {
   "cell_type": "markdown",
   "metadata": {},
   "source": [
    "#### 라이브러리 정의하기"
   ]
  },
  {
   "cell_type": "code",
   "execution_count": 1,
   "metadata": {},
   "outputs": [],
   "source": [
    "### 웹브라우저 오픈을 위한 라이브러리\n",
    "# - 브라우저 제어\n",
    "# - 설치해야 합니다. : pip install selenium\n",
    "from selenium import webdriver\n",
    "\n",
    "### 수집된 html 정보에 html 타입으로 의미 부여 및 태그정보 조회(정적)\n",
    "# from bs4 import BeautifulSoup\n",
    "\n",
    "### 동적 웹페이지 처리 라이브러리\n",
    "# - 정적 웹페이지 처리처럼 html.parser 처리를 하지 않아도 라이브러리가 알아서 내부적으로 처리해줌\n",
    "from selenium.webdriver.common.by import By\n",
    "\n",
    "### 데이터 처리\n",
    "import pandas as pd\n",
    "\n",
    "### 시간 라이브러리\n",
    "# - 브라우저의 로딩시간이 길어지는 경우에는\n",
    "#   --> 프로그램의 처리 시간도 늦춰주어야 함\n",
    "#   --> time.sleep(초)\n",
    "import time"
   ]
  },
  {
   "cell_type": "markdown",
   "metadata": {},
   "source": [
    "#### 크롬브라우저 제어하기"
   ]
  },
  {
   "cell_type": "code",
   "execution_count": 2,
   "metadata": {},
   "outputs": [
    {
     "data": {
      "text/plain": [
       "<selenium.webdriver.chrome.webdriver.WebDriver (session=\"1585f4cd306dadb63e33d337b119adff\")>"
      ]
     },
     "execution_count": 2,
     "metadata": {},
     "output_type": "execute_result"
    }
   ],
   "source": [
    "driver = webdriver.Chrome()\n",
    "\n",
    "driver"
   ]
  },
  {
   "cell_type": "markdown",
   "metadata": {},
   "source": [
    "#### 수집할 웹페이지 URL 정의 및 요청 및 html 코드 수집"
   ]
  },
  {
   "cell_type": "code",
   "execution_count": 3,
   "metadata": {},
   "outputs": [],
   "source": [
    "### 수집할 웹 페이지 URL\n",
    "url = \"https://www.megabox.co.kr/movie\"\n",
    "\n",
    "### 브라우저를 통해서 요청 및 html 코드 받아오기\n",
    "driver.get(url)"
   ]
  },
  {
   "cell_type": "markdown",
   "metadata": {},
   "source": [
    "- selenium 동적 페이지 처리시\n",
    "    - 별도의 파싱(html.parse) 작업 하지 않아도 됨\n",
    "    - 바로 태그 경로를 이용해서 데이터 수집\n",
    "\n",
    "- 태그 정보 조회 함수\n",
    "    - driver.find_elements(By.CSS_SELECTOR, \"태그 경로 패턴\")\n",
    "    - 여러건 조회 시 반환 타입은 list 타입\n",
    "    - 한 건 조회 시 반환 타입은 html 태그 자체\n",
    "\n",
    "- 클릭 가능한 태그 : a, input, button 태그 이름은 클릭 가능한 경우\n",
    "    - a태그의 경우 herf 속성 값에 #만 있는 경우 링크 주소가 없는 경우임\n",
    "    - 상위 태그에서 링크(페이지 전환)처리한다고 보면 됨"
   ]
  },
  {
   "cell_type": "markdown",
   "metadata": {},
   "source": [
    "#### 영화 목록 전체 추출하기\n",
    "\n",
    "- 1. 영화 목록 전체 정보를 추출\n",
    "    - 클릭 할 수 있는 태그를 찾아서 수집해야 합니다.\n",
    "- 2. 추출한 각 영화 정보를 클릭하여 페이지 전환\n",
    "- 3. 전환된 페이지에서 해당 영화 정보 추출\n",
    "    - : 영화제목, 실관람평점, 예매순위, 예매율, 누적관객수\n",
    "    - : 영화제목, 개별관람평점, 개별관란명내용, 긍정(관람평점6이상)/부정(관렴평점6미만)\n",
    "- 4. 전환된 페이지에서 추출이 끝나면 --> 다시 목록으로 페이지 전환\n",
    "- 5. 1~4를 반복하면서 ... 다음 영화 정보 클릭하여 페이지 전환하면서 반복 처리"
   ]
  },
  {
   "cell_type": "code",
   "execution_count": 4,
   "metadata": {},
   "outputs": [
    {
     "name": "stdout",
     "output_type": "stream",
     "text": [
      "20\n"
     ]
    }
   ],
   "source": [
    "# 1. 영화 목록 전체 정보를 추출\n",
    "#    --> 클릭 할 수 있는 태그를 찾아서 수집해야 함\n",
    "# #movieList > li > div.movie-list-info\n",
    "# div.movie-list-info\n",
    "\n",
    "### 영화 목록 전체 가지고 오기 위한 태그 경로 정의\n",
    "movie_list_path = \"div.movie-list-info\"\n",
    "\n",
    "### 태그 경로에 대한 태그정보 모두 조회하기\n",
    "# - find_elements 또는 find_element의 조회 결과 내에는 태그가 안보임\n",
    "#   (각 태그의 메모리 주소 정보만 가지고 있음)\n",
    "movie_elements = driver.find_elements(By.CSS_SELECTOR, movie_list_path)\n",
    "print(len(movie_elements))"
   ]
  },
  {
   "cell_type": "markdown",
   "metadata": {},
   "source": [
    "#### 20개 태그 정보(list 타입) 중에, 0번쨰 인덱스 태그 정보로 샘플링"
   ]
  },
  {
   "cell_type": "code",
   "execution_count": 5,
   "metadata": {},
   "outputs": [],
   "source": [
    "### 클릭 테스트 하기\n",
    "# - 0번째 태그 정보를 이용해서 실제 클릭 후 페이지 전환이 잘 되는지 확인\n",
    "# - 클릭(click) 처리 함수 : click() 함수 사용 (클릭 이벤트 함수라고 칭함)\n",
    "\n",
    "### 반환된 값운 0번째 태그 정보 자체 (리스트 아님)\n",
    "movie_elements[0]\n",
    "\n",
    "### 클릭 이벤트 처리 : 클릭 시키기\n",
    "movie_elements[0].click()"
   ]
  },
  {
   "cell_type": "code",
   "execution_count": 6,
   "metadata": {},
   "outputs": [],
   "source": [
    "### 다시 목록 페이지로 나오기(이전 페이지로 나오기)\n",
    "# - 웹 브라우저의 history 정보를 이용\n",
    "# - history 정보 : 페이지를 클릭하면서 이동한 이력정보를 가지고 있는 변수(브라우저가 관리)\n",
    "# - execute_script() : javascript 프로그램 처리 함수 (javascript 프로그램 코드 작성 가능)\n",
    "# - html의 이벤트 처리는 javascript 프로그램으로 처리\n",
    "\n",
    "### window.history.go(-1)\n",
    "# - window : html 페이지가 보이는 브라우저 자체\n",
    "# - history : 페이지 전환에 대한 이력 정보\n",
    "# - go() : 이동(이전 또는 다음), - 기호는 이전, -1은 이전페이지, -2는 이전-이전페이지\n",
    "driver.execute_script(\"window.history.go(-1)\")"
   ]
  },
  {
   "cell_type": "code",
   "execution_count": 7,
   "metadata": {},
   "outputs": [
    {
     "name": "stdout",
     "output_type": "stream",
     "text": [
      "0\n"
     ]
    }
   ],
   "source": [
    "### 예외처리\n",
    "# - 외부 연결 중 외부 물리적 연결에 문제가 발생한 경우 처리\n",
    "# - 보통 윈도우 내부의 파일 읽어들이기, 웹크롤링의 경우 접속하고자 하는 사이트가 중지된 경우 등등\n",
    "# - 문제가 발생할 부분의 코드를 try 영역에 작성\n",
    "#   --> 문제가 발생한 경우에 대한 처리 코드는 except 영역에 작성\n",
    "try :\n",
    "    # 1. 영화 목록 전체 정보를 추출\n",
    "    #    --> 클릭 할 수 있는 태그를 찾아서 수집해야 합니다.\n",
    "    # #movieList > li > div.movie-list-info\n",
    "    # div.movie-list-info\n",
    "    \n",
    "    ### 영화 목록 전체 가지고 오기 위한 태그 경로 정의\n",
    "    movie_list_path = \"div.movie-list-info\"\n",
    "    \n",
    "    ### 태그 경로에 대한 태그정보 모두 조회하기\n",
    "    # - find_elements 또는 find_element의 조회 결과 내에는 태그가 안보임\n",
    "    #   (각 태그의 메모리 주소 정보만 가지고 있음)\n",
    "    movie_elements = driver.find_elements(By.CSS_SELECTOR, movie_list_path)\n",
    "    print(len(movie_elements))\n",
    "    \n",
    "except :\n",
    "    print(\"예외 발생!! : find_elements()의 결과값을 가져오지 못했습니다.\")\n",
    "    movie_elements = []"
   ]
  },
  {
   "cell_type": "code",
   "execution_count": 8,
   "metadata": {},
   "outputs": [
    {
     "name": "stdout",
     "output_type": "stream",
     "text": [
      "수집된 영화 목록이 없습니다.\n"
     ]
    }
   ],
   "source": [
    "if len(movie_elements) >= 1 :\n",
    "    ### 클릭 이벤트 처리하기\n",
    "    movie_elements[0].click()\n",
    "else :\n",
    "    print(\"수집된 영화 목록이 없습니다.\")"
   ]
  },
  {
   "cell_type": "code",
   "execution_count": 9,
   "metadata": {},
   "outputs": [],
   "source": [
    "### 웹브라우저 종료하기\n",
    "driver.quit()"
   ]
  },
  {
   "cell_type": "code",
   "execution_count": 10,
   "metadata": {},
   "outputs": [],
   "source": [
    "# div.movie-list-info"
   ]
  },
  {
   "cell_type": "markdown",
   "metadata": {},
   "source": [
    "#### 영화목록 하단의 [더보기] 버튼 처리\n",
    "- 더보기\n",
    "    - 더보기 버튼 클릭 시 목록 20개 추가\n",
    "    - 더보기 버튼이 안보이는 시점에 모든 영화 목록 전체를 가지고 옴\n",
    "        - 한번에 모든 영화 목록 태그 정보를 수집할 수 있음 (방법 적인 부분으로, 분석가 마음)\n",
    "\n",
    "- 더보기 버튼 처리 순서\n",
    "- 1. [더보기] 버튼의 태그 정보를 추출하기 위한 태그 경로(패턴) 찾기\n",
    "- 2. 찾은 태그를 이용해서 -> [더보기] 클릭 처리하기 -> [더보기] 버튼이 보이지 않을때까지 계속 클릭\n",
    "- 3. [더보기] 버튼이 안보이는 시점에서 -> 모든 목록이 보임\n",
    "    - -> 모든 목록이 보이는 시점의 현재 페이지 정보를 인식(현재 페이지 html 코드 수집) 해야\n",
    "        (클릭 또는 이전/이후에 대한 처리 후에는 전환 후 페이지 html 코드를 다시 인식해야함)"
   ]
  },
  {
   "cell_type": "code",
   "execution_count": 11,
   "metadata": {},
   "outputs": [],
   "source": [
    "### 크롬브라우저 open 하는 코드를 함수로\n",
    "# - url을 받아서 요청 및 응답받는 처리까지 모두 수행하는 함수\n",
    "# - 드라이버 변수를 반환\n",
    "# 함수이름 : getDriver()\n",
    "\n",
    "def getDriver(url) :\n",
    "    new_driver = webdriver.Chrome()\n",
    "    new_driver.get(url)\n",
    "    return new_driver"
   ]
  },
  {
   "cell_type": "markdown",
   "metadata": {},
   "source": [
    "### 크롬부라우저 열기\n",
    "driver = getDriver(\"https://www.megabox.co.kr/movie\")\n",
    "driver"
   ]
  },
  {
   "cell_type": "code",
   "execution_count": 13,
   "metadata": {},
   "outputs": [
    {
     "data": {
      "text/plain": [
       "<selenium.webdriver.remote.webelement.WebElement (session=\"ffbd5a3b9ad9090543db570b8a576331\", element=\"f.832E7461E37672498125CD19B0575A87.d.D070BCC972EA657F8A5056FAC455AA63.e.67\")>"
      ]
     },
     "execution_count": 13,
     "metadata": {},
     "output_type": "execute_result"
    }
   ],
   "source": [
    "# 1. [더보기] 버튼의 태그 정보를 추출하기 위한 태그 경로(패턴) 찾기\n",
    "# [더보기] 태그 경로 : #btnAddMovie\n",
    "more_view_path = \"#btnAddMovie\"\n",
    "\n",
    "### [더보기] 태그 정보 추출\n",
    "# 변수명 : more_view_element\n",
    "more_view_element = driver.find_element(By.CSS_SELECTOR, more_view_path)\n",
    "more_view_element"
   ]
  },
  {
   "cell_type": "code",
   "execution_count": 14,
   "metadata": {},
   "outputs": [],
   "source": [
    "### 클릭 이벤트 한번 처리해 보기\n",
    "# - [더보기] 버튼이 안보이는 상태에서, 아래 클릭 코드를 실행하면 오류 발생\n",
    "try :\n",
    "    more_view_element.click()\n",
    "    \n",
    "except :\n",
    "    print(\"[더보기] 버튼이 더 이상 보이지 않습니다.\")"
   ]
  },
  {
   "cell_type": "markdown",
   "metadata": {},
   "source": [
    "### 더보기 버튼 모두 펼쳐 놓는 코드 작성"
   ]
  },
  {
   "cell_type": "code",
   "execution_count": 15,
   "metadata": {},
   "outputs": [
    {
     "data": {
      "text/plain": [
       "<selenium.webdriver.chrome.webdriver.WebDriver (session=\"be3f31e7da37c38430deb4ccb314c054\")>"
      ]
     },
     "execution_count": 15,
     "metadata": {},
     "output_type": "execute_result"
    }
   ],
   "source": [
    "### 크롬부라우저 열기\n",
    "driver = getDriver(\"https://www.megabox.co.kr/movie\")\n",
    "driver"
   ]
  },
  {
   "cell_type": "code",
   "execution_count": 16,
   "metadata": {},
   "outputs": [],
   "source": [
    "# 1. [더보기] 버튼의 태그 정보를 추출하기 위한 태그 경로(패턴) 찾기\n",
    "# [더보기] 태그 경로 : #btnAddMovie\n",
    "more_view_path = \"#btnAddMovie\"\n",
    "\n",
    "### [더보기] 태그 정보 추출해 주세요..\n",
    "# 변수명 : more_view_element\n",
    "more_view_element = driver.find_element(By.CSS_SELECTOR, more_view_path)"
   ]
  },
  {
   "cell_type": "code",
   "execution_count": 17,
   "metadata": {},
   "outputs": [
    {
     "name": "stdout",
     "output_type": "stream",
     "text": [
      "[더보기] 버튼이 더 이상 보이지 않습니다.\n",
      "총 반복 횟수 : 5\n"
     ]
    }
   ],
   "source": [
    "### [더보기] 버튼이 안보일 때 까지 클릭해서 모든 목록을 펼처 놓기 위한 코드 작성\n",
    "\n",
    "cnt = 0\n",
    "while True :\n",
    "    try :\n",
    "        ### 더보기 클릭 처리\n",
    "        more_view_element.click()\n",
    "        \n",
    "        ### 브라우저에서 클릭 후 로딩하는 시간 동안 프로그램은 잠시 대기 처리\n",
    "        # - 1초 대기\n",
    "        time.sleep(1)\n",
    "\n",
    "        ### cnt 1씩 증가시키기\n",
    "        # or cnt += 1\n",
    "        cnt = cnt + 1\n",
    "        \n",
    "    except :\n",
    "        print(\"[더보기] 버튼이 더 이상 보이지 않습니다.\")\n",
    "        break\n",
    "\n",
    "### 총 반복횟수 출력하기\n",
    "print(f\"총 반복 횟수 : {cnt}\")"
   ]
  },
  {
   "cell_type": "markdown",
   "metadata": {},
   "source": [
    "##### 모든 목록이 보이는 시점의 현재 페이지 정보를 인식(현재 페이지 html 코드 수집) 해야 함\n",
    "##### (클릭 또는 이전/이후에 대한 처리 후에는 전환 후 페이지 html 코드를 다시 인식해야함)"
   ]
  },
  {
   "cell_type": "code",
   "execution_count": 18,
   "metadata": {},
   "outputs": [],
   "source": [
    "### window_handles : 페이지 변경 사항에 대한 정보를 담고 있음\n",
    "# - 클릭 후 페이지 변경이 되면, 해당 window_handles 리스트에 정보가 하나씩 추가됨\n",
    "# - 마지막 리스트 값을 사용\n",
    "# - window_handles의 결과값은 리스트 타입\n",
    "page_handle = driver.window_handles[-1]\n",
    "page_handle\n",
    "\n",
    "### window_handles의 마지막 값을 브라우저, 즉 window에 다시 반영 시켜야 함\n",
    "driver.switch_to.window(page_handle)"
   ]
  },
  {
   "cell_type": "code",
   "execution_count": 19,
   "metadata": {},
   "outputs": [],
   "source": [
    "### 위 코드를 함수로 정의해서 사용하기\n",
    "# - 함수 이름 : setWindowPage\n",
    "def setWindowPage(p_driver) :\n",
    "    ### window_handles : 페이지 변경 사항에 대한 정보를 담고 있음\n",
    "    # - 클릭 후 페이지 변경이 되면, 해당 window_handles 리스트에 정보가 하나씩 추가\n",
    "    # - 마지막 리스트 값을 사용하면 됨\n",
    "    # - window_handles의 결과값은 리스트 타입\n",
    "    page_handle = p_driver.window_handles[-1]\n",
    "    page_handle\n",
    "    \n",
    "    ### window_handles의 마지막 값을 브라우저, 즉 window에 다시 반영 시켜야 함\n",
    "    p_driver.switch_to.window(page_handle)\n",
    "\n",
    "    time.sleep(1)"
   ]
  },
  {
   "cell_type": "code",
   "execution_count": 20,
   "metadata": {},
   "outputs": [],
   "source": [
    "### 현재 변경된 페이지 인식하기\n",
    "setWindowPage(driver)"
   ]
  },
  {
   "cell_type": "markdown",
   "metadata": {},
   "source": [
    "#### [더보기] 이후 전체 목록 정보 조회하기"
   ]
  },
  {
   "cell_type": "code",
   "execution_count": 21,
   "metadata": {},
   "outputs": [
    {
     "name": "stdout",
     "output_type": "stream",
     "text": [
      "103\n"
     ]
    }
   ],
   "source": [
    "try :\n",
    "    # 1. 영화 목록 전체 정보를 추출\n",
    "    #    --> 클릭 할 수 있는 태그를 찾아서 수집해야 함\n",
    "    ### 영화 목록 전체 가지고 오기 위한 태그 경로 정의\n",
    "    movie_list_path = \"div.movie-list-info\"\n",
    "    \n",
    "    ### 태그 경로에 대한 태그정보 모두 조회하기\n",
    "    # - find_elements 또는 find_element의 조회 결과 내에는 태그가 안보임\n",
    "    #   (각 태그의 메모리 주소 정보만 가지고 있음)\n",
    "    movie_elements = driver.find_elements(By.CSS_SELECTOR, movie_list_path)\n",
    "    print(len(movie_elements))\n",
    "    \n",
    "except :\n",
    "    print(\"예외 발생!! : find_elements()의 결과값을 가져오지 못했습니다.\")\n",
    "    movie_elements = []"
   ]
  },
  {
   "cell_type": "markdown",
   "metadata": {},
   "source": [
    "#### 영화목록 1개를 기준으로 샘플링 하기"
   ]
  },
  {
   "cell_type": "code",
   "execution_count": 22,
   "metadata": {},
   "outputs": [],
   "source": [
    "### 영화목록 1개 추출하여, 클릭해서 정보 페이지로 전환하기\n",
    "movie_elements[4].click()"
   ]
  },
  {
   "cell_type": "code",
   "execution_count": 23,
   "metadata": {},
   "outputs": [],
   "source": [
    "### 페이지 전환 이후 전환된 페이지를 window(브라우저)에 인식 시키기\n",
    "setWindowPage(driver)"
   ]
  },
  {
   "cell_type": "code",
   "execution_count": 24,
   "metadata": {},
   "outputs": [],
   "source": [
    "### 영화 상세 정보 추출하기\n",
    "#  : 영화제목, 실관람평점, 예매순위, 예매율, 누적관객수\n",
    "#  : 영화제목, 개별관람평점, 개별관란명내용, 긍정(관람평점6이상)/부정(관렴평점6미만)"
   ]
  },
  {
   "cell_type": "code",
   "execution_count": 25,
   "metadata": {},
   "outputs": [
    {
     "name": "stdout",
     "output_type": "stream",
     "text": [
      "영화제목 : 캡틴 아메리카: 브레이브 뉴 월드\n"
     ]
    }
   ],
   "source": [
    "# - [영화 제목] 추출하기\n",
    "# - 영화제목이 있는 태그 경로 정의하기\n",
    "title_path = \"#contents > div.movie-detail-page > div.movie-detail-cont > p.title\"\n",
    "\n",
    "### 영화제목이 있는 태그 정보 추출하기\n",
    "title_element = driver.find_element(By.CSS_SELECTOR, title_path)\n",
    "\n",
    "### 추출한 태그에서 영화제목 text 추출하여 출력하기\n",
    "title = title_element.text\n",
    "print(f\"영화제목 : {title}\")"
   ]
  },
  {
   "cell_type": "code",
   "execution_count": 26,
   "metadata": {},
   "outputs": [
    {
     "name": "stdout",
     "output_type": "stream",
     "text": [
      "실관람평 : 8.3\n"
     ]
    }
   ],
   "source": [
    "### [실관람평] 추출하기\n",
    "# - 실관람평 태그 경로 정의\n",
    "score_path = \"#mainMegaScore > p > em\"\n",
    "\n",
    "# - 실관람평 태그 추출하기\n",
    "score_element = driver.find_element(By.CSS_SELECTOR, score_path)\n",
    "\n",
    "# - 실관람평 텍스트 추출하기\n",
    "score = score_element.text\n",
    "print(f\"실관람평 : {score}\")"
   ]
  },
  {
   "cell_type": "code",
   "execution_count": 27,
   "metadata": {},
   "outputs": [
    {
     "name": "stdout",
     "output_type": "stream",
     "text": [
      "예매순위 : 5\n",
      "예매율 : 4.2\n"
     ]
    }
   ],
   "source": [
    "### [예매순위] 및 [예매율] 추출하기\n",
    "# - 예매순위 텍스트값을 담을 변수명 : level\n",
    "# - 예매율 텍스트값을 담을 변수명 : rate\n",
    "#    -> 예매율은 selector가 안될겁니다. (selector 되는 시점의 태그를 찾아야 합니다.)\n",
    "# - hint : 문자열.split(\"구분자\") 함수 사용 -> 함수 결과는 구분된 값을 리스트(list)로 반환\n",
    "\n",
    "rate_level_path = \"#contents > div.movie-detail-page > div.movie-detail-cont > div.info > div.rate > p.cont\"\n",
    "rate_level_element = driver.find_element(By.CSS_SELECTOR, rate_level_path)\n",
    "rate_level = rate_level_element.text\n",
    "# '5위 (4.7%)'\n",
    "### 문자열에서 띄어쓰기로 구분하여 리스트로 만들기 : split() 함수 사용\n",
    "# - 띄어쓰기 구분자는 생략가능(기본값으로 사용됨)\n",
    "temp_split = rate_level.split(\" \")\n",
    "temp_split\n",
    "\n",
    "### 예매순위 추출하기\n",
    "level = temp_split[0][:-1]\n",
    "print(f\"예매순위 : {level}\")\n",
    "\n",
    "### 예매율 추출하기\n",
    "rate = temp_split[1][1:][:-2]\n",
    "print(f\"예매율 : {rate}\")"
   ]
  },
  {
   "cell_type": "code",
   "execution_count": 28,
   "metadata": {},
   "outputs": [
    {
     "data": {
      "text/plain": [
       "'1343688'"
      ]
     },
     "execution_count": 28,
     "metadata": {},
     "output_type": "execute_result"
    }
   ],
   "source": [
    "### 누적관객수 추출하기\n",
    "# - 값을 저장할 변수명 : audiance\n",
    "# - 최종 값에서 콤마(,)는 제외하고 숫자만 추출하여 변수에 저장하기\n",
    "audiance_path = \"#contents > div.movie-detail-page > div.movie-detail-cont > \"\n",
    "audiance_path += \"div.info > div.audience > p > em\"\n",
    "\n",
    "audiance_element = driver.find_element(By.CSS_SELECTOR, audiance_path)\n",
    "\n",
    "# 결과값에서 '1,312,372' -> 콤마 제거 -> replace() 함수 사용\n",
    "audiance = audiance_element.text.replace(\",\", \"\")\n",
    "audiance"
   ]
  },
  {
   "cell_type": "markdown",
   "metadata": {},
   "source": [
    "#### [실관람평] 탭을 클릭하여 개별 관련 평점 및 평내용 추출하기"
   ]
  },
  {
   "cell_type": "code",
   "execution_count": 29,
   "metadata": {},
   "outputs": [
    {
     "name": "stdout",
     "output_type": "stream",
     "text": [
      "실관람평\n",
      "https://www.megabox.co.kr/on/oh/oha/Movie/selectMovieOneDetail.do\n"
     ]
    }
   ],
   "source": [
    "### [실관람평] 탭 클릭을 위한 태그 정보 추출하기\n",
    "# - 탭 경로 정의\n",
    "movie_tab_path = \"#contentData > div:nth-child(5) > div.tab-list.fixed > ul \"\n",
    "movie_tab_path += \"> li:nth-child(2) > a\"\n",
    "\n",
    "# - 탭 태그 정보 추출\n",
    "movie_tab_element = driver.find_element(By.CSS_SELECTOR, movie_tab_path)\n",
    "\n",
    "# - 탭 태그 텍스트 추출해 보기\n",
    "print(movie_tab_element.text)\n",
    "\n",
    "# - 탭 태그의 링크 주소(url) 추출해 보기\n",
    "#  -- a = {href:\"url\"}\n",
    "#  --> BeautifulSoup 방식 : 태그변수[\"href\"] \n",
    "#  --> selenium 방식 : 속성의 값 추출하는 함수 : 태그변수.get_attribute(\"href\")\n",
    "print(movie_tab_element.get_attribute(\"href\"))"
   ]
  },
  {
   "cell_type": "code",
   "execution_count": 30,
   "metadata": {},
   "outputs": [],
   "source": [
    "### [실관람평] 탭 클릭 처리하기\n",
    "movie_tab_element.click()"
   ]
  },
  {
   "cell_type": "code",
   "execution_count": 31,
   "metadata": {},
   "outputs": [],
   "source": [
    "### 클릭 이벤트 처리 후에는 브라우저에 현재 페이지 정보 인식시키기\n",
    "setWindowPage(driver)"
   ]
  },
  {
   "cell_type": "code",
   "execution_count": 32,
   "metadata": {},
   "outputs": [
    {
     "name": "stdout",
     "output_type": "stream",
     "text": [
      "개별관람평점 전체 태그 조회 갯수 :  10\n",
      "0번째 개별관람평 평점 : 8\n"
     ]
    }
   ],
   "source": [
    "### [개별 관람평점] 추출하기\n",
    "# - 개별관람평점 태그 경로 정의\n",
    "# div.story-area > div.story-box > div > div.story-cont > div.story-point > span\n",
    "# div.story-area > div.story-box > div > div.story-cont > div.story-point > span\n",
    "use_score_path = \"div.story-area > div.story-box > div > div.story-cont > div.story-point > span\"\n",
    "\n",
    "# - 개별관람평점이 있는 모든 태그 정보 추출하기\n",
    "use_score_elements = driver.find_elements(By.CSS_SELECTOR, use_score_path)\n",
    "print(\"개별관람평점 전체 태그 조회 갯수 : \", len(use_score_elements))\n",
    "\n",
    "# - 0번째 태그의 텍스트 값 추출하여 출력해 보기\n",
    "use_score = use_score_elements[0].text\n",
    "print(f\"0번째 개별관람평 평점 : {use_score}\")"
   ]
  },
  {
   "cell_type": "code",
   "execution_count": 33,
   "metadata": {},
   "outputs": [
    {
     "name": "stdout",
     "output_type": "stream",
     "text": [
      "개별관렴평 내용 태그 갯수 :  10\n",
      "0번째 개별관람평 내용 : 확실히 어거지 스토리인듯\n"
     ]
    }
   ],
   "source": [
    "### 개별 관람평 내용 모두 추출하기\n",
    "# - 개별관람평 내용 태그 경로\n",
    "# div.story-area > div.story-box > div > div.story-cont > div.story-txt\n",
    "# div.story-area > div.story-box > div > div.story-cont > div.story-txt\n",
    "use_content_path = \"div.story-area > div.story-box > div > div.story-cont > div.story-txt\"\n",
    "\n",
    "# - 개별관람평 내용 태그 정보 추출\n",
    "use_content_elements = driver.find_elements(By.CSS_SELECTOR, use_content_path)\n",
    "print(\"개별관렴평 내용 태그 갯수 : \", len(use_content_elements))\n",
    "\n",
    "# - 0번째 태그의 개별관람평 내용 텍스트 출력해 보기\n",
    "use_content = use_content_elements[0].text\n",
    "print(f\"0번째 개별관람평 내용 : {use_content}\")"
   ]
  },
  {
   "cell_type": "code",
   "execution_count": 34,
   "metadata": {},
   "outputs": [],
   "source": [
    "### 현재 영화정보에 대한 수집이 완료되면, \n",
    "# - 전체 목록 페이지로 돌아가지 : 이전페이지로 가기\n",
    "driver.execute_script(\"window.history.go(-1)\")\n",
    "# - 이전페이지 로딩되는 시간동안 프로그램 실행 잠시 대기\n",
    "time.sleep(1)"
   ]
  },
  {
   "cell_type": "code",
   "execution_count": 35,
   "metadata": {},
   "outputs": [],
   "source": [
    "### 브라우저 종료\n",
    "driver.quit()"
   ]
  }
 ],
 "metadata": {
  "kernelspec": {
   "display_name": "base",
   "language": "python",
   "name": "python3"
  },
  "language_info": {
   "codemirror_mode": {
    "name": "ipython",
    "version": 3
   },
   "file_extension": ".py",
   "mimetype": "text/x-python",
   "name": "python",
   "nbconvert_exporter": "python",
   "pygments_lexer": "ipython3",
   "version": "3.12.7"
  }
 },
 "nbformat": 4,
 "nbformat_minor": 2
}
