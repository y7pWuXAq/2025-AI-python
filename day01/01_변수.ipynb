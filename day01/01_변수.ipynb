{
 "cells": [
  {
   "cell_type": "code",
   "execution_count": 3,
   "id": "b8a2a075-ba26-415c-938e-f3a056b8e958",
   "metadata": {},
   "outputs": [
    {
     "name": "stdout",
     "output_type": "stream",
     "text": [
      "파이썬 프로그램 시작 합니다22222.....\n"
     ]
    }
   ],
   "source": [
    "### 문자를 출력하는 프로그램 처리\n",
    "print(\"파이썬 프로그램 시작 합니다22222.....\")\n",
    "\n",
    "### 실행방법 \n",
    "# - [Shift + Enter] : 가장 많이 사용하는 실행 단축키\n",
    "# - [Alt + Enter] : 중간에 cell박스 생성하고자 할 때 (실행 + cell 박스 생성)\n",
    "# - [Ctrl + Enter] : 현재 cell 박스에서만 실행(별도의 cell박스 생성 안함)\n",
    "\n",
    "### 셀박스 삭제 : DD\n",
    "\n",
    "### 한줄 또는 여러줄 위/아래로 복사\n",
    "# - [Shift + Alt + 화살표(위 또는 아래)\n"
   ]
  },
  {
   "cell_type": "code",
   "execution_count": 9,
   "id": "796a50ed-76c2-41de-9c4c-6e9bab835624",
   "metadata": {},
   "outputs": [
    {
     "data": {
      "text/plain": [
       "'\\n문장..\\n..\\n'"
      ]
     },
     "execution_count": 9,
     "metadata": {},
     "output_type": "execute_result"
    }
   ],
   "source": [
    "# 한줄 주석 : 샵(#)을 이용합니다. 여러개 사용 가능\n",
    "### 문장 단위 주석 : 따옴표 3개씩 앞뒤로 사용 \"\"\"문장\"\"\" or '''문장'''\n",
    "\"\"\"\n",
    "문장\n",
    "문장\n",
    "\"\"\"\n",
    "\n",
    "'''\n",
    "문장..\n",
    "..\n",
    "'''"
   ]
  },
  {
   "cell_type": "code",
   "execution_count": 10,
   "id": "fcab4756-f690-4963-8527-1de90ebab511",
   "metadata": {},
   "outputs": [
    {
     "data": {
      "text/plain": [
       "'\\n문장..\\n..\\n'"
      ]
     },
     "execution_count": 10,
     "metadata": {},
     "output_type": "execute_result"
    }
   ],
   "source": [
    "### 주석 : 사람이 설명을 달아 놓는 내용으로, 프로그램 실행에서 제외됨\n",
    "# 한줄 주석 : 샵(#)을 이용합니다. 여러개 사용 가능\n",
    "### 문장 단위 주석 : 따옴표 3개씩 앞뒤로 사용 \"\"\"문장\"\"\" or '''문장'''\n",
    "\"\"\"\n",
    "문장\n",
    "문장\n",
    "\"\"\"\n",
    "\n",
    "'''\n",
    "문장..\n",
    "..\n",
    "'''"
   ]
  },
  {
   "cell_type": "markdown",
   "id": "5f5ed4de-578a-46b4-a4ae-b1a71d7ba9d9",
   "metadata": {},
   "source": [
    "# 제목 넣기\n",
    "## 제목 넣기\n",
    "### 제목 넣기\n",
    "#### 제목 넣기\n",
    "##### 제목 넣기\n",
    "###### 제목 넣기\n",
    "####### 제목 넣기"
   ]
  },
  {
   "cell_type": "code",
   "execution_count": null,
   "id": "b01ec001-2cf8-43d5-b190-e375dcd73290",
   "metadata": {},
   "outputs": [],
   "source": [
    "\"\"\"\n",
    "<프로그램을 하는 이유>\n",
    " - 컴퓨터에게 명령을 내려서 무엇인가를 실행하도록 처리하기 위해\n",
    "\n",
    "<프로그래밍 실행 순수>\n",
    " 1. 사람이 알고 있는 언어로 작성 합니다.\n",
    "   - 작성하는 곳 : 누군가가 편하게 만들어 놓은 에디터(메모장, VSCode, Jupyt Notebook..등등)\n",
    "   - 작성하는 언어 : 프로그램 언어라고 합니다.(Java, C, Python 등등...)\n",
    "\n",
    "  ** 1번과 2번을 커널(Kernel)을 통해서 연결해 놓음(아나콘다 및 파이썬 환경 모두 동일)\n",
    "    - 커널(Kernel) : 통로라는 의미, 내가 사용할 가상공간을 지정\n",
    "\n",
    " 2. 작성한 언어를 해석기(컴파일러)를 통해서 해석 시킵니다.\n",
    "   - 사람이 알고 있는 언어를 -> 컴퓨터가 알수 있는 언어(숫자)로 변환하는 과정을 거칩니다.\n",
    "   - 이 과정을 컴파일 과정이라고 합니다.\n",
    "   - 컴파일러(python.exe, jdk.exe, vs.exe) => 라이브러리 포함\n",
    "   - 파이썬 아나콘다 환경에서는 base 가상공간에 python.exe 라이브러리가 설치되어 관리됨\n",
    "     (새로운 가상공간을 만들경우, 각 가상공간마다 python.exe가 존재함)\n",
    "\n",
    " 3. 컴퓨터의 물리적 위치에 결과를 저장 또는 보여줍니다.\n",
    "   - 컴퓨터 언어를 -> 사람이 이해하는 언어로 변환 시켜서 보여줍니다.\n",
    "   - 저장 위치 : 물리적 저장장치(RAM, HDD, SSD, USB 등등..)\n",
    "   - 보여주는 위치 : 모니터(터미널, 에디터 내에 출력)\n",
    "\"\"\""
   ]
  },
  {
   "cell_type": "markdown",
   "id": "1059b940-c3fe-4891-bd8d-06788ffb4306",
   "metadata": {},
   "source": [
    "### 기본 문법"
   ]
  },
  {
   "cell_type": "markdown",
   "id": "d99acf5f-7980-46cc-87f5-d941fbcb0ab0",
   "metadata": {},
   "source": [
    "#### 변수"
   ]
  },
  {
   "cell_type": "code",
   "execution_count": null,
   "id": "508306a9-26c2-4f5c-965c-df904e5dbd79",
   "metadata": {},
   "outputs": [],
   "source": [
    "### 다양한 타입의 값들을 저장해 놓은 곳\n",
    "# - 저장된 곳 : 컴퓨터의 메모리\n",
    "# - 사람이 알고 있는 건 변수명\n",
    "# - 컴퓨터가 알고 있는 건 주소값\n",
    "# - 변수명은 주소값을 가집니다.\n",
    "# - 값이 저장된 공간마다 임의 주소가 만들어집니다.(사람은 관여하지 않습니다. PC가 알아서....)\n",
    "# (중요) 파이썬에서는 모든 순서는 0부터 시작 합니다."
   ]
  },
  {
   "cell_type": "code",
   "execution_count": 4,
   "id": "a4823bf9-13e0-4779-8f08-3f1f524f2cf9",
   "metadata": {},
   "outputs": [],
   "source": [
    "# a라는 변수명에 정수값 100을 담습니다.\n",
    "# a의 변수 타입은 : 정수(int) 타입\n",
    "a = 100"
   ]
  },
  {
   "cell_type": "code",
   "execution_count": 5,
   "id": "071958c0-96a9-4310-8ce9-1e81e31697f2",
   "metadata": {},
   "outputs": [
    {
     "name": "stdout",
     "output_type": "stream",
     "text": [
      "100\n"
     ]
    }
   ],
   "source": [
    "print(a)"
   ]
  },
  {
   "cell_type": "code",
   "execution_count": 6,
   "id": "8e0fe513-ce4b-417a-8aa2-c8c5343c3ccc",
   "metadata": {},
   "outputs": [],
   "source": [
    "# a의 변수 타입은 : 실수(float) 타입\n",
    "a = 1.1"
   ]
  },
  {
   "cell_type": "code",
   "execution_count": 7,
   "id": "157f7498-ca76-49fc-8434-0fa75b8e06c0",
   "metadata": {},
   "outputs": [],
   "source": [
    "# a의 변수 타입은 : 문자열(str) 타입\n",
    "a = \"파이썬\""
   ]
  },
  {
   "cell_type": "code",
   "execution_count": 8,
   "id": "5c57afc2-56a5-477c-8578-fb47a45252a9",
   "metadata": {},
   "outputs": [],
   "source": [
    "# a의 변수 타입은 : 참/거짓(bool) 타입\n",
    "a = True"
   ]
  },
  {
   "cell_type": "code",
   "execution_count": null,
   "id": "7f7fc5fd-7bb3-4e6e-8c4c-f519ed8d815c",
   "metadata": {},
   "outputs": [],
   "source": [
    "### c 또는 java 프로그램에서는 위에 처럼 자유롭지 못함\n",
    "# int a = 1\n",
    "# a = 1.1 (c 또는 java에서는 이렇게 안되고 오류 발생. 타입이 맞지 않다는 오류)"
   ]
  },
  {
   "cell_type": "markdown",
   "id": "ba833cbb-b6d4-40a4-81cc-c0cec6a298b5",
   "metadata": {},
   "source": [
    "#### 연산자"
   ]
  },
  {
   "cell_type": "code",
   "execution_count": null,
   "id": "229cde44-02de-4af1-a3d6-900108efe266",
   "metadata": {},
   "outputs": [],
   "source": [
    "\"\"\"\n",
    "<연산자의 종류>\n",
    " - 산술연산자 : +, -, *, /, ++, --\n",
    " \n",
    " - 조건(비교, 관계) 연산자 : >, <, >=, <=, ==, !=\n",
    "   (조건의 기준은 왼쪽 값을 기준으로 크기 비교합니다.)\n",
    "   \n",
    " - 논리 연산자 : (조건1) and (조건2), \n",
    "                (조건1) or (조건2), \n",
    "                not(조건1)\n",
    "\"\"\""
   ]
  },
  {
   "cell_type": "code",
   "execution_count": 10,
   "id": "e8437299-008f-4ec9-9e6a-88d8c21c80e3",
   "metadata": {},
   "outputs": [
    {
     "name": "stdout",
     "output_type": "stream",
     "text": [
      "1\n"
     ]
    }
   ],
   "source": [
    "1\n",
    "print(1)"
   ]
  },
  {
   "cell_type": "code",
   "execution_count": 11,
   "id": "86fe556f-07c4-4a3f-b9e1-638d7a337853",
   "metadata": {},
   "outputs": [],
   "source": [
    "a = 1"
   ]
  },
  {
   "cell_type": "code",
   "execution_count": 12,
   "id": "866654d8-38a9-4b77-b35e-13a600039e14",
   "metadata": {},
   "outputs": [
    {
     "name": "stdout",
     "output_type": "stream",
     "text": [
      "1\n"
     ]
    }
   ],
   "source": [
    "print(a)"
   ]
  },
  {
   "cell_type": "code",
   "execution_count": 13,
   "id": "074bfdb0-12b2-4f18-b994-28d9216302e6",
   "metadata": {},
   "outputs": [],
   "source": [
    "a = 2"
   ]
  },
  {
   "cell_type": "code",
   "execution_count": 14,
   "id": "c24a490f-542d-4092-aa09-1087017eef83",
   "metadata": {},
   "outputs": [
    {
     "data": {
      "text/plain": [
       "2"
      ]
     },
     "execution_count": 14,
     "metadata": {},
     "output_type": "execute_result"
    }
   ],
   "source": [
    "a"
   ]
  },
  {
   "cell_type": "code",
   "execution_count": 15,
   "id": "023ff61d-46d3-46c7-999b-911a890db648",
   "metadata": {},
   "outputs": [],
   "source": [
    "a = 1\n",
    "b = 1.1\n",
    "c = \"파이썬\"\n",
    "d = True"
   ]
  },
  {
   "cell_type": "code",
   "execution_count": 16,
   "id": "15153e54-633b-48ae-8817-f399cad0debd",
   "metadata": {},
   "outputs": [
    {
     "data": {
      "text/plain": [
       "2.1"
      ]
     },
     "execution_count": 16,
     "metadata": {},
     "output_type": "execute_result"
    }
   ],
   "source": [
    "a + b"
   ]
  },
  {
   "cell_type": "code",
   "execution_count": 17,
   "id": "5316bd5f-cb51-4c94-aee2-92952b1e75aa",
   "metadata": {},
   "outputs": [
    {
     "ename": "TypeError",
     "evalue": "unsupported operand type(s) for +: 'int' and 'str'",
     "output_type": "error",
     "traceback": [
      "\u001b[1;31m---------------------------------------------------------------------------\u001b[0m",
      "\u001b[1;31mTypeError\u001b[0m                                 Traceback (most recent call last)",
      "Cell \u001b[1;32mIn[17], line 1\u001b[0m\n\u001b[1;32m----> 1\u001b[0m \u001b[43ma\u001b[49m\u001b[43m \u001b[49m\u001b[38;5;241;43m+\u001b[39;49m\u001b[43m \u001b[49m\u001b[43mc\u001b[49m\n",
      "\u001b[1;31mTypeError\u001b[0m: unsupported operand type(s) for +: 'int' and 'str'"
     ]
    }
   ],
   "source": [
    "a + c"
   ]
  },
  {
   "cell_type": "code",
   "execution_count": 18,
   "id": "7d3d0317-85ec-4cf3-ab0b-94e83cb680ea",
   "metadata": {},
   "outputs": [
    {
     "data": {
      "text/plain": [
       "2"
      ]
     },
     "execution_count": 18,
     "metadata": {},
     "output_type": "execute_result"
    }
   ],
   "source": [
    "a + d"
   ]
  },
  {
   "cell_type": "code",
   "execution_count": 19,
   "id": "6f9fb9b1-15fc-4193-bb63-744b1643308e",
   "metadata": {},
   "outputs": [
    {
     "data": {
      "text/plain": [
       "'파이썬파이썬'"
      ]
     },
     "execution_count": 19,
     "metadata": {},
     "output_type": "execute_result"
    }
   ],
   "source": [
    "# 문자열 산술연산자는 +만 사용 가능합니다.\n",
    "# 단, 문자와 문자간의 + 연산만 가능합니다.\n",
    "c + c"
   ]
  },
  {
   "cell_type": "code",
   "execution_count": 20,
   "id": "a7498121-a495-4445-b995-b567d14f2ad7",
   "metadata": {},
   "outputs": [
    {
     "data": {
      "text/plain": [
       "False"
      ]
     },
     "execution_count": 20,
     "metadata": {},
     "output_type": "execute_result"
    }
   ],
   "source": [
    "### 조건 연산자의 결과는 bool 타입(True or False)로 결과를 반환해 줍니다.\n",
    "a > b"
   ]
  },
  {
   "cell_type": "code",
   "execution_count": 21,
   "id": "05deb1be-e617-4d02-acba-02a07c6a42ea",
   "metadata": {},
   "outputs": [
    {
     "ename": "TypeError",
     "evalue": "'>' not supported between instances of 'int' and 'str'",
     "output_type": "error",
     "traceback": [
      "\u001b[1;31m---------------------------------------------------------------------------\u001b[0m",
      "\u001b[1;31mTypeError\u001b[0m                                 Traceback (most recent call last)",
      "Cell \u001b[1;32mIn[21], line 1\u001b[0m\n\u001b[1;32m----> 1\u001b[0m \u001b[43ma\u001b[49m\u001b[43m \u001b[49m\u001b[38;5;241;43m>\u001b[39;49m\u001b[43m \u001b[49m\u001b[43mc\u001b[49m\n",
      "\u001b[1;31mTypeError\u001b[0m: '>' not supported between instances of 'int' and 'str'"
     ]
    }
   ],
   "source": [
    "a > c"
   ]
  },
  {
   "cell_type": "code",
   "execution_count": 22,
   "id": "2bfcee09-15c0-4c31-aeaf-4eabcb5c02db",
   "metadata": {},
   "outputs": [
    {
     "ename": "TypeError",
     "evalue": "'>' not supported between instances of 'int' and 'str'",
     "output_type": "error",
     "traceback": [
      "\u001b[1;31m---------------------------------------------------------------------------\u001b[0m",
      "\u001b[1;31mTypeError\u001b[0m                                 Traceback (most recent call last)",
      "Cell \u001b[1;32mIn[22], line 1\u001b[0m\n\u001b[1;32m----> 1\u001b[0m \u001b[43ma\u001b[49m\u001b[43m \u001b[49m\u001b[38;5;241;43m>\u001b[39;49m\u001b[43m \u001b[49m\u001b[38;5;124;43m'\u001b[39;49m\u001b[38;5;124;43ma\u001b[39;49m\u001b[38;5;124;43m'\u001b[39;49m\n",
      "\u001b[1;31mTypeError\u001b[0m: '>' not supported between instances of 'int' and 'str'"
     ]
    }
   ],
   "source": [
    "a > 'a'"
   ]
  },
  {
   "cell_type": "code",
   "execution_count": 24,
   "id": "83fbca6a-6240-4534-ba7e-13e240aa6b02",
   "metadata": {},
   "outputs": [
    {
     "data": {
      "text/plain": [
       "True"
      ]
     },
     "execution_count": 24,
     "metadata": {},
     "output_type": "execute_result"
    }
   ],
   "source": [
    "a >= d"
   ]
  },
  {
   "cell_type": "code",
   "execution_count": 25,
   "id": "585baf86-69ef-447d-bd24-0024a563fda5",
   "metadata": {},
   "outputs": [
    {
     "data": {
      "text/plain": [
       "False"
      ]
     },
     "execution_count": 25,
     "metadata": {},
     "output_type": "execute_result"
    }
   ],
   "source": [
    "### a가 b보다 크고, a가 d와 같은지 확인해 주세요..\n",
    "(a > b) and (a == d)"
   ]
  },
  {
   "cell_type": "code",
   "execution_count": 27,
   "id": "752f2a19-dcf7-4612-a0d0-ff24acc82726",
   "metadata": {},
   "outputs": [
    {
     "data": {
      "text/plain": [
       "True"
      ]
     },
     "execution_count": 27,
     "metadata": {},
     "output_type": "execute_result"
    }
   ],
   "source": [
    "### a가 b보다 크거나, a가 d와 같다면...결과 확인\n",
    "(a > b) or (a == d)"
   ]
  },
  {
   "cell_type": "markdown",
   "id": "eaccc0c8-e916-46a2-91f1-a0e51ddddb69",
   "metadata": {},
   "source": [
    "#### 조건문(if 문)"
   ]
  },
  {
   "cell_type": "code",
   "execution_count": null,
   "id": "247120ad-3de9-4dac-8aef-36f29bc48a2b",
   "metadata": {},
   "outputs": [],
   "source": [
    "\"\"\"\n",
    "- 조건연산 또는 논리연산자를 이용해서 \n",
    "  해당 조건이 참일 때 또는 거짓 일때 \n",
    "  처리하고자는 방법을 달리하고자 할 때 사용됩니다.\n",
    "- 문법\n",
    "if (조건연산 or 논리연산) :\n",
    "    처리 프로그램\n",
    "elif (조건연산 or 논리연산) :\n",
    "    처리 프로그램\n",
    "elif (조건연산 or 논리연산) :\n",
    "    처리 프로그램\n",
    "else :\n",
    "    처리 프로그램\n",
    "\n",
    "- 문법의 필수사항 : if는 필수, 나머지는 필요시 사용\n",
    "\"\"\""
   ]
  },
  {
   "cell_type": "code",
   "execution_count": 28,
   "id": "96c0a5e6-0b41-489c-9491-b009d10c73fe",
   "metadata": {},
   "outputs": [
    {
     "name": "stdout",
     "output_type": "stream",
     "text": [
      "a가 b보다 작습니다.\n"
     ]
    }
   ],
   "source": [
    "### a가 b보다 작다면 : \"a가 b보다 작습니다.\" 를 출력\n",
    "### a가 b보다 크다면 : \"a가 b보다 큽니다.\"를 출력\n",
    "### a와 b가 같다면 : \"a와 b는 같습니다.\"를 출력\n",
    "# 위 3가지 조건을 만족하는 조건문(if문)을 완성해 주세요.\n",
    "if a < b : \n",
    "    print(\"a가 b보다 작습니다.\")\n",
    "elif a > b :\n",
    "    print(\"a가 b보다 큽니다.\")\n",
    "elif a == b :\n",
    "    print(\"a와 b는 같습니다.\")\n"
   ]
  },
  {
   "cell_type": "code",
   "execution_count": 29,
   "id": "ad64b6c7-b859-463d-adba-2bfe3cd0bcb2",
   "metadata": {},
   "outputs": [
    {
     "name": "stdout",
     "output_type": "stream",
     "text": [
      "a가 b보다 작습니다.\n",
      "a와 d가 같습니다.\n"
     ]
    }
   ],
   "source": [
    "### 위에 문제에 추가해서\n",
    "# a가 b보다 작은 경우에는 \n",
    "#  -> a와 d가 같은지 같지 않은지 확인한 후,\n",
    "#  -> a와 d가 같다면 : \"a와 d가 같습니다.\" 출력\n",
    "#  -> a와 d가 같지 않다면 : \"a와 d는 같지 않습니다.\" 출력\n",
    "\n",
    "if a < b : \n",
    "    print(\"a가 b보다 작습니다.\")\n",
    "    \n",
    "    if a == d :\n",
    "        print(\"a와 d가 같습니다.\")\n",
    "    else :\n",
    "        ### else : 위 조건에 만족하는 것이 없다면, 무조건 수행하게 됨\n",
    "        print(\"a와 d는 같지 않습니다.\")\n",
    "    \n",
    "elif a > b :\n",
    "    print(\"a가 b보다 큽니다.\")\n",
    "elif a == b :\n",
    "    print(\"a와 b는 같습니다.\")"
   ]
  }
 ],
 "metadata": {
  "kernelspec": {
   "display_name": "base",
   "language": "python",
   "name": "python3"
  },
  "language_info": {
   "codemirror_mode": {
    "name": "ipython",
    "version": 3
   },
   "file_extension": ".py",
   "mimetype": "text/x-python",
   "name": "python",
   "nbconvert_exporter": "python",
   "pygments_lexer": "ipython3",
   "version": "3.12.7"
  }
 },
 "nbformat": 4,
 "nbformat_minor": 5
}
