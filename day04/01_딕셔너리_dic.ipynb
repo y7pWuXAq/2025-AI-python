{
 "cells": [
  {
   "cell_type": "markdown",
   "metadata": {},
   "source": [
    "#### 딕셔너리\n",
    "\n",
    "- 리스트와 동일하게 여러개의 값을 가지고 다니는 타입 중 한가지\n",
    "- 리스트와 차이점\n",
    "    - 리스트 메모리는 인덱스 순서가 순서적으로 만들어지지만 딕셔너리는 순서가 없음\n",
    "- 딕셔너리는 key 와 value의 한쌍으로 한개의 데이터가 만들어짐\n",
    "- key는 고유한 값만 사용가능하며 key를 이용해 value의 값을 추출 할 수 있음\n",
    "- 리스트는 [ ] 사용, 딕셔너리는 { }를 사용하여 데이터를 정의함\n",
    "- 딕셔너리에서 데이터(value 의 값)을 추출하고자 할 때는 \"딕셔너리 변수명 [key]\" 형태로 작성\n",
    "- 딕셔너리 값(value) 수정 \n",
    "    - 딕셔너리 변수명[존재하는 key] = 수정할 값\n",
    "- 딕셔너리 값(value) 추가\n",
    "    - 딕셔너리 변수명[존재하는 key] = 추가할 값"
   ]
  },
  {
   "cell_type": "code",
   "execution_count": 1,
   "metadata": {},
   "outputs": [
    {
     "name": "stdout",
     "output_type": "stream",
     "text": [
      "{'name': '도화가', 'level': '1645', 'area': '샤'}\n"
     ]
    }
   ],
   "source": [
    "#### 딕셔너리 변수 생성\n",
    "\n",
    "data = { }\n",
    "data = {\n",
    "    \"name\" : \"도화가\",\n",
    "    \"level\" : 1645,\n",
    "    \"area\" : \"샤\"\n",
    "}\n",
    "\n",
    "print(data)"
   ]
  },
  {
   "cell_type": "code",
   "execution_count": 4,
   "metadata": {},
   "outputs": [
    {
     "data": {
      "text/plain": [
       "('도화가', '1645', '샤')"
      ]
     },
     "execution_count": 4,
     "metadata": {},
     "output_type": "execute_result"
    }
   ],
   "source": [
    "### key를 이용하여 값(value) 추출\n",
    "\n",
    "data[\"name\"], data[\"level\"], data[\"area\"]"
   ]
  },
  {
   "cell_type": "code",
   "execution_count": 5,
   "metadata": {},
   "outputs": [
    {
     "name": "stdout",
     "output_type": "stream",
     "text": [
      "{'name': '기상술사', 'level': 1640, 'area': '엘네아드'}\n"
     ]
    }
   ],
   "source": [
    "### 값(value) 수정하기\n",
    "\n",
    "data[\"name\"] = \"기상술사\"\n",
    "data[\"level\"] = 1640\n",
    "data[\"area\"] = \"엘네아드\"\n",
    "\n",
    "print(data)"
   ]
  },
  {
   "cell_type": "code",
   "execution_count": 7,
   "metadata": {},
   "outputs": [
    {
     "name": "stdout",
     "output_type": "stream",
     "text": [
      "{'name': '기상술사', 'level': 1640, 'area': '엘네아드', 'phone_number': '010-1234-5678'}\n"
     ]
    }
   ],
   "source": [
    "### 값(value) 추가하기\n",
    "\n",
    "data[\"phone_number\"] = \"010-1234-5678\"\n",
    "\n",
    "print(data)"
   ]
  },
  {
   "cell_type": "code",
   "execution_count": 9,
   "metadata": {},
   "outputs": [
    {
     "name": "stdout",
     "output_type": "stream",
     "text": [
      "['도화가', '기상술사', '환수사'] ['1649', '1641', '1610'] ['샤', '림레이크', '엘네아드']\n",
      "{'name': ['도화가', '기상술사', '환수사'], 'level': ['1649', '1641', '1610'], 'area': ['샤', '림레이크', '엘네아드']}\n"
     ]
    }
   ],
   "source": [
    "# 리스트 생성\n",
    "list_name = [\"도화가\", \"기상술사\", \"환수사\"]\n",
    "list_level = [\"1649\", \"1641\", \"1610\"]\n",
    "list_area = [\"샤\", \"림레이크\", \"엘네아드\"]\n",
    "\n",
    "print(list_name, list_level, list_area)\n",
    "\n",
    "# 딕셔너리 형태로 바꾸기\n",
    "dict_data = {\n",
    "    \"name\" : list_name,\n",
    "    \"level\" : list_level,\n",
    "    \"area\" : list_area\n",
    "}\n",
    "\n",
    "print(dict_data)"
   ]
  },
  {
   "cell_type": "code",
   "execution_count": 10,
   "metadata": {},
   "outputs": [
    {
     "data": {
      "text/plain": [
       "(['도화가', '기상술사', '환수사'], ['도화가', '기상술사', '환수사'])"
      ]
     },
     "execution_count": 10,
     "metadata": {},
     "output_type": "execute_result"
    }
   ],
   "source": [
    "### get() 함수를 이용해 데이터 추출\n",
    "\n",
    "dict_data[\"name\"], dict_data.get(\"name\")"
   ]
  },
  {
   "cell_type": "code",
   "execution_count": 11,
   "metadata": {},
   "outputs": [
    {
     "ename": "KeyError",
     "evalue": "'name1'",
     "output_type": "error",
     "traceback": [
      "\u001b[1;31m---------------------------------------------------------------------------\u001b[0m",
      "\u001b[1;31mKeyError\u001b[0m                                  Traceback (most recent call last)",
      "Cell \u001b[1;32mIn[11], line 1\u001b[0m\n\u001b[1;32m----> 1\u001b[0m dict_data[\u001b[38;5;124m\"\u001b[39m\u001b[38;5;124mname1\u001b[39m\u001b[38;5;124m\"\u001b[39m]\n",
      "\u001b[1;31mKeyError\u001b[0m: 'name1'"
     ]
    }
   ],
   "source": [
    "dict_data[\"name1\"] # 오류"
   ]
  },
  {
   "cell_type": "code",
   "execution_count": 13,
   "metadata": {},
   "outputs": [
    {
     "data": {
      "text/plain": [
       "'no'"
      ]
     },
     "execution_count": 13,
     "metadata": {},
     "output_type": "execute_result"
    }
   ],
   "source": [
    "### 딕셔너리 내에 해당 key가 존재하지 않더라도 오류 발생하지 않음\n",
    "# key가 없는 경우를 대체할 수 있음 (두 번째 값으로 대체)\n",
    "\n",
    "dict_data.get(\"name1\", \"no\")"
   ]
  },
  {
   "cell_type": "code",
   "execution_count": null,
   "metadata": {},
   "outputs": [],
   "source": [
    "### 삭제하기\n",
    "\n",
    "data.clear"
   ]
  },
  {
   "cell_type": "code",
   "execution_count": 14,
   "metadata": {},
   "outputs": [
    {
     "data": {
      "text/plain": [
       "(True, False)"
      ]
     },
     "execution_count": 14,
     "metadata": {},
     "output_type": "execute_result"
    }
   ],
   "source": [
    "### key 존재 여부 확인하기 : in 사용 (리스트와 동일)\n",
    "# 리스트에서는 값의 유무를 확인, 딕셔너리에서는 key의 유무 확인\n",
    "\n",
    "\"name\" in data, \"age\" in data"
   ]
  },
  {
   "cell_type": "code",
   "execution_count": 19,
   "metadata": {},
   "outputs": [
    {
     "data": {
      "text/plain": [
       "True"
      ]
     },
     "execution_count": 19,
     "metadata": {},
     "output_type": "execute_result"
    }
   ],
   "source": [
    "### 해당하는 이름이 있는지 확인\n",
    "\n",
    "\"도화가\" in dict_data[\"name\"]"
   ]
  },
  {
   "cell_type": "code",
   "execution_count": 20,
   "metadata": {},
   "outputs": [
    {
     "name": "stdout",
     "output_type": "stream",
     "text": [
      "{'name1': '홍길동1', 'name2': '홍길동2', 'name3': '홍길동3', 'name4': '홍길동4', 'name5': '홍길동5', 'name6': '홍길동6', 'name7': '홍길동7', 'name8': '홍길동8', 'name9': '홍길동9', 'name10': '홍길동10', 'name11': '홍길동11', 'name12': '홍길동12', 'name13': '홍길동13', 'name14': '홍길동14', 'name15': '홍길동15', 'name16': '홍길동16', 'name17': '홍길동17', 'name18': '홍길동18', 'name19': '홍길동19', 'name20': '홍길동20', 'name21': '홍길동21', 'name22': '홍길동22', 'name23': '홍길동23', 'name24': '홍길동24', 'name25': '홍길동25', 'name26': '홍길동26', 'name27': '홍길동27', 'name28': '홍길동28', 'name29': '홍길동29', 'name30': '홍길동30', 'name31': '홍길동31', 'name32': '홍길동32', 'name33': '홍길동33', 'name34': '홍길동34', 'name35': '홍길동35', 'name36': '홍길동36', 'name37': '홍길동37', 'name38': '홍길동38', 'name39': '홍길동39', 'name40': '홍길동40', 'name41': '홍길동41', 'name42': '홍길동42', 'name43': '홍길동43', 'name44': '홍길동44', 'name45': '홍길동45', 'name46': '홍길동46', 'name47': '홍길동47', 'name48': '홍길동48', 'name49': '홍길동49', 'name50': '홍길동50', 'name51': '홍길동51', 'name52': '홍길동52', 'name53': '홍길동53', 'name54': '홍길동54', 'name55': '홍길동55', 'name56': '홍길동56', 'name57': '홍길동57', 'name58': '홍길동58', 'name59': '홍길동59', 'name60': '홍길동60', 'name61': '홍길동61', 'name62': '홍길동62', 'name63': '홍길동63', 'name64': '홍길동64', 'name65': '홍길동65', 'name66': '홍길동66', 'name67': '홍길동67', 'name68': '홍길동68', 'name69': '홍길동69', 'name70': '홍길동70', 'name71': '홍길동71', 'name72': '홍길동72', 'name73': '홍길동73', 'name74': '홍길동74', 'name75': '홍길동75', 'name76': '홍길동76', 'name77': '홍길동77', 'name78': '홍길동78', 'name79': '홍길동79', 'name80': '홍길동80', 'name81': '홍길동81', 'name82': '홍길동82', 'name83': '홍길동83', 'name84': '홍길동84', 'name85': '홍길동85', 'name86': '홍길동86', 'name87': '홍길동87', 'name88': '홍길동88', 'name89': '홍길동89', 'name90': '홍길동90', 'name91': '홍길동91', 'name92': '홍길동92', 'name93': '홍길동93', 'name94': '홍길동94', 'name95': '홍길동95', 'name96': '홍길동96', 'name97': '홍길동97', 'name98': '홍길동98', 'name99': '홍길동99', 'name100': '홍길동100'}\n"
     ]
    }
   ],
   "source": [
    "### 딕셔너리 변수 생성 : dict3\n",
    "# key 값은 name1 ~ name100\n",
    "# value 값은 홍길동1 ~ 홍길동100\n",
    "# {\"name1 : \"홍길동\", \"name2\" : \"홍길동2\" ... }\n",
    "\n",
    "dict3 = { }\n",
    "\n",
    "# dict3['name1'] = '홍길동1'\n",
    "\n",
    "for idx in range(1, 101) :\n",
    "    dict3[f'name{idx}'] = f'홍길동{idx}'\n",
    "\n",
    "print(dict3)"
   ]
  },
  {
   "cell_type": "code",
   "execution_count": 24,
   "metadata": {},
   "outputs": [
    {
     "data": {
      "text/plain": [
       "dict_items([('name1', '홍길동1'), ('name2', '홍길동2'), ('name3', '홍길동3'), ('name4', '홍길동4'), ('name5', '홍길동5'), ('name6', '홍길동6'), ('name7', '홍길동7'), ('name8', '홍길동8'), ('name9', '홍길동9'), ('name10', '홍길동10'), ('name11', '홍길동11'), ('name12', '홍길동12'), ('name13', '홍길동13'), ('name14', '홍길동14'), ('name15', '홍길동15'), ('name16', '홍길동16'), ('name17', '홍길동17'), ('name18', '홍길동18'), ('name19', '홍길동19'), ('name20', '홍길동20'), ('name21', '홍길동21'), ('name22', '홍길동22'), ('name23', '홍길동23'), ('name24', '홍길동24'), ('name25', '홍길동25'), ('name26', '홍길동26'), ('name27', '홍길동27'), ('name28', '홍길동28'), ('name29', '홍길동29'), ('name30', '홍길동30'), ('name31', '홍길동31'), ('name32', '홍길동32'), ('name33', '홍길동33'), ('name34', '홍길동34'), ('name35', '홍길동35'), ('name36', '홍길동36'), ('name37', '홍길동37'), ('name38', '홍길동38'), ('name39', '홍길동39'), ('name40', '홍길동40'), ('name41', '홍길동41'), ('name42', '홍길동42'), ('name43', '홍길동43'), ('name44', '홍길동44'), ('name45', '홍길동45'), ('name46', '홍길동46'), ('name47', '홍길동47'), ('name48', '홍길동48'), ('name49', '홍길동49'), ('name50', '홍길동50'), ('name51', '홍길동51'), ('name52', '홍길동52'), ('name53', '홍길동53'), ('name54', '홍길동54'), ('name55', '홍길동55'), ('name56', '홍길동56'), ('name57', '홍길동57'), ('name58', '홍길동58'), ('name59', '홍길동59'), ('name60', '홍길동60'), ('name61', '홍길동61'), ('name62', '홍길동62'), ('name63', '홍길동63'), ('name64', '홍길동64'), ('name65', '홍길동65'), ('name66', '홍길동66'), ('name67', '홍길동67'), ('name68', '홍길동68'), ('name69', '홍길동69'), ('name70', '홍길동70'), ('name71', '홍길동71'), ('name72', '홍길동72'), ('name73', '홍길동73'), ('name74', '홍길동74'), ('name75', '홍길동75'), ('name76', '홍길동76'), ('name77', '홍길동77'), ('name78', '홍길동78'), ('name79', '홍길동79'), ('name80', '홍길동80'), ('name81', '홍길동81'), ('name82', '홍길동82'), ('name83', '홍길동83'), ('name84', '홍길동84'), ('name85', '홍길동85'), ('name86', '홍길동86'), ('name87', '홍길동87'), ('name88', '홍길동88'), ('name89', '홍길동89'), ('name90', '홍길동90'), ('name91', '홍길동91'), ('name92', '홍길동92'), ('name93', '홍길동93'), ('name94', '홍길동94'), ('name95', '홍길동95'), ('name96', '홍길동96'), ('name97', '홍길동97'), ('name98', '홍길동98'), ('name99', '홍길동99'), ('name100', '홍길동100')])"
      ]
     },
     "execution_count": 24,
     "metadata": {},
     "output_type": "execute_result"
    }
   ],
   "source": [
    "### 딕셔너리에서 key만 추출하기\n",
    "# keys() : key값을 모두 리스트 타입으로 변환\n",
    "dict3.keys()\n",
    "\n",
    "### 딕셔너리에서 value값들 모두 추출하기\n",
    "# values() : value값을 모두 리스트 타입으로 변환\n",
    "dict3.values()\n",
    "\n",
    "### 딕셔너리 내에 key와 value의 모든 값들을 세트로 추출\n",
    "# items() : 각 key와 value의 모든 값들을 리스트 타입으로 반환\n",
    "# - 각 key와 value의 값들은 소괄호( )로 묶어서 나옴\n",
    "# - 소괄호 타입을 튜플 타입이라고 함 \n",
    "# 튜플 : 리스트와 기호만 다르고 동일하게 사용되는 형태\n",
    "dict3.items()"
   ]
  },
  {
   "cell_type": "code",
   "execution_count": 30,
   "metadata": {},
   "outputs": [
    {
     "data": {
      "text/plain": [
       "dict_keys(['name1', 'name2', 'name3', 'name4', 'name5', 'name6', 'name7', 'name8', 'name9', 'name10', 'name11', 'name12', 'name13', 'name14', 'name15', 'name16', 'name17', 'name18', 'name19', 'name20', 'name21', 'name22', 'name23', 'name24', 'name25', 'name26', 'name27', 'name28', 'name29', 'name30', 'name31', 'name32', 'name33', 'name34', 'name35', 'name36', 'name37', 'name38', 'name39', 'name40', 'name41', 'name42', 'name43', 'name44', 'name45', 'name46', 'name47', 'name48', 'name49', 'name50', 'name51', 'name52', 'name53', 'name54', 'name55', 'name56', 'name57', 'name58', 'name59', 'name60', 'name61', 'name62', 'name63', 'name64', 'name65', 'name66', 'name67', 'name68', 'name69', 'name70', 'name71', 'name72', 'name73', 'name74', 'name75', 'name76', 'name77', 'name78', 'name79', 'name80', 'name81', 'name82', 'name83', 'name84', 'name85', 'name86', 'name87', 'name88', 'name89', 'name90', 'name91', 'name92', 'name93', 'name94', 'name95', 'name96', 'name97', 'name98', 'name99', 'name100'])"
      ]
     },
     "execution_count": 30,
     "metadata": {},
     "output_type": "execute_result"
    }
   ],
   "source": [
    "dict3.keys()"
   ]
  },
  {
   "cell_type": "code",
   "execution_count": 33,
   "metadata": {},
   "outputs": [
    {
     "name": "stdout",
     "output_type": "stream",
     "text": [
      "홍길동100\n",
      "--- 반복문 출력 ---\n",
      "key : name1, value : 홍길동1 입니다.\n",
      "key : name2, value : 홍길동2 입니다.\n",
      "key : name3, value : 홍길동3 입니다.\n",
      "key : name4, value : 홍길동4 입니다.\n",
      "key : name5, value : 홍길동5 입니다.\n",
      "key : name6, value : 홍길동6 입니다.\n",
      "key : name7, value : 홍길동7 입니다.\n",
      "key : name8, value : 홍길동8 입니다.\n",
      "key : name9, value : 홍길동9 입니다.\n",
      "key : name10, value : 홍길동10 입니다.\n",
      "key : name11, value : 홍길동11 입니다.\n",
      "key : name12, value : 홍길동12 입니다.\n",
      "key : name13, value : 홍길동13 입니다.\n",
      "key : name14, value : 홍길동14 입니다.\n",
      "key : name15, value : 홍길동15 입니다.\n",
      "key : name16, value : 홍길동16 입니다.\n",
      "key : name17, value : 홍길동17 입니다.\n",
      "key : name18, value : 홍길동18 입니다.\n",
      "key : name19, value : 홍길동19 입니다.\n",
      "key : name20, value : 홍길동20 입니다.\n",
      "key : name21, value : 홍길동21 입니다.\n",
      "key : name22, value : 홍길동22 입니다.\n",
      "key : name23, value : 홍길동23 입니다.\n",
      "key : name24, value : 홍길동24 입니다.\n",
      "key : name25, value : 홍길동25 입니다.\n",
      "key : name26, value : 홍길동26 입니다.\n",
      "key : name27, value : 홍길동27 입니다.\n",
      "key : name28, value : 홍길동28 입니다.\n",
      "key : name29, value : 홍길동29 입니다.\n",
      "key : name30, value : 홍길동30 입니다.\n",
      "key : name31, value : 홍길동31 입니다.\n",
      "key : name32, value : 홍길동32 입니다.\n",
      "key : name33, value : 홍길동33 입니다.\n",
      "key : name34, value : 홍길동34 입니다.\n",
      "key : name35, value : 홍길동35 입니다.\n",
      "key : name36, value : 홍길동36 입니다.\n",
      "key : name37, value : 홍길동37 입니다.\n",
      "key : name38, value : 홍길동38 입니다.\n",
      "key : name39, value : 홍길동39 입니다.\n",
      "key : name40, value : 홍길동40 입니다.\n",
      "key : name41, value : 홍길동41 입니다.\n",
      "key : name42, value : 홍길동42 입니다.\n",
      "key : name43, value : 홍길동43 입니다.\n",
      "key : name44, value : 홍길동44 입니다.\n",
      "key : name45, value : 홍길동45 입니다.\n",
      "key : name46, value : 홍길동46 입니다.\n",
      "key : name47, value : 홍길동47 입니다.\n",
      "key : name48, value : 홍길동48 입니다.\n",
      "key : name49, value : 홍길동49 입니다.\n",
      "key : name50, value : 홍길동50 입니다.\n",
      "key : name51, value : 홍길동51 입니다.\n",
      "key : name52, value : 홍길동52 입니다.\n",
      "key : name53, value : 홍길동53 입니다.\n",
      "key : name54, value : 홍길동54 입니다.\n",
      "key : name55, value : 홍길동55 입니다.\n",
      "key : name56, value : 홍길동56 입니다.\n",
      "key : name57, value : 홍길동57 입니다.\n",
      "key : name58, value : 홍길동58 입니다.\n",
      "key : name59, value : 홍길동59 입니다.\n",
      "key : name60, value : 홍길동60 입니다.\n",
      "key : name61, value : 홍길동61 입니다.\n",
      "key : name62, value : 홍길동62 입니다.\n",
      "key : name63, value : 홍길동63 입니다.\n",
      "key : name64, value : 홍길동64 입니다.\n",
      "key : name65, value : 홍길동65 입니다.\n",
      "key : name66, value : 홍길동66 입니다.\n",
      "key : name67, value : 홍길동67 입니다.\n",
      "key : name68, value : 홍길동68 입니다.\n",
      "key : name69, value : 홍길동69 입니다.\n",
      "key : name70, value : 홍길동70 입니다.\n",
      "key : name71, value : 홍길동71 입니다.\n",
      "key : name72, value : 홍길동72 입니다.\n",
      "key : name73, value : 홍길동73 입니다.\n",
      "key : name74, value : 홍길동74 입니다.\n",
      "key : name75, value : 홍길동75 입니다.\n",
      "key : name76, value : 홍길동76 입니다.\n",
      "key : name77, value : 홍길동77 입니다.\n",
      "key : name78, value : 홍길동78 입니다.\n",
      "key : name79, value : 홍길동79 입니다.\n",
      "key : name80, value : 홍길동80 입니다.\n",
      "key : name81, value : 홍길동81 입니다.\n",
      "key : name82, value : 홍길동82 입니다.\n",
      "key : name83, value : 홍길동83 입니다.\n",
      "key : name84, value : 홍길동84 입니다.\n",
      "key : name85, value : 홍길동85 입니다.\n",
      "key : name86, value : 홍길동86 입니다.\n",
      "key : name87, value : 홍길동87 입니다.\n",
      "key : name88, value : 홍길동88 입니다.\n",
      "key : name89, value : 홍길동89 입니다.\n",
      "key : name90, value : 홍길동90 입니다.\n",
      "key : name91, value : 홍길동91 입니다.\n",
      "key : name92, value : 홍길동92 입니다.\n",
      "key : name93, value : 홍길동93 입니다.\n",
      "key : name94, value : 홍길동94 입니다.\n",
      "key : name95, value : 홍길동95 입니다.\n",
      "key : name96, value : 홍길동96 입니다.\n",
      "key : name97, value : 홍길동97 입니다.\n",
      "key : name98, value : 홍길동98 입니다.\n",
      "key : name99, value : 홍길동99 입니다.\n",
      "key : name100, value : 홍길동100 입니다.\n"
     ]
    }
   ],
   "source": [
    "### keys() 함수를 이용\n",
    "# 아래와 같이 출력하기\n",
    "# key : name1, value : 홍길동1 입니다.\n",
    "# ... \n",
    "# key : name100, value : 홍길동 100 입니다.\n",
    "\n",
    "print('--- 반복문 출력 ---')\n",
    "for idx in dict3.keys() :\n",
    "    print(f'key : {idx}, value : {dict3[idx]} 입니다.')"
   ]
  },
  {
   "cell_type": "code",
   "execution_count": 37,
   "metadata": {},
   "outputs": [
    {
     "data": {
      "text/plain": [
       "50"
      ]
     },
     "execution_count": 37,
     "metadata": {},
     "output_type": "execute_result"
    }
   ],
   "source": [
    "### 튜플\n",
    "\n",
    "a = 1\n",
    "b = 2\n",
    "a, b\n",
    "\n",
    "a, b = (10, 50)\n",
    "a, b\n",
    "\n",
    "a, _ = (50, 60)\n",
    "a"
   ]
  },
  {
   "cell_type": "code",
   "execution_count": 38,
   "metadata": {},
   "outputs": [
    {
     "data": {
      "text/plain": [
       "dict_items([('name1', '홍길동1'), ('name2', '홍길동2'), ('name3', '홍길동3'), ('name4', '홍길동4'), ('name5', '홍길동5'), ('name6', '홍길동6'), ('name7', '홍길동7'), ('name8', '홍길동8'), ('name9', '홍길동9'), ('name10', '홍길동10'), ('name11', '홍길동11'), ('name12', '홍길동12'), ('name13', '홍길동13'), ('name14', '홍길동14'), ('name15', '홍길동15'), ('name16', '홍길동16'), ('name17', '홍길동17'), ('name18', '홍길동18'), ('name19', '홍길동19'), ('name20', '홍길동20'), ('name21', '홍길동21'), ('name22', '홍길동22'), ('name23', '홍길동23'), ('name24', '홍길동24'), ('name25', '홍길동25'), ('name26', '홍길동26'), ('name27', '홍길동27'), ('name28', '홍길동28'), ('name29', '홍길동29'), ('name30', '홍길동30'), ('name31', '홍길동31'), ('name32', '홍길동32'), ('name33', '홍길동33'), ('name34', '홍길동34'), ('name35', '홍길동35'), ('name36', '홍길동36'), ('name37', '홍길동37'), ('name38', '홍길동38'), ('name39', '홍길동39'), ('name40', '홍길동40'), ('name41', '홍길동41'), ('name42', '홍길동42'), ('name43', '홍길동43'), ('name44', '홍길동44'), ('name45', '홍길동45'), ('name46', '홍길동46'), ('name47', '홍길동47'), ('name48', '홍길동48'), ('name49', '홍길동49'), ('name50', '홍길동50'), ('name51', '홍길동51'), ('name52', '홍길동52'), ('name53', '홍길동53'), ('name54', '홍길동54'), ('name55', '홍길동55'), ('name56', '홍길동56'), ('name57', '홍길동57'), ('name58', '홍길동58'), ('name59', '홍길동59'), ('name60', '홍길동60'), ('name61', '홍길동61'), ('name62', '홍길동62'), ('name63', '홍길동63'), ('name64', '홍길동64'), ('name65', '홍길동65'), ('name66', '홍길동66'), ('name67', '홍길동67'), ('name68', '홍길동68'), ('name69', '홍길동69'), ('name70', '홍길동70'), ('name71', '홍길동71'), ('name72', '홍길동72'), ('name73', '홍길동73'), ('name74', '홍길동74'), ('name75', '홍길동75'), ('name76', '홍길동76'), ('name77', '홍길동77'), ('name78', '홍길동78'), ('name79', '홍길동79'), ('name80', '홍길동80'), ('name81', '홍길동81'), ('name82', '홍길동82'), ('name83', '홍길동83'), ('name84', '홍길동84'), ('name85', '홍길동85'), ('name86', '홍길동86'), ('name87', '홍길동87'), ('name88', '홍길동88'), ('name89', '홍길동89'), ('name90', '홍길동90'), ('name91', '홍길동91'), ('name92', '홍길동92'), ('name93', '홍길동93'), ('name94', '홍길동94'), ('name95', '홍길동95'), ('name96', '홍길동96'), ('name97', '홍길동97'), ('name98', '홍길동98'), ('name99', '홍길동99'), ('name100', '홍길동100')])"
      ]
     },
     "execution_count": 38,
     "metadata": {},
     "output_type": "execute_result"
    }
   ],
   "source": [
    "dict3.items()"
   ]
  },
  {
   "cell_type": "code",
   "execution_count": 40,
   "metadata": {},
   "outputs": [
    {
     "name": "stdout",
     "output_type": "stream",
     "text": [
      "key : name1, value : 홍길동1 입니다.\n",
      "key : name2, value : 홍길동2 입니다.\n",
      "key : name3, value : 홍길동3 입니다.\n",
      "key : name4, value : 홍길동4 입니다.\n",
      "key : name5, value : 홍길동5 입니다.\n",
      "key : name6, value : 홍길동6 입니다.\n",
      "key : name7, value : 홍길동7 입니다.\n",
      "key : name8, value : 홍길동8 입니다.\n",
      "key : name9, value : 홍길동9 입니다.\n",
      "key : name10, value : 홍길동10 입니다.\n",
      "key : name11, value : 홍길동11 입니다.\n",
      "key : name12, value : 홍길동12 입니다.\n",
      "key : name13, value : 홍길동13 입니다.\n",
      "key : name14, value : 홍길동14 입니다.\n",
      "key : name15, value : 홍길동15 입니다.\n",
      "key : name16, value : 홍길동16 입니다.\n",
      "key : name17, value : 홍길동17 입니다.\n",
      "key : name18, value : 홍길동18 입니다.\n",
      "key : name19, value : 홍길동19 입니다.\n",
      "key : name20, value : 홍길동20 입니다.\n",
      "key : name21, value : 홍길동21 입니다.\n",
      "key : name22, value : 홍길동22 입니다.\n",
      "key : name23, value : 홍길동23 입니다.\n",
      "key : name24, value : 홍길동24 입니다.\n",
      "key : name25, value : 홍길동25 입니다.\n",
      "key : name26, value : 홍길동26 입니다.\n",
      "key : name27, value : 홍길동27 입니다.\n",
      "key : name28, value : 홍길동28 입니다.\n",
      "key : name29, value : 홍길동29 입니다.\n",
      "key : name30, value : 홍길동30 입니다.\n",
      "key : name31, value : 홍길동31 입니다.\n",
      "key : name32, value : 홍길동32 입니다.\n",
      "key : name33, value : 홍길동33 입니다.\n",
      "key : name34, value : 홍길동34 입니다.\n",
      "key : name35, value : 홍길동35 입니다.\n",
      "key : name36, value : 홍길동36 입니다.\n",
      "key : name37, value : 홍길동37 입니다.\n",
      "key : name38, value : 홍길동38 입니다.\n",
      "key : name39, value : 홍길동39 입니다.\n",
      "key : name40, value : 홍길동40 입니다.\n",
      "key : name41, value : 홍길동41 입니다.\n",
      "key : name42, value : 홍길동42 입니다.\n",
      "key : name43, value : 홍길동43 입니다.\n",
      "key : name44, value : 홍길동44 입니다.\n",
      "key : name45, value : 홍길동45 입니다.\n",
      "key : name46, value : 홍길동46 입니다.\n",
      "key : name47, value : 홍길동47 입니다.\n",
      "key : name48, value : 홍길동48 입니다.\n",
      "key : name49, value : 홍길동49 입니다.\n",
      "key : name50, value : 홍길동50 입니다.\n",
      "key : name51, value : 홍길동51 입니다.\n",
      "key : name52, value : 홍길동52 입니다.\n",
      "key : name53, value : 홍길동53 입니다.\n",
      "key : name54, value : 홍길동54 입니다.\n",
      "key : name55, value : 홍길동55 입니다.\n",
      "key : name56, value : 홍길동56 입니다.\n",
      "key : name57, value : 홍길동57 입니다.\n",
      "key : name58, value : 홍길동58 입니다.\n",
      "key : name59, value : 홍길동59 입니다.\n",
      "key : name60, value : 홍길동60 입니다.\n",
      "key : name61, value : 홍길동61 입니다.\n",
      "key : name62, value : 홍길동62 입니다.\n",
      "key : name63, value : 홍길동63 입니다.\n",
      "key : name64, value : 홍길동64 입니다.\n",
      "key : name65, value : 홍길동65 입니다.\n",
      "key : name66, value : 홍길동66 입니다.\n",
      "key : name67, value : 홍길동67 입니다.\n",
      "key : name68, value : 홍길동68 입니다.\n",
      "key : name69, value : 홍길동69 입니다.\n",
      "key : name70, value : 홍길동70 입니다.\n",
      "key : name71, value : 홍길동71 입니다.\n",
      "key : name72, value : 홍길동72 입니다.\n",
      "key : name73, value : 홍길동73 입니다.\n",
      "key : name74, value : 홍길동74 입니다.\n",
      "key : name75, value : 홍길동75 입니다.\n",
      "key : name76, value : 홍길동76 입니다.\n",
      "key : name77, value : 홍길동77 입니다.\n",
      "key : name78, value : 홍길동78 입니다.\n",
      "key : name79, value : 홍길동79 입니다.\n",
      "key : name80, value : 홍길동80 입니다.\n",
      "key : name81, value : 홍길동81 입니다.\n",
      "key : name82, value : 홍길동82 입니다.\n",
      "key : name83, value : 홍길동83 입니다.\n",
      "key : name84, value : 홍길동84 입니다.\n",
      "key : name85, value : 홍길동85 입니다.\n",
      "key : name86, value : 홍길동86 입니다.\n",
      "key : name87, value : 홍길동87 입니다.\n",
      "key : name88, value : 홍길동88 입니다.\n",
      "key : name89, value : 홍길동89 입니다.\n",
      "key : name90, value : 홍길동90 입니다.\n",
      "key : name91, value : 홍길동91 입니다.\n",
      "key : name92, value : 홍길동92 입니다.\n",
      "key : name93, value : 홍길동93 입니다.\n",
      "key : name94, value : 홍길동94 입니다.\n",
      "key : name95, value : 홍길동95 입니다.\n",
      "key : name96, value : 홍길동96 입니다.\n",
      "key : name97, value : 홍길동97 입니다.\n",
      "key : name98, value : 홍길동98 입니다.\n",
      "key : name99, value : 홍길동99 입니다.\n",
      "key : name100, value : 홍길동100 입니다.\n"
     ]
    }
   ],
   "source": [
    "### items() 함수를 이용\n",
    "# 아래와 같이 출력하기\n",
    "# key : name1, value : 홍길동1 입니다.\n",
    "# ... \n",
    "# key : name100, value : 홍길동 100 입니다.\n",
    "\n",
    "\n",
    "for k, v in dict3.items() :\n",
    "    print(f'key : {k}, value : {v} 입니다.')"
   ]
  },
  {
   "cell_type": "code",
   "execution_count": 42,
   "metadata": {},
   "outputs": [
    {
     "name": "stdout",
     "output_type": "stream",
     "text": [
      "짝수 리스트: ['홍길동2', '홍길동4', '홍길동6', '홍길동8', '홍길동10', '홍길동12', '홍길동14', '홍길동16', '홍길동18', '홍길동20', '홍길동22', '홍길동24', '홍길동26', '홍길동28', '홍길동30', '홍길동32', '홍길동34', '홍길동36', '홍길동38', '홍길동40', '홍길동42', '홍길동44', '홍길동46', '홍길동48', '홍길동50', '홍길동52', '홍길동54', '홍길동56', '홍길동58', '홍길동60', '홍길동62', '홍길동64', '홍길동66', '홍길동68', '홍길동70', '홍길동72', '홍길동74', '홍길동76', '홍길동78', '홍길동80', '홍길동82', '홍길동84', '홍길동86', '홍길동88', '홍길동90', '홍길동92', '홍길동94', '홍길동96', '홍길동98', '홍길동100']\n",
      "홀수 리스트: ['홍길동1', '홍길동3', '홍길동5', '홍길동7', '홍길동9', '홍길동11', '홍길동13', '홍길동15', '홍길동17', '홍길동19', '홍길동21', '홍길동23', '홍길동25', '홍길동27', '홍길동29', '홍길동31', '홍길동33', '홍길동35', '홍길동37', '홍길동39', '홍길동41', '홍길동43', '홍길동45', '홍길동47', '홍길동49', '홍길동51', '홍길동53', '홍길동55', '홍길동57', '홍길동59', '홍길동61', '홍길동63', '홍길동65', '홍길동67', '홍길동69', '홍길동71', '홍길동73', '홍길동75', '홍길동77', '홍길동79', '홍길동81', '홍길동83', '홍길동85', '홍길동87', '홍길동89', '홍길동91', '홍길동93', '홍길동95', '홍길동97', '홍길동99']\n"
     ]
    }
   ],
   "source": [
    "### 짝수 및 홀수 리스트 새 변수 2개 생성\n",
    "# dict3 사용\n",
    "# 리스트 변수명 : 짝수 리스트(list1), 홀수 리스트(list2)\n",
    "# 딕셔너리 데이터의 key 또는 value의 값 뒤에 숫자가 짝수이면 list1, 홀수이면 list2에  value값 추가\n",
    "# 최종 결과 list1, list2 확인 \n",
    "\n",
    "\n",
    "list1 = []\n",
    "list2 = []\n",
    "\n",
    "for key, value in dict3.items() :\n",
    "    number = int(key[4:]) # 문자열 뒤의 숫자 값 추출\n",
    "\n",
    "    # 추출한 숫자의 값 홀짝 구분\n",
    "    if number % 2 == 0 :\n",
    "        list1.append(value)\n",
    "    else :\n",
    "        list2.append(value)\n",
    "\n",
    "print(\"짝수 리스트:\", list1)\n",
    "print(\"홀수 리스트:\", list2)"
   ]
  }
 ],
 "metadata": {
  "kernelspec": {
   "display_name": "base",
   "language": "python",
   "name": "python3"
  },
  "language_info": {
   "codemirror_mode": {
    "name": "ipython",
    "version": 3
   },
   "file_extension": ".py",
   "mimetype": "text/x-python",
   "name": "python",
   "nbconvert_exporter": "python",
   "pygments_lexer": "ipython3",
   "version": "3.12.7"
  }
 },
 "nbformat": 4,
 "nbformat_minor": 2
}
