{
 "cells": [
  {
   "cell_type": "markdown",
   "metadata": {},
   "source": [
    "#### 튜플 (tuple)\n",
    "\n",
    "- 튜플은 소괄호 ( ) 기호를 사용합니다.\n",
    "- 출력 결과값이 소괄호( )로 묶여 있는 경우에는 대부분 튜플 타입\n",
    "- ** 튜플은 리스트와 구조 및 사용법이 모두 동일함. 기호만 다름.\n",
    "- ** 리스트와의 차이점\n",
    "    - 한 번 정의 된 값들은 수정이 불가함.\n",
    "    - 수정 및 삭제 하려면 완전 제거 후 재정의 필요.\n",
    "\n",
    "- 보통 직접 튜플을 생성하여 사용하는 경우는 많지 않음.\n",
    "- 주로 특정 함수의 결과 또는 처리 결과를 튜플 타입으로 제공을 함.\n",
    "- 튜플을 생성할 때 한개의 값만 정의해서 생성할 경우에는 한개의 값 뒤에 콤마(,)를 사용"
   ]
  },
  {
   "cell_type": "code",
   "execution_count": 3,
   "metadata": {},
   "outputs": [
    {
     "name": "stdout",
     "output_type": "stream",
     "text": [
      "()\n",
      "(1, 2, 3)\n",
      "(1,)\n"
     ]
    }
   ],
   "source": [
    "### 튜플 생성\n",
    "\n",
    "tuple1 = ()\n",
    "print(tuple1)\n",
    "\n",
    "### 2개 이상의 값을 정의하여 생성\n",
    "tuple2 = (1, 2, 3)\n",
    "print(tuple2)\n",
    "\n",
    "### 1개 값만 정의할 때\n",
    "tuple3 = (1, )\n",
    "print(tuple3)"
   ]
  },
  {
   "cell_type": "code",
   "execution_count": 8,
   "metadata": {},
   "outputs": [
    {
     "data": {
      "text/plain": [
       "(1, 2, 3)"
      ]
     },
     "execution_count": 8,
     "metadata": {},
     "output_type": "execute_result"
    }
   ],
   "source": [
    "tuple2[0]\n",
    "tuple2[ : ] ## 리스트와 동일"
   ]
  },
  {
   "cell_type": "code",
   "execution_count": 11,
   "metadata": {},
   "outputs": [
    {
     "name": "stdout",
     "output_type": "stream",
     "text": [
      "1\n",
      "2\n",
      "3\n",
      "-- *** --\n",
      "1\n",
      "2\n",
      "3\n"
     ]
    }
   ],
   "source": [
    "# 리스트와 동일하게 인덱스 번호를 이용해서 반복 가능\n",
    "for i in range(0, len(tuple2), 1) :\n",
    "    print(tuple2[i])\n",
    "\n",
    "print('-- *** --')\n",
    "\n",
    "# 리스트와 동일하게 값을 이용해서 반복 가능\n",
    "for val in tuple2 :\n",
    "    print(val)"
   ]
  },
  {
   "cell_type": "code",
   "execution_count": 12,
   "metadata": {},
   "outputs": [
    {
     "data": {
      "text/plain": [
       "(1, 2, 3)"
      ]
     },
     "execution_count": 12,
     "metadata": {},
     "output_type": "execute_result"
    }
   ],
   "source": [
    "a = 1\n",
    "b = 2\n",
    "c = 3\n",
    "\n",
    "a, b, c"
   ]
  }
 ],
 "metadata": {
  "kernelspec": {
   "display_name": "base",
   "language": "python",
   "name": "python3"
  },
  "language_info": {
   "codemirror_mode": {
    "name": "ipython",
    "version": 3
   },
   "file_extension": ".py",
   "mimetype": "text/x-python",
   "name": "python",
   "nbconvert_exporter": "python",
   "pygments_lexer": "ipython3",
   "version": "3.12.7"
  }
 },
 "nbformat": 4,
 "nbformat_minor": 2
}
