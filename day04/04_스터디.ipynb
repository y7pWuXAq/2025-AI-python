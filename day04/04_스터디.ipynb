{
 "cells": [
  {
   "cell_type": "markdown",
   "metadata": {},
   "source": [
    "#### 이름, 나이, 지역 데이터 관리하기\n",
    "\n",
    "- 이름, 나이, 지역은 각각의 리스트 타입 사용\n",
    "- 각각의 리스트 변수 : list_name, list_age, list_area\n",
    "\n",
    "- 데이터를 관리하는 대표 변수는 딕셔너리로 관리\n",
    "    - ** 변수명 : dict_all\n",
    "        - list_name에 이름이 추가 될 때마다 : ['홍길동', '이순신', ...]\n",
    "        - list_age에 이름이 추가 될 때마다    : ['11', '22', ...]\n",
    "        - list_area에 이름이 추가 될 때마다   : ['부산', '서울', ...]\n",
    "\n",
    "    - 데이터 구조\n",
    "        - { name : ['홍길동', '이순신', ...],\n",
    "            age : ['11', '22', ...],\n",
    "            area : ['부산', '서울', ...] }\n"
   ]
  },
  {
   "cell_type": "code",
   "execution_count": null,
   "metadata": {},
   "outputs": [],
   "source": []
  }
 ],
 "metadata": {
  "language_info": {
   "name": "python"
  }
 },
 "nbformat": 4,
 "nbformat_minor": 2
}
