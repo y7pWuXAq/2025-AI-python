{
 "cells": [
  {
   "cell_type": "markdown",
   "metadata": {},
   "source": [
    "#### 함수 (Function, Method)\n",
    "\n",
    "- 자주 반복해서 사용해야하는 코드를 미리 하나의 이름으로 정의해 놓은 것\n",
    "- 자주 반복하지 않더라도, 가끔 사용 또는 코드가 너무 긴 경우 사용\n",
    "\n",
    "#### 함수 작성 순서(정해진 것은 아닙니다.)\n",
    "- 프로그램을 먼저 작성(절차적으로 테스트)\n",
    "- 오류가 없는 상태로 테스트\n",
    "- 자주 반복해서 사용되는 부분을 하나의 이름으로 별도 정의\n",
    "    - 함수 정의 시 가급적 정의된 숫자값은 사용하지 않도록\n",
    "- 정의된 함수를 호출하여 사용\n",
    "\n",
    "#### 함수 정의 규칙\n",
    "- 함수 이름은 소문자로 시작\n",
    "- 함수 이름 뒤에는 항상 소괄호\n",
    "- 함수 이름 작명 시 >> get(), set()"
   ]
  },
  {
   "cell_type": "code",
   "execution_count": null,
   "metadata": {},
   "outputs": [],
   "source": []
  },
  {
   "cell_type": "code",
   "execution_count": 2,
   "metadata": {},
   "outputs": [
    {
     "name": "stdout",
     "output_type": "stream",
     "text": [
      "15\n"
     ]
    }
   ],
   "source": [
    "a = 10\n",
    "b = 5\n",
    "\n",
    "tot = a + b\n",
    "\n",
    "### 출력함수\n",
    "# - print(인자)\n",
    "# - 인자(넘겨주는 쪽, 호출하는 쪽) 또는 매개변수(받는 쪽, 정의된 함수 쪽에서 받음)\n",
    "# - 인자와 매개변수를 통칭, 파라미터(parameter)라고 함\n",
    "\n",
    "print(tot)"
   ]
  },
  {
   "cell_type": "code",
   "execution_count": 5,
   "metadata": {},
   "outputs": [
    {
     "name": "stdout",
     "output_type": "stream",
     "text": [
      "38\n"
     ]
    }
   ],
   "source": [
    "### 함수 정의하기(User Define Function : UDF(사용자 정의 함수) 문서)\n",
    "# def showPlus() 수행하는 기능 : a와 b의 값을 합해서 화면에 출력해 주는 기능\n",
    "\n",
    "def showPlus() :\n",
    "    a = 30\n",
    "    b = 8\n",
    "    tot = a + b\n",
    "    print(tot)\n",
    "\n",
    "showPlus()"
   ]
  },
  {
   "cell_type": "code",
   "execution_count": 6,
   "metadata": {},
   "outputs": [
    {
     "name": "stdout",
     "output_type": "stream",
     "text": [
      "66\n"
     ]
    }
   ],
   "source": [
    "### 매개변수(파라미터) 사용\n",
    "\n",
    "def showPlus(a, b) :\n",
    "    tot = a + b\n",
    "    print(tot)\n",
    "\n",
    "### 함수호출\n",
    "showPlus(11, 55)"
   ]
  },
  {
   "cell_type": "code",
   "execution_count": 7,
   "metadata": {},
   "outputs": [
    {
     "data": {
      "text/plain": [
       "66"
      ]
     },
     "execution_count": 7,
     "metadata": {},
     "output_type": "execute_result"
    }
   ],
   "source": [
    "### 매개변수(파라미터) + 반환(리턴return) 사용\n",
    "# 파라미터에 디폴트값을 미리 정의해 놓기\n",
    "# - 디폴트 값은 보통 자주 사용되는 값이 있는 경우에 정의\n",
    "# - 초기값 (0, '')을 정의 해놓고 사용\n",
    "# range(0, 10, 1) range(100) 디폴트 값 생략 가능\n",
    "\n",
    "\n",
    "def showPlus(a, b) :\n",
    "    tot = a + b\n",
    "    return tot\n",
    "\n",
    "## 반환(return)\n",
    "# 함수를 호출한 사용자 코드에 값을 다시 전달함.\n",
    "\n",
    "### 함수호출\n",
    "showPlus(11, 55)"
   ]
  },
  {
   "cell_type": "code",
   "execution_count": 8,
   "metadata": {},
   "outputs": [],
   "source": [
    "def showPlus(a, b) :\n",
    "    tot = a + b\n",
    "    return tot, a, b"
   ]
  },
  {
   "cell_type": "code",
   "execution_count": 9,
   "metadata": {},
   "outputs": [
    {
     "data": {
      "text/plain": [
       "(57, 43, 350, 7.142857142857143)"
      ]
     },
     "execution_count": 9,
     "metadata": {},
     "output_type": "execute_result"
    }
   ],
   "source": [
    "### 산술연산 (+, -, *, /, //, %)을 수행하는 함수를 정의하기\n",
    "# - 함수 이름 : getMeth\n",
    "# 파라미터 자유\n",
    "# 기능\n",
    "# - 더하기, 더한 값 리턴 나머지 값 모두 처리\n",
    "\n",
    "def getMeth(x, y) :\n",
    "    add = x + y\n",
    "    minus = x - y\n",
    "    multi = x * y\n",
    "    divide = x / y\n",
    "    return add, minus, multi, divide\n",
    "\n",
    "getMeth(50, 7)"
   ]
  },
  {
   "cell_type": "code",
   "execution_count": null,
   "metadata": {},
   "outputs": [],
   "source": [
    "## 원하는 단 하나만 출력하기\n",
    "\n",
    "# search_dan = int(input(\"검색할 단을 입력하세요.\"))\n",
    "\n",
    "dan = 4\n",
    "for n in range(10) :\n",
    "    print(f\"{dan} x {n} = {dan * n}\")"
   ]
  },
  {
   "cell_type": "code",
   "execution_count": 10,
   "metadata": {},
   "outputs": [
    {
     "name": "stdout",
     "output_type": "stream",
     "text": [
      "4 x 0 = 0\n",
      "4 x 1 = 4\n",
      "4 x 2 = 8\n",
      "4 x 3 = 12\n",
      "4 x 4 = 16\n",
      "4 x 5 = 20\n",
      "4 x 6 = 24\n",
      "4 x 7 = 28\n",
      "4 x 8 = 32\n",
      "4 x 9 = 36\n"
     ]
    }
   ],
   "source": [
    "## 위의 구구단 예제를 함수로 만들기\n",
    "# 함수명 : printGDan\n",
    "# 기능 : 임의의 단을 전달 받아서 출력하는 기능 수행\n",
    "\n",
    "def printGDan(dan) :\n",
    "    for n in range(10) :\n",
    "        print(f\"{dan} x {n} = {dan * n}\")\n",
    "\n",
    "printGDan(4)"
   ]
  },
  {
   "cell_type": "code",
   "execution_count": 12,
   "metadata": {},
   "outputs": [
    {
     "name": "stdout",
     "output_type": "stream",
     "text": [
      "홍길동\n",
      "이순신\n",
      "김유신\n",
      "홍길동\n",
      "이순신\n",
      "김유신\n"
     ]
    }
   ],
   "source": [
    "### 예제\n",
    "# 임의 리스트 변수를 전달 받아서 각 데이터를 출력하는 함수 정의\n",
    "# temp_list = ['홍길동', '이순신', '김유신']\n",
    "# 함수명 : printList()\n",
    "\n",
    "temp_list = ['홍길동', '이순신', '김유신']\n",
    "\n",
    "for i in range (0, len(temp_list), 1): \n",
    "    print(temp_list[i])\n",
    "\n",
    "def printList(temp_list) :\n",
    "    for i in range (0, len(temp_list), 1): \n",
    "        print(temp_list[i])\n",
    "\n",
    "## 함수호출\n",
    "printList(temp_list=temp_list)"
   ]
  },
  {
   "cell_type": "code",
   "execution_count": 15,
   "metadata": {},
   "outputs": [
    {
     "name": "stdout",
     "output_type": "stream",
     "text": [
      "['홍길동', '이순신', '김유신', '이순신2']\n"
     ]
    }
   ],
   "source": [
    "### 위의 임의 리스트 변수 사용\n",
    "# 리스트 변수를 전달 받아 임의 값을 추가하는 함수 정의\n",
    "# 함수명 : setAppendList()\n",
    "\n",
    "temp_list = ['홍길동', '이순신', '김유신']\n",
    "# add_name = \"홍길동2\"\n",
    "\n",
    "def setAppendList(p_list, p_name) :\n",
    "    p_list.append(p_name)\n",
    "\n",
    "setAppendList(temp_list, \"이순신2\")\n",
    "print(temp_list)"
   ]
  },
  {
   "cell_type": "code",
   "execution_count": 18,
   "metadata": {},
   "outputs": [
    {
     "name": "stdout",
     "output_type": "stream",
     "text": [
      "-- 4 단 시작! -- \n",
      "4 x 3 = 12\n",
      "4 x 4 = 16\n",
      "4 x 5 = 20\n",
      "-- 5 단 시작! -- \n",
      "5 x 3 = 15\n",
      "5 x 4 = 20\n",
      "5 x 5 = 25\n"
     ]
    }
   ],
   "source": [
    "### 구구단 함수 만들기\n",
    "\n",
    "# - 함수명 : printGdan2()\n",
    "# - 기능 : 임의의 시작단과 끝단 받기, 곱할 시작값과 끝값 받기\n",
    "\n",
    "def printGDan2(s_dan, f_dan, s_num, f_num) :\n",
    "    for i in range(s_dan, f_dan +1) :\n",
    "        print(f\"-- {i} 단 시작! -- \")\n",
    "        for j in range(s_num, f_num+1) :\n",
    "            print(f\"{i} x {j} = {i * j}\")\n",
    "\n",
    "printGDan2(4, 5, 3, 5)"
   ]
  },
  {
   "cell_type": "code",
   "execution_count": null,
   "metadata": {},
   "outputs": [],
   "source": [
    "### 임의 여러개 값을 매개변수로 받아와야 하는 경우\n",
    "# - 정해지지 않은 갯수\n",
    "# - 이때 매개변수명 앞에 *을 붙혀 사용\n",
    "# *로 받은 타입은 튜플 타입\n",
    "\n",
    "def getTotSum(*num) :\n",
    "    print(num)\n"
   ]
  },
  {
   "cell_type": "code",
   "execution_count": 19,
   "metadata": {},
   "outputs": [
    {
     "data": {
      "text/plain": [
       "55"
      ]
     },
     "execution_count": 19,
     "metadata": {},
     "output_type": "execute_result"
    }
   ],
   "source": [
    "### 위 함수를 수정\n",
    "# - n부터 n까지의 총합을 계산한 후\n",
    "# - 총합의 결과값을 리턴\n",
    "# - 반환받은 결과를 출력\n",
    "\n",
    "def getTotSum(*num) :\n",
    "    sum = 0\n",
    "    for idx in range(0, len(num), 1) :\n",
    "        sum = sum + num[idx]\n",
    "    return sum\n",
    "\n",
    "getTotSum(1, 2, 3, 4, 5, 6, 7, 8, 9, 10)"
   ]
  },
  {
   "cell_type": "code",
   "execution_count": 21,
   "metadata": {},
   "outputs": [
    {
     "data": {
      "text/plain": [
       "55"
      ]
     },
     "execution_count": 21,
     "metadata": {},
     "output_type": "execute_result"
    }
   ],
   "source": [
    "def getTotSum(*num) :\n",
    "    tot = sum(num)\n",
    "    return tot\n",
    "\n",
    "getTotSum(1, 2, 3, 4, 5, 6, 7, 8, 9, 10)"
   ]
  },
  {
   "cell_type": "code",
   "execution_count": 24,
   "metadata": {},
   "outputs": [
    {
     "data": {
      "text/plain": [
       "[('홍길동', '이순신', '김유신')]"
      ]
     },
     "execution_count": 24,
     "metadata": {},
     "output_type": "execute_result"
    }
   ],
   "source": [
    "### 문자열로 여러개 값 받아오기\n",
    "\n",
    "def getString(*string) :\n",
    "    return string\n",
    "\n",
    "### setAppendList() 함수와 getString() 함수를 이용\n",
    "# 이름 여러개의 튜플 타입을 임의 리스트에 추가하기\n",
    "# 리스트 변수명 : temp_list\n",
    "\n",
    "def setAppendList(p_list, p_name) :\n",
    "    p_list.append(p_name)\n",
    "    return p_list\n",
    "\n",
    "\n",
    "list_temp = []\n",
    "setAppendList(list_temp, getString('홍길동', '이순신', '김유신'))"
   ]
  },
  {
   "cell_type": "code",
   "execution_count": 25,
   "metadata": {},
   "outputs": [
    {
     "data": {
      "text/plain": [
       "{'name': '홍길동', 'age': 30, 'area': '부산'}"
      ]
     },
     "execution_count": 25,
     "metadata": {},
     "output_type": "execute_result"
    }
   ],
   "source": [
    "### 임의 여러개의 key = value 형태의 값들을 묶어서 받아오기\n",
    "# - 별 기호 **를 사용\n",
    "# - **의 의미 : key = vlaue 로 전달받은 값들을 딕셔너리 타입으로 처리\n",
    "\n",
    "def getDict(**info) :\n",
    "    return info\n",
    "\n",
    "getDict(name='홍길동', age=30, area='부산')"
   ]
  },
  {
   "cell_type": "code",
   "execution_count": 27,
   "metadata": {},
   "outputs": [
    {
     "data": {
      "text/plain": [
       "[{'name': '홍길동', 'age': 30, 'area': '부산'}]"
      ]
     },
     "execution_count": 27,
     "metadata": {},
     "output_type": "execute_result"
    }
   ],
   "source": [
    "## 위에 사용한 setAppendList() 함수와 getDict() 함수를 이용\n",
    "# - 사용자 정보(name='홍길동', age=30, area='부산')를 딕셔너리 타입으로 리스트에 저장\n",
    "# 리스트 변수명 list_temp = []\n",
    "\n",
    "list_temp = []\n",
    "setAppendList(list_temp, getDict(name='홍길동', age=30, area='부산'))"
   ]
  }
 ],
 "metadata": {
  "kernelspec": {
   "display_name": "base",
   "language": "python",
   "name": "python3"
  },
  "language_info": {
   "codemirror_mode": {
    "name": "ipython",
    "version": 3
   },
   "file_extension": ".py",
   "mimetype": "text/x-python",
   "name": "python",
   "nbconvert_exporter": "python",
   "pygments_lexer": "ipython3",
   "version": "3.12.7"
  }
 },
 "nbformat": 4,
 "nbformat_minor": 2
}
