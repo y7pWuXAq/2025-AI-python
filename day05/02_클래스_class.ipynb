{
 "cells": [
  {
   "cell_type": "markdown",
   "id": "6bc0c185",
   "metadata": {},
   "source": [
    "#### 클래스\n",
    "\n",
    "- 클래스 이름은 대문자로 시작\n",
    "- 변수를  멤버 변수, 함수를 멤버 함수라고 칭함\n",
    "- 함수를 정의할 때, 매개변수에는 무조건 self라는 단어를 처음에 제시해야 함\n",
    "  - self는 클래스 내에서 전역변수로 사용하겠다는 의미를 가짐\n",
    "  - self로 정의된 변수들은 모두 외부에서 접근이 가능"
   ]
  },
  {
   "cell_type": "code",
   "execution_count": 1,
   "id": "978151cd-d2c8-4bcd-b5ef-9733ff6c3232",
   "metadata": {
    "id": "978151cd-d2c8-4bcd-b5ef-9733ff6c3232"
   },
   "outputs": [],
   "source": [
    "class Math :\n",
    "    ### 리스트 변수\n",
    "    list_temp = []\n",
    "\n",
    "    ### 리스트에 데이터 추가하는 함수 정의하기\n",
    "    def setAppendList(self, p_list, p_name) :\n",
    "        p_list.append(p_name)\n",
    "\n",
    "    ### 여러개의 문자열을 튜플 타입으로 반환하기\n",
    "    def getTuple(self, *string) :\n",
    "        return string\n",
    "\n",
    "    ### 여러개의 key=value를 딕셔너리 타입으로 반환하기\n",
    "    def getDict(self, **info) :\n",
    "        return info"
   ]
  },
  {
   "cell_type": "code",
   "execution_count": 2,
   "id": "7d1fc67a-894b-4709-aeea-5f8aced5f09b",
   "metadata": {
    "id": "7d1fc67a-894b-4709-aeea-5f8aced5f09b",
    "outputId": "50c903c4-ed6d-49b0-b5b0-86ff79ccfc18"
   },
   "outputs": [
    {
     "data": {
      "text/plain": [
       "<__main__.Math at 0x24836d00aa0>"
      ]
     },
     "execution_count": 2,
     "metadata": {},
     "output_type": "execute_result"
    }
   ],
   "source": [
    "Math()"
   ]
  },
  {
   "cell_type": "code",
   "execution_count": 3,
   "id": "518ea5f7-4303-4f6b-a721-acfaa63dad38",
   "metadata": {
    "id": "518ea5f7-4303-4f6b-a721-acfaa63dad38",
    "outputId": "901be7d5-0602-4722-c6cb-81b1c8a4e2c5"
   },
   "outputs": [
    {
     "data": {
      "text/plain": [
       "[{'name': '홍길동', 'age': 11, 'area': '부산'}]"
      ]
     },
     "execution_count": 3,
     "metadata": {},
     "output_type": "execute_result"
    }
   ],
   "source": [
    "### 클래스는 호출이 아닌, 생성한다는 표현을 사용 합니다.\n",
    "# - 생성과 동시에 메모리가 만들어 집니다.\n",
    "\n",
    "### 클래스 생성하기\n",
    "math = Math()\n",
    "math.setAppendList(math.list_temp,\n",
    "                   math.getDict(name=\"홍길동\", age=11, area=\"부산\"))\n",
    "math.list_temp"
   ]
  },
  {
   "cell_type": "code",
   "execution_count": 4,
   "id": "8d9bf21b-ae87-40cc-bf77-75d06f3eaa34",
   "metadata": {
    "id": "8d9bf21b-ae87-40cc-bf77-75d06f3eaa34"
   },
   "outputs": [],
   "source": [
    "class Math :\n",
    "    ### 리스트 변수\n",
    "    list_temp = []\n",
    "\n",
    "    ### 리스트에 데이터 추가하는 함수 정의하기\n",
    "    def setAppendList(self, p_name) :\n",
    "        self.list_temp.append(p_name)\n",
    "\n",
    "    ### 여러개의 문자열을 튜플 타입으로 반환하기\n",
    "    def getTuple(self, *string) :\n",
    "        return string\n",
    "\n",
    "    ### 여러개의 key=value를 딕셔너리 타입으로 반환하기\n",
    "    def getDict(self, **info) :\n",
    "        return info"
   ]
  },
  {
   "cell_type": "code",
   "execution_count": 5,
   "id": "e5c5503b-4365-46cf-b8e8-5eb55282b8fa",
   "metadata": {
    "id": "e5c5503b-4365-46cf-b8e8-5eb55282b8fa",
    "outputId": "09042447-cda6-42ac-b508-59df3441ae2e"
   },
   "outputs": [
    {
     "data": {
      "text/plain": [
       "[{'name': '홍길동', 'age': 11, 'area': '부산'}]"
      ]
     },
     "execution_count": 5,
     "metadata": {},
     "output_type": "execute_result"
    }
   ],
   "source": [
    "### 클래스 생성하기\n",
    "math1 = Math()\n",
    "math1.setAppendList(math1.getDict(name=\"홍길동\", age=11, area=\"부산\"))\n",
    "math1.list_temp"
   ]
  },
  {
   "cell_type": "code",
   "execution_count": 6,
   "id": "f541d2e0-01b1-4d4e-863e-b0194f8d3f8f",
   "metadata": {
    "id": "f541d2e0-01b1-4d4e-863e-b0194f8d3f8f"
   },
   "outputs": [],
   "source": [
    "class Math :\n",
    "    ### 리스트 변수\n",
    "    list_temp = []\n",
    "\n",
    "    ### setTuple_AppList()\n",
    "    # - 딕셔너리 타입을 리스트에 추가하는 함수 정의\n",
    "    def setDict_AppList(self, **data) :\n",
    "        self.setAppendList(data)\n",
    "\n",
    "    ### 리스트에 데이터 추가하는 함수 정의하기\n",
    "    def setAppendList(self, p_name) :\n",
    "        self.list_temp.append(p_name)\n",
    "\n",
    "    ### 여러개의 문자열을 튜플 타입으로 반환하기\n",
    "    def getTuple(self, *string) :\n",
    "        return string\n",
    "\n",
    "    ### 여러개의 key=value를 딕셔너리 타입으로 반환하기\n",
    "    def getDict(self, **info) :\n",
    "        return info"
   ]
  },
  {
   "cell_type": "code",
   "execution_count": 7,
   "id": "a6d2acd7-27e2-4a31-91a5-5edef0f017d9",
   "metadata": {
    "id": "a6d2acd7-27e2-4a31-91a5-5edef0f017d9",
    "outputId": "298dc7b1-6ed1-4630-80a9-03608e355e87"
   },
   "outputs": [
    {
     "data": {
      "text/plain": [
       "[{'name': '홍길동', 'age': 11, 'area': '부산'}]"
      ]
     },
     "execution_count": 7,
     "metadata": {},
     "output_type": "execute_result"
    }
   ],
   "source": [
    "### 클래스 생성하기\n",
    "math2 = Math()\n",
    "math2.setDict_AppList(name=\"홍길동\", age=11, area=\"부산\")\n",
    "math2.list_temp"
   ]
  },
  {
   "cell_type": "code",
   "execution_count": 8,
   "id": "b1ca326b-9dca-4bbd-9320-c9647b736589",
   "metadata": {
    "id": "b1ca326b-9dca-4bbd-9320-c9647b736589"
   },
   "outputs": [],
   "source": [
    "class Math :\n",
    "    ### 생성자 함수 정의하기\n",
    "    # - 외부에서 클래스 생성시에 미리 값을 정의하고자 할 때 넘겨받을 값을 처리함\n",
    "    def __init__(self, **data) :\n",
    "        print(\"생성자가 호출되었습니다.\")\n",
    "        self.setAppendList(data)\n",
    "\n",
    "    ### 리스트 변수\n",
    "    list_temp = []\n",
    "\n",
    "    ### setTuple_AppList()\n",
    "    # - 딕셔너리 타입을 리스트에 추가하는 함수 정의\n",
    "    def setDict_AppList(self, **data) :\n",
    "        self.setAppendList(data)\n",
    "\n",
    "    ### 리스트에 데이터 추가하는 함수 정의하기\n",
    "    def setAppendList(self, p_name) :\n",
    "        self.list_temp.append(p_name)\n",
    "\n",
    "    ### 여러개의 문자열을 튜플 타입으로 반환하기\n",
    "    def getTuple(self, *string) :\n",
    "        return string\n",
    "\n",
    "    ### 여러개의 key=value를 딕셔너리 타입으로 반환하기\n",
    "    def getDict(self, **info) :\n",
    "        return info"
   ]
  },
  {
   "cell_type": "code",
   "execution_count": 9,
   "id": "50f73d6b-f53d-4563-8700-125ab28ffd1f",
   "metadata": {
    "id": "50f73d6b-f53d-4563-8700-125ab28ffd1f",
    "outputId": "2d5c1c3a-c32a-4563-fc6b-563ddc16c9b9"
   },
   "outputs": [
    {
     "name": "stdout",
     "output_type": "stream",
     "text": [
      "생성자가 호출되었습니다.\n"
     ]
    },
    {
     "data": {
      "text/plain": [
       "[{}, {'name': '홍길동', 'age': 11, 'area': '부산'}]"
      ]
     },
     "execution_count": 9,
     "metadata": {},
     "output_type": "execute_result"
    }
   ],
   "source": [
    "### 클래스 생성하기\n",
    "math3 = Math()\n",
    "math3.setDict_AppList(name=\"홍길동\", age=11, area=\"부산\")\n",
    "math3.list_temp"
   ]
  },
  {
   "cell_type": "code",
   "execution_count": 10,
   "id": "c8c60e9a-75b4-42f6-b4de-ad4d0315665a",
   "metadata": {
    "id": "c8c60e9a-75b4-42f6-b4de-ad4d0315665a",
    "outputId": "de9254db-af39-4a16-af2a-f9117d3e51d8"
   },
   "outputs": [
    {
     "name": "stdout",
     "output_type": "stream",
     "text": [
      "생성자가 호출되었습니다.\n"
     ]
    },
    {
     "data": {
      "text/plain": [
       "[{},\n",
       " {'name': '홍길동', 'age': 11, 'area': '부산'},\n",
       " {'name': '홍길동', 'age': 11, 'area': '부산'}]"
      ]
     },
     "execution_count": 10,
     "metadata": {},
     "output_type": "execute_result"
    }
   ],
   "source": [
    "### 클래스 생성하기\n",
    "math4 = Math(name=\"홍길동\", age=11, area=\"부산\")\n",
    "math3.list_temp"
   ]
  },
  {
   "cell_type": "markdown",
   "id": "3463d367-3a2e-4217-89be-a84c7b3c5e35",
   "metadata": {
    "id": "3463d367-3a2e-4217-89be-a84c7b3c5e35"
   },
   "source": [
    "### 외부 모듈(라이브러리) 불러들이기"
   ]
  },
  {
   "cell_type": "code",
   "execution_count": 11,
   "id": "6a16adac-c2f8-4b89-8c1d-490347edd591",
   "metadata": {
    "id": "6a16adac-c2f8-4b89-8c1d-490347edd591"
   },
   "outputs": [],
   "source": [
    "### 외부의 .py 파일 불러들이기\n",
    "# - 모듈 불러들이기 : import\n",
    "# - 커널 리스타트 한 후 아래 진행\n",
    "import math_class"
   ]
  },
  {
   "cell_type": "code",
   "execution_count": 12,
   "id": "fd50a077-3c8e-41ae-81d1-222d0695e0e6",
   "metadata": {
    "id": "fd50a077-3c8e-41ae-81d1-222d0695e0e6",
    "outputId": "f4c6c8df-37b8-4e9d-ed23-f6976f7a3cd7"
   },
   "outputs": [
    {
     "name": "stdout",
     "output_type": "stream",
     "text": [
      "생성자가 호출되었습니다.\n"
     ]
    },
    {
     "data": {
      "text/plain": [
       "[{'name': '홍길동', 'age': 11, 'area': '부산'}]"
      ]
     },
     "execution_count": 12,
     "metadata": {},
     "output_type": "execute_result"
    }
   ],
   "source": [
    "### 클래스 생성하기\n",
    "math5 = math_class.Math(name=\"홍길동\", age=11, area=\"부산\")\n",
    "math5.list_temp"
   ]
  },
  {
   "cell_type": "code",
   "execution_count": 13,
   "id": "12e16c8a-39a9-4770-bc72-a9c532651fb7",
   "metadata": {
    "id": "12e16c8a-39a9-4770-bc72-a9c532651fb7"
   },
   "outputs": [],
   "source": [
    "### 불러들이는 방법 2번째.....\n",
    "from math_class import Math"
   ]
  },
  {
   "cell_type": "code",
   "execution_count": 14,
   "id": "6ec7e943-9287-4cba-90ae-62e52a8a19ea",
   "metadata": {
    "id": "6ec7e943-9287-4cba-90ae-62e52a8a19ea",
    "outputId": "b8d1a74f-e79a-42ac-fd79-0822714a834e"
   },
   "outputs": [
    {
     "name": "stdout",
     "output_type": "stream",
     "text": [
      "생성자가 호출되었습니다.\n"
     ]
    },
    {
     "data": {
      "text/plain": [
       "[{'name': '홍길동', 'age': 11, 'area': '부산'},\n",
       " {'name': '홍길동4444', 'age': 11, 'area': '부산'}]"
      ]
     },
     "execution_count": 14,
     "metadata": {},
     "output_type": "execute_result"
    }
   ],
   "source": [
    "### 클래스 생성하기\n",
    "math6 = Math(name=\"홍길동4444\", age=11, area=\"부산\")\n",
    "math6.list_temp"
   ]
  },
  {
   "cell_type": "code",
   "execution_count": 15,
   "id": "1f3fcae2-5ddc-456b-925e-ed9375498d04",
   "metadata": {
    "id": "1f3fcae2-5ddc-456b-925e-ed9375498d04"
   },
   "outputs": [],
   "source": [
    "### 불러들이는 방법 3번째.....\n",
    "# as : 별칭 (이름이 긴 경우에 사용합니다.)\n",
    "# from 뒤에는 : 폴더명 또는 파일명\n",
    "# import 뒤에는 : 파일명 또는 클래스명 또는 함수명\n",
    "#               : from 없이 사용하는 경우에는 파일명\n",
    "#               : from 뒤에 사용하는 경우에는 클래스명, 함수명\n",
    "from math_class import Math as M"
   ]
  },
  {
   "cell_type": "code",
   "execution_count": 16,
   "id": "836d0256-ad58-487d-96b8-da60ca6cff05",
   "metadata": {
    "id": "836d0256-ad58-487d-96b8-da60ca6cff05",
    "outputId": "621dba65-d1ab-4de5-8aba-437bdb08a511"
   },
   "outputs": [
    {
     "name": "stdout",
     "output_type": "stream",
     "text": [
      "생성자가 호출되었습니다.\n"
     ]
    },
    {
     "data": {
      "text/plain": [
       "[{'name': '홍길동', 'age': 11, 'area': '부산'},\n",
       " {'name': '홍길동4444', 'age': 11, 'area': '부산'},\n",
       " {'name': '홍길동4444', 'age': 11, 'area': '부산'}]"
      ]
     },
     "execution_count": 16,
     "metadata": {},
     "output_type": "execute_result"
    }
   ],
   "source": [
    "### 클래스 생성하기\n",
    "math7 = M(name=\"홍길동4444\", age=11, area=\"부산\")\n",
    "math7.list_temp"
   ]
  },
  {
   "cell_type": "code",
   "execution_count": 17,
   "id": "ee9edbcb-751f-46a1-b176-aac757f857ac",
   "metadata": {
    "id": "ee9edbcb-751f-46a1-b176-aac757f857ac"
   },
   "outputs": [],
   "source": [
    "### 불러들이는 방법 4번째\n",
    "# 폴더 안에 있는 파일의 경우\n",
    "from lib.math_class_lib import Math as M2"
   ]
  },
  {
   "cell_type": "code",
   "execution_count": 18,
   "id": "b178ed56-17d8-47c4-b789-bca689be5f29",
   "metadata": {
    "id": "b178ed56-17d8-47c4-b789-bca689be5f29",
    "outputId": "3029aad0-476f-41f3-b6a5-9557d438862d"
   },
   "outputs": [
    {
     "name": "stdout",
     "output_type": "stream",
     "text": [
      "생성자가 호출되었습니다.\n"
     ]
    },
    {
     "ename": "TypeError",
     "evalue": "Math.setDIct_AppList() takes 1 positional argument but 2 were given",
     "output_type": "error",
     "traceback": [
      "\u001b[1;31m---------------------------------------------------------------------------\u001b[0m",
      "\u001b[1;31mTypeError\u001b[0m                                 Traceback (most recent call last)",
      "Cell \u001b[1;32mIn[18], line 2\u001b[0m\n\u001b[0;32m      1\u001b[0m \u001b[38;5;66;03m### 클래스 생성하기\u001b[39;00m\n\u001b[1;32m----> 2\u001b[0m math8 \u001b[38;5;241m=\u001b[39m M2(name\u001b[38;5;241m=\u001b[39m\u001b[38;5;124m\"\u001b[39m\u001b[38;5;124m홍길동4444\u001b[39m\u001b[38;5;124m\"\u001b[39m, age\u001b[38;5;241m=\u001b[39m\u001b[38;5;241m11\u001b[39m, area\u001b[38;5;241m=\u001b[39m\u001b[38;5;124m\"\u001b[39m\u001b[38;5;124m부산\u001b[39m\u001b[38;5;124m\"\u001b[39m)\n\u001b[0;32m      3\u001b[0m math8\u001b[38;5;241m.\u001b[39mlist_temp\n",
      "File \u001b[1;32mc:\\Users\\Administrator\\pk_202503\\2025-AI-python\\day05\\lib\\math_class_lib.py:7\u001b[0m, in \u001b[0;36mMath.__init__\u001b[1;34m(self, **data)\u001b[0m\n\u001b[0;32m      5\u001b[0m \u001b[38;5;28;01mdef\u001b[39;00m \u001b[38;5;21m__init__\u001b[39m(\u001b[38;5;28mself\u001b[39m, \u001b[38;5;241m*\u001b[39m\u001b[38;5;241m*\u001b[39mdata):\n\u001b[0;32m      6\u001b[0m     \u001b[38;5;28mprint\u001b[39m(\u001b[38;5;124m\"\u001b[39m\u001b[38;5;124m생성자가 호출되었습니다.\u001b[39m\u001b[38;5;124m\"\u001b[39m)\n\u001b[1;32m----> 7\u001b[0m     \u001b[38;5;28mself\u001b[39m\u001b[38;5;241m.\u001b[39msetDIct_AppList(data)\n",
      "\u001b[1;31mTypeError\u001b[0m: Math.setDIct_AppList() takes 1 positional argument but 2 were given"
     ]
    }
   ],
   "source": [
    "### 클래스 생성하기\n",
    "math8 = M2(name=\"홍길동4444\", age=11, area=\"부산\")\n",
    "math8.list_temp"
   ]
  },
  {
   "cell_type": "code",
   "execution_count": null,
   "id": "4779c5c8-6856-42e8-b517-faedae2a61cd",
   "metadata": {
    "id": "4779c5c8-6856-42e8-b517-faedae2a61cd"
   },
   "outputs": [],
   "source": [
    "from lib.math_class_lib import getTotSum"
   ]
  },
  {
   "cell_type": "code",
   "execution_count": null,
   "id": "0d6f8394-9d30-4ecf-91be-b3478e3d7845",
   "metadata": {
    "id": "0d6f8394-9d30-4ecf-91be-b3478e3d7845",
    "outputId": "cdf045be-a85f-4849-c2e5-47b26ac45d17"
   },
   "outputs": [
    {
     "data": {
      "text/plain": [
       "10"
      ]
     },
     "execution_count": 2,
     "metadata": {},
     "output_type": "execute_result"
    }
   ],
   "source": [
    "getTotSum(1, 2, 3, 4)"
   ]
  },
  {
   "cell_type": "markdown",
   "id": "a86f3115-1042-4b9a-85ab-b2eba24456d7",
   "metadata": {
    "id": "a86f3115-1042-4b9a-85ab-b2eba24456d7"
   },
   "source": [
    "### 한줄 코딩"
   ]
  },
  {
   "cell_type": "code",
   "execution_count": null,
   "id": "cebe6175-f5e4-45a0-9a74-4d01978671ba",
   "metadata": {
    "id": "cebe6175-f5e4-45a0-9a74-4d01978671ba",
    "outputId": "cbb60cbe-f6d5-4327-ceb8-d30c1118502a"
   },
   "outputs": [
    {
     "data": {
      "text/plain": [
       "[0, 1, 2, 3, 4, 5, 6, 7, 8, 9]"
      ]
     },
     "execution_count": 3,
     "metadata": {},
     "output_type": "execute_result"
    }
   ],
   "source": [
    "list_temp = list(range(10))\n",
    "list_temp"
   ]
  },
  {
   "cell_type": "code",
   "execution_count": null,
   "id": "912872b0-0edd-4236-94ea-74312a78e669",
   "metadata": {
    "id": "912872b0-0edd-4236-94ea-74312a78e669",
    "outputId": "cd29df1e-f7f1-44a8-8177-11f04aff6865",
    "scrolled": true
   },
   "outputs": [
    {
     "name": "stdout",
     "output_type": "stream",
     "text": [
      "0 1 2 3 4 5 6 7 8 9 "
     ]
    }
   ],
   "source": [
    "for i in list_temp :\n",
    "    print(i, end=\" \")"
   ]
  },
  {
   "cell_type": "code",
   "execution_count": null,
   "id": "09a923b4-56a8-4025-a3bc-64cf1ef88d4d",
   "metadata": {
    "id": "09a923b4-56a8-4025-a3bc-64cf1ef88d4d",
    "outputId": "0d0f0b4f-2021-43b0-9a3c-403938d5b76a"
   },
   "outputs": [
    {
     "data": {
      "text/plain": [
       "[0, 1, 2, 3, 4, 5, 6, 7, 8, 9]"
      ]
     },
     "execution_count": 6,
     "metadata": {},
     "output_type": "execute_result"
    }
   ],
   "source": [
    "### 한줄 for문 (단축 for문)\n",
    "[i for i in list_temp]\n",
    "\n",
    "### [0] + [1] + [2] +...+[9] = [0, 1, 2, 3, 4, 5, 6, 7, 8, 9]"
   ]
  },
  {
   "cell_type": "code",
   "execution_count": null,
   "id": "bb9ee720-6508-4f2d-913b-309434cd43fa",
   "metadata": {
    "id": "bb9ee720-6508-4f2d-913b-309434cd43fa",
    "outputId": "83dcb951-61ca-4874-bb98-e0a9e7aca37d"
   },
   "outputs": [
    {
     "data": {
      "text/plain": [
       "'0 1 2 3 4 5 6 7 8 9'"
      ]
     },
     "execution_count": 7,
     "metadata": {},
     "output_type": "execute_result"
    }
   ],
   "source": [
    "### 출력하기\n",
    "\" \".join(str(i) for i in list_temp)"
   ]
  },
  {
   "cell_type": "code",
   "execution_count": null,
   "id": "1b257448-ba7a-4b94-8e8f-f3a78fbe77d8",
   "metadata": {
    "id": "1b257448-ba7a-4b94-8e8f-f3a78fbe77d8",
    "outputId": "7d74d98d-8987-4a4d-bb41-6757198455e4"
   },
   "outputs": [
    {
     "data": {
      "text/plain": [
       "[[0, 1, 2, 3, 4, 5, 6, 7, 8, 9], [10, 11, 12]]"
      ]
     },
     "execution_count": 10,
     "metadata": {},
     "output_type": "execute_result"
    }
   ],
   "source": [
    "### 2차원 list 만들기\n",
    "# list_2dim = [[0, 1, 2, 3, 4, 5, 6, 7, 8, 9], [10, 11, 12]]\n",
    "list_2dim = [list(range(10)), [10, 11, 12]]\n",
    "list_2dim"
   ]
  },
  {
   "cell_type": "code",
   "execution_count": null,
   "id": "6cc0b265-9354-4b20-985b-d21a2538b76b",
   "metadata": {
    "id": "6cc0b265-9354-4b20-985b-d21a2538b76b",
    "outputId": "4a2bc018-e8a5-4677-f98e-484037b8fa5a"
   },
   "outputs": [
    {
     "name": "stdout",
     "output_type": "stream",
     "text": [
      "0 1 2 3 4 5 6 7 8 9 10 11 12 "
     ]
    }
   ],
   "source": [
    "for list_data in list_2dim :\n",
    "    for j in list_data :\n",
    "        print(j, end=\" \")"
   ]
  },
  {
   "cell_type": "code",
   "execution_count": null,
   "id": "a385c6c7-2f23-467c-a8da-35a4eaa1db64",
   "metadata": {
    "id": "a385c6c7-2f23-467c-a8da-35a4eaa1db64",
    "outputId": "23c3a0d3-6d73-48a2-9edc-17eae9cf628c"
   },
   "outputs": [
    {
     "data": {
      "text/plain": [
       "[0, 1, 2, 3, 4, 5, 6, 7, 8, 9, 10, 11, 12]"
      ]
     },
     "execution_count": 13,
     "metadata": {},
     "output_type": "execute_result"
    }
   ],
   "source": [
    "### 한줄 코딩으로 2차원 for문 수행\n",
    "# - 대괄호 또는 튜플 또는 딕셔너리 등등 안에서 수행\n",
    "[j for list_data in list_2dim for j in list_data]"
   ]
  },
  {
   "cell_type": "code",
   "execution_count": null,
   "id": "84f5e0f5-7f32-44d7-aac9-b481934127e1",
   "metadata": {
    "id": "84f5e0f5-7f32-44d7-aac9-b481934127e1",
    "outputId": "7b37e190-6e58-4bef-85fa-5caa8ae6f3e6"
   },
   "outputs": [
    {
     "name": "stdout",
     "output_type": "stream",
     "text": [
      "참\n"
     ]
    }
   ],
   "source": [
    "### if문 한줄 코딩\n",
    "v = 3\n",
    "if v < 5 :\n",
    "    print(\"참\")\n",
    "else :\n",
    "    print(\"거짓\")"
   ]
  },
  {
   "cell_type": "code",
   "execution_count": null,
   "id": "c0995ba8-4e23-4ae3-81ab-8409876332f7",
   "metadata": {
    "id": "c0995ba8-4e23-4ae3-81ab-8409876332f7",
    "outputId": "d44e4c0e-b627-4ed9-e254-ea8c638dc23b"
   },
   "outputs": [
    {
     "name": "stdout",
     "output_type": "stream",
     "text": [
      "참\n"
     ]
    }
   ],
   "source": [
    "print(\"참\" if v < 5 else \"거짓\")"
   ]
  },
  {
   "cell_type": "code",
   "execution_count": null,
   "id": "86955d7d-56dc-4bc9-87d6-ef7f1de86eab",
   "metadata": {
    "id": "86955d7d-56dc-4bc9-87d6-ef7f1de86eab",
    "outputId": "b90dc4c0-5dc0-4c2c-9c4d-709d5944314b"
   },
   "outputs": [
    {
     "name": "stdout",
     "output_type": "stream",
     "text": [
      "중립\n"
     ]
    }
   ],
   "source": [
    "v = 6\n",
    "if v < 5 :\n",
    "    print(\"참\")\n",
    "elif v < 10 :\n",
    "    print(\"중립\")\n",
    "else :\n",
    "    print(\"거짓\")"
   ]
  },
  {
   "cell_type": "code",
   "execution_count": null,
   "id": "97cf97c7-815f-4757-9e58-8c8961670c74",
   "metadata": {
    "id": "97cf97c7-815f-4757-9e58-8c8961670c74",
    "outputId": "182e51cb-932a-4743-f57d-a40d05770d2f"
   },
   "outputs": [
    {
     "name": "stdout",
     "output_type": "stream",
     "text": [
      "중립\n"
     ]
    }
   ],
   "source": [
    "### 한줄 코딩\n",
    "print(\"참\" if v<5 else \"중립\" if v < 10 else \"거짓\")"
   ]
  }
 ],
 "metadata": {
  "accelerator": "GPU",
  "colab": {
   "gpuType": "T4",
   "provenance": []
  },
  "kernelspec": {
   "display_name": "base",
   "language": "python",
   "name": "python3"
  },
  "language_info": {
   "codemirror_mode": {
    "name": "ipython",
    "version": 3
   },
   "file_extension": ".py",
   "mimetype": "text/x-python",
   "name": "python",
   "nbconvert_exporter": "python",
   "pygments_lexer": "ipython3",
   "version": "3.12.7"
  }
 },
 "nbformat": 4,
 "nbformat_minor": 5
}
