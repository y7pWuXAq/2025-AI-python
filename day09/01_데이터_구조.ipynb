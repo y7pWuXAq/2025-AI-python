{
 "cells": [
  {
   "cell_type": "code",
   "execution_count": 1,
   "id": "0f6fe49a-b16b-4f92-8240-6b73caa4c19e",
   "metadata": {},
   "outputs": [],
   "source": [
    "### 데이터 처리 라이브러리\n",
    "import pandas as pd"
   ]
  },
  {
   "cell_type": "markdown",
   "id": "cab19d66-d40a-4a1b-8b8a-3a7b122ece72",
   "metadata": {},
   "source": [
    "### 시리즈(Series)"
   ]
  },
  {
   "cell_type": "code",
   "execution_count": 5,
   "id": "64f6b0d4-214c-4500-bee2-5bb35f36a38f",
   "metadata": {},
   "outputs": [
    {
     "data": {
      "text/plain": [
       "a    강아지\n",
       "b    고양이\n",
       "c    호랑이\n",
       "d     사자\n",
       "e    원숭이\n",
       "dtype: object"
      ]
     },
     "execution_count": 5,
     "metadata": {},
     "output_type": "execute_result"
    }
   ],
   "source": [
    "### 시리즈 : 한 컬럼의 열 데이터를 담당하는 타입\n",
    "# - 리스트의 구조와 유사함(인덱스 번호 또는 값으로 유지됨)\n",
    "# - 리스트와 사용방법이 유사함\n",
    "data = [\"강아지\", \"고양이\", \"호랑이\", \"사자\", \"원숭이\"]\n",
    "idx  = [\"0\", \"1\", \"2\", \"3\", \"4\"]\n",
    "idx  = [\"a\", \"b\", \"c\", \"d\", \"e\"]\n",
    "\n",
    "# - 시리즈 타입으로 정의하기\n",
    "pd.Series(data=data, index=idx)"
   ]
  },
  {
   "cell_type": "markdown",
   "id": "f0130170-44ec-42e7-8d6f-43ba9b8efd79",
   "metadata": {},
   "source": [
    "### 딕셔너리 데이터를 -> 시리즈로 변환하기"
   ]
  },
  {
   "cell_type": "code",
   "execution_count": 7,
   "id": "424c2bf8-5876-4b2c-ad9f-1acaacb20445",
   "metadata": {},
   "outputs": [
    {
     "data": {
      "text/plain": [
       "a    1\n",
       "b    2\n",
       "c    3\n",
       "dtype: int64"
      ]
     },
     "execution_count": 7,
     "metadata": {},
     "output_type": "execute_result"
    }
   ],
   "source": [
    "dict_data = {\"a\" : 1, \"b\" : 2, \"c\" : 3}\n",
    "# 딕셔너리의 key는    index값으로 사용되고, \n",
    "#           value는  시리즈의 값으로 사용됨\n",
    "pd.Series(dict_data)"
   ]
  },
  {
   "cell_type": "markdown",
   "id": "88aa76fb-7280-407d-a243-62c131371230",
   "metadata": {},
   "source": [
    "### 리스트를 -> 시리즈로 변환하기"
   ]
  },
  {
   "cell_type": "code",
   "execution_count": 10,
   "id": "b8cfeb72-2e00-4803-9417-f5a6ddbd7e2f",
   "metadata": {},
   "outputs": [
    {
     "data": {
      "text/plain": [
       "0    강아지\n",
       "1    고양이\n",
       "2    호랑이\n",
       "3     사자\n",
       "4    원숭이\n",
       "dtype: object"
      ]
     },
     "execution_count": 10,
     "metadata": {},
     "output_type": "execute_result"
    }
   ],
   "source": [
    "list_data = [\"강아지\", \"고양이\", \"호랑이\", \"사자\", \"원숭이\"]\n",
    "# 리스트의 index 번호를 -> 시리즈의 인덱스 값으로\n",
    "#         데이터 값을   -> 시리즈의 값으로\n",
    "pd.Series(list_data)"
   ]
  },
  {
   "cell_type": "markdown",
   "id": "3769c4ec-ac18-4fed-86d7-f42d18bba8b2",
   "metadata": {},
   "source": [
    "### 튜플을 -> 시리즈로"
   ]
  },
  {
   "cell_type": "code",
   "execution_count": 12,
   "id": "88bae878-3e8c-4191-85a1-255373a4cbc4",
   "metadata": {},
   "outputs": [
    {
     "data": {
      "text/plain": [
       "0    강아지\n",
       "1    고양이\n",
       "2    호랑이\n",
       "3     사자\n",
       "4    원숭이\n",
       "dtype: object"
      ]
     },
     "execution_count": 12,
     "metadata": {},
     "output_type": "execute_result"
    }
   ],
   "source": [
    "tuple_data = (\"강아지\", \"고양이\", \"호랑이\", \"사자\", \"원숭이\")\n",
    "# 튜플의 index 번호를 -> 시리즈의 인덱스 값으로\n",
    "#       데이터 값을   -> 시리즈의 값으로\n",
    "pd.Series(tuple_data)"
   ]
  },
  {
   "cell_type": "markdown",
   "id": "3c0c4ba1-7ae5-4b82-bc92-0b1704b6aaae",
   "metadata": {},
   "source": [
    "### 시리즈의 인덱스 값을 수정하기"
   ]
  },
  {
   "cell_type": "code",
   "execution_count": 14,
   "id": "a0dd6d0e-93e5-4dee-b288-fc49078c729f",
   "metadata": {},
   "outputs": [
    {
     "data": {
      "text/plain": [
       "a    강아지\n",
       "b    고양이\n",
       "c    호랑이\n",
       "d     사자\n",
       "e    원숭이\n",
       "dtype: object"
      ]
     },
     "execution_count": 14,
     "metadata": {},
     "output_type": "execute_result"
    }
   ],
   "source": [
    "pd.Series(tuple_data, index=[\"a\", \"b\", \"c\", \"d\", \"e\"])"
   ]
  },
  {
   "cell_type": "markdown",
   "id": "1786660f-94d4-4e11-b739-0e9fabf2c456",
   "metadata": {},
   "source": [
    "### 데이터프레임 생성 방법"
   ]
  },
  {
   "cell_type": "markdown",
   "id": "28d56117-8eb3-4f8d-beaa-7ec78df4b275",
   "metadata": {},
   "source": [
    "##### 딕셔너리 데이터를 이용해서 -> 데이터프레임 생성하기"
   ]
  },
  {
   "cell_type": "code",
   "execution_count": 16,
   "id": "f32b676d-4b91-4453-a01e-9afcac87f096",
   "metadata": {},
   "outputs": [
    {
     "data": {
      "text/html": [
       "<div>\n",
       "<style scoped>\n",
       "    .dataframe tbody tr th:only-of-type {\n",
       "        vertical-align: middle;\n",
       "    }\n",
       "\n",
       "    .dataframe tbody tr th {\n",
       "        vertical-align: top;\n",
       "    }\n",
       "\n",
       "    .dataframe thead th {\n",
       "        text-align: right;\n",
       "    }\n",
       "</style>\n",
       "<table border=\"1\" class=\"dataframe\">\n",
       "  <thead>\n",
       "    <tr style=\"text-align: right;\">\n",
       "      <th></th>\n",
       "      <th>동물</th>\n",
       "      <th>나이</th>\n",
       "    </tr>\n",
       "  </thead>\n",
       "  <tbody>\n",
       "    <tr>\n",
       "      <th>0</th>\n",
       "      <td>강아지</td>\n",
       "      <td>5</td>\n",
       "    </tr>\n",
       "    <tr>\n",
       "      <th>1</th>\n",
       "      <td>고양이</td>\n",
       "      <td>6</td>\n",
       "    </tr>\n",
       "    <tr>\n",
       "      <th>2</th>\n",
       "      <td>호랑이</td>\n",
       "      <td>8</td>\n",
       "    </tr>\n",
       "    <tr>\n",
       "      <th>3</th>\n",
       "      <td>사자</td>\n",
       "      <td>3</td>\n",
       "    </tr>\n",
       "    <tr>\n",
       "      <th>4</th>\n",
       "      <td>원숭이</td>\n",
       "      <td>7</td>\n",
       "    </tr>\n",
       "  </tbody>\n",
       "</table>\n",
       "</div>"
      ],
      "text/plain": [
       "    동물  나이\n",
       "0  강아지   5\n",
       "1  고양이   6\n",
       "2  호랑이   8\n",
       "3   사자   3\n",
       "4  원숭이   7"
      ]
     },
     "execution_count": 16,
     "metadata": {},
     "output_type": "execute_result"
    }
   ],
   "source": [
    "### 데이터프레임에 적용하기 위한 딕셔너리 형태\n",
    "dict_data = {\"동물\" : [\"강아지\", \"고양이\", \"호랑이\", \"사자\", \"원숭이\"],\n",
    "             \"나이\" : [5, 6, 8, 3, 7]}\n",
    "pd.DataFrame(dict_data)"
   ]
  },
  {
   "cell_type": "markdown",
   "id": "97af45af-7f5f-4cf2-a0e2-2673e678d7b1",
   "metadata": {},
   "source": [
    "##### 리스트 데이터를 -> 데이터프레임으로"
   ]
  },
  {
   "cell_type": "code",
   "execution_count": 21,
   "id": "b78c7e41-886f-4f1b-a9a3-7a6bb20938f0",
   "metadata": {},
   "outputs": [
    {
     "data": {
      "text/html": [
       "<div>\n",
       "<style scoped>\n",
       "    .dataframe tbody tr th:only-of-type {\n",
       "        vertical-align: middle;\n",
       "    }\n",
       "\n",
       "    .dataframe tbody tr th {\n",
       "        vertical-align: top;\n",
       "    }\n",
       "\n",
       "    .dataframe thead th {\n",
       "        text-align: right;\n",
       "    }\n",
       "</style>\n",
       "<table border=\"1\" class=\"dataframe\">\n",
       "  <thead>\n",
       "    <tr style=\"text-align: right;\">\n",
       "      <th></th>\n",
       "      <th>동물</th>\n",
       "      <th>나이</th>\n",
       "    </tr>\n",
       "  </thead>\n",
       "  <tbody>\n",
       "    <tr>\n",
       "      <th>0</th>\n",
       "      <td>강아지</td>\n",
       "      <td>5</td>\n",
       "    </tr>\n",
       "    <tr>\n",
       "      <th>1</th>\n",
       "      <td>고양이</td>\n",
       "      <td>6</td>\n",
       "    </tr>\n",
       "    <tr>\n",
       "      <th>2</th>\n",
       "      <td>호랑이</td>\n",
       "      <td>8</td>\n",
       "    </tr>\n",
       "    <tr>\n",
       "      <th>3</th>\n",
       "      <td>사자</td>\n",
       "      <td>3</td>\n",
       "    </tr>\n",
       "    <tr>\n",
       "      <th>4</th>\n",
       "      <td>원숭이</td>\n",
       "      <td>7</td>\n",
       "    </tr>\n",
       "  </tbody>\n",
       "</table>\n",
       "</div>"
      ],
      "text/plain": [
       "    동물  나이\n",
       "0  강아지   5\n",
       "1  고양이   6\n",
       "2  호랑이   8\n",
       "3   사자   3\n",
       "4  원숭이   7"
      ]
     },
     "execution_count": 21,
     "metadata": {},
     "output_type": "execute_result"
    }
   ],
   "source": [
    "list_data = [[\"강아지\", 5], [\"고양이\", 6], [\"호랑이\", 8], \n",
    "             [\"사자\", 3], [\"원숭이\", 7]]\n",
    "pd.DataFrame(list_data, columns=[\"동물\", \"나이\"])"
   ]
  },
  {
   "cell_type": "markdown",
   "id": "9439cbf7-1e4e-4376-a2c1-a3ace798deb2",
   "metadata": {},
   "source": [
    "### 깨끗한(비어 있는) 데이터프레임 생성하기 "
   ]
  },
  {
   "cell_type": "code",
   "execution_count": 20,
   "id": "12384c85-c084-4d26-b192-903a6d8d9b93",
   "metadata": {},
   "outputs": [
    {
     "data": {
      "text/html": [
       "<div>\n",
       "<style scoped>\n",
       "    .dataframe tbody tr th:only-of-type {\n",
       "        vertical-align: middle;\n",
       "    }\n",
       "\n",
       "    .dataframe tbody tr th {\n",
       "        vertical-align: top;\n",
       "    }\n",
       "\n",
       "    .dataframe thead th {\n",
       "        text-align: right;\n",
       "    }\n",
       "</style>\n",
       "<table border=\"1\" class=\"dataframe\">\n",
       "  <thead>\n",
       "    <tr style=\"text-align: right;\">\n",
       "      <th></th>\n",
       "    </tr>\n",
       "  </thead>\n",
       "  <tbody>\n",
       "  </tbody>\n",
       "</table>\n",
       "</div>"
      ],
      "text/plain": [
       "Empty DataFrame\n",
       "Columns: []\n",
       "Index: []"
      ]
     },
     "execution_count": 20,
     "metadata": {},
     "output_type": "execute_result"
    }
   ],
   "source": [
    "df = pd.DataFrame()\n",
    "df"
   ]
  },
  {
   "cell_type": "code",
   "execution_count": 22,
   "id": "6913dfa7-c5d0-4b91-8495-eddca0bdde5b",
   "metadata": {},
   "outputs": [
    {
     "data": {
      "text/html": [
       "<div>\n",
       "<style scoped>\n",
       "    .dataframe tbody tr th:only-of-type {\n",
       "        vertical-align: middle;\n",
       "    }\n",
       "\n",
       "    .dataframe tbody tr th {\n",
       "        vertical-align: top;\n",
       "    }\n",
       "\n",
       "    .dataframe thead th {\n",
       "        text-align: right;\n",
       "    }\n",
       "</style>\n",
       "<table border=\"1\" class=\"dataframe\">\n",
       "  <thead>\n",
       "    <tr style=\"text-align: right;\">\n",
       "      <th></th>\n",
       "      <th>동물</th>\n",
       "      <th>나이</th>\n",
       "    </tr>\n",
       "  </thead>\n",
       "  <tbody>\n",
       "    <tr>\n",
       "      <th>0</th>\n",
       "      <td>강아지</td>\n",
       "      <td>5</td>\n",
       "    </tr>\n",
       "    <tr>\n",
       "      <th>1</th>\n",
       "      <td>고양이</td>\n",
       "      <td>6</td>\n",
       "    </tr>\n",
       "    <tr>\n",
       "      <th>2</th>\n",
       "      <td>호랑이</td>\n",
       "      <td>8</td>\n",
       "    </tr>\n",
       "    <tr>\n",
       "      <th>3</th>\n",
       "      <td>사자</td>\n",
       "      <td>3</td>\n",
       "    </tr>\n",
       "    <tr>\n",
       "      <th>4</th>\n",
       "      <td>원숭이</td>\n",
       "      <td>7</td>\n",
       "    </tr>\n",
       "  </tbody>\n",
       "</table>\n",
       "</div>"
      ],
      "text/plain": [
       "    동물  나이\n",
       "0  강아지   5\n",
       "1  고양이   6\n",
       "2  호랑이   8\n",
       "3   사자   3\n",
       "4  원숭이   7"
      ]
     },
     "execution_count": 22,
     "metadata": {},
     "output_type": "execute_result"
    }
   ],
   "source": [
    "### 깨끗한 데이터 프레임에 데이터 넣기...\n",
    "# - 딕셔너리의 개념을 따름 : key(컬러명)가 있으면 데이터 수정\n",
    "#                                        없으면 컬럼 및 데이터 생성\n",
    "df[\"동물\"] = [\"강아지\", \"고양이\", \"호랑이\", \"사자\", \"원숭이\"]\n",
    "df[\"나이\"] = [5, 6, 8, 3, 7]\n",
    "df"
   ]
  },
  {
   "cell_type": "code",
   "execution_count": 30,
   "id": "9a3f0a90-9306-42cb-b0a1-19d0098c5572",
   "metadata": {},
   "outputs": [
    {
     "data": {
      "text/html": [
       "<div>\n",
       "<style scoped>\n",
       "    .dataframe tbody tr th:only-of-type {\n",
       "        vertical-align: middle;\n",
       "    }\n",
       "\n",
       "    .dataframe tbody tr th {\n",
       "        vertical-align: top;\n",
       "    }\n",
       "\n",
       "    .dataframe thead th {\n",
       "        text-align: right;\n",
       "    }\n",
       "</style>\n",
       "<table border=\"1\" class=\"dataframe\">\n",
       "  <thead>\n",
       "    <tr style=\"text-align: right;\">\n",
       "      <th></th>\n",
       "      <th>동물</th>\n",
       "      <th>나이</th>\n",
       "    </tr>\n",
       "  </thead>\n",
       "  <tbody>\n",
       "    <tr>\n",
       "      <th>0</th>\n",
       "      <td>[강아지, 고양이, 호랑이, 사자, 원숭이]</td>\n",
       "      <td>[5, 6, 8, 3, 7]</td>\n",
       "    </tr>\n",
       "  </tbody>\n",
       "</table>\n",
       "</div>"
      ],
      "text/plain": [
       "                         동물               나이\n",
       "0  [강아지, 고양이, 호랑이, 사자, 원숭이]  [5, 6, 8, 3, 7]"
      ]
     },
     "execution_count": 30,
     "metadata": {},
     "output_type": "execute_result"
    }
   ],
   "source": [
    "df1 = pd.DataFrame()\n",
    "df1[\"동물\"] = [[\"강아지\", \"고양이\", \"호랑이\", \"사자\", \"원숭이\"]]\n",
    "df1[\"나이\"] = [[5, 6, 8, 3, 7]]\n",
    "df1"
   ]
  },
  {
   "cell_type": "code",
   "execution_count": 33,
   "id": "86e725b4-4d7f-4a18-8791-bfbaf9bc66e5",
   "metadata": {},
   "outputs": [
    {
     "data": {
      "text/plain": [
       "0                             동물               나이\n",
       "0...\n",
       "Name: 데이터프레임, dtype: object"
      ]
     },
     "execution_count": 33,
     "metadata": {},
     "output_type": "execute_result"
    }
   ],
   "source": [
    "df = pd.DataFrame()\n",
    "df[\"동물\"] = [{\"a\":\"호랑이\"}]\n",
    "df[\"나이\"] = [[5, 6, 8, 3, 7]]\n",
    "df[\"데이터프레임\"] = [df1]\n",
    "df"
   ]
  },
  {
   "cell_type": "code",
   "execution_count": 42,
   "id": "bdda0d3f-334b-45d7-9390-4ca2ed983d7c",
   "metadata": {},
   "outputs": [
    {
     "data": {
      "text/plain": [
       "pandas.core.frame.DataFrame"
      ]
     },
     "execution_count": 42,
     "metadata": {},
     "output_type": "execute_result"
    }
   ],
   "source": [
    "type(df[\"동물\"][0]) == dict\n",
    "type(df[\"나이\"][0]) == list"
   ]
  },
  {
   "cell_type": "markdown",
   "id": "7f586e19-4bdb-45d1-afe9-e77975f05b97",
   "metadata": {},
   "source": [
    "### 데이터프레임의 컬럼명 확인하기"
   ]
  },
  {
   "cell_type": "code",
   "execution_count": 35,
   "id": "055d22c1-2895-45b7-992f-c79ce3761f1b",
   "metadata": {},
   "outputs": [
    {
     "data": {
      "text/plain": [
       "Index(['동물', '나이'], dtype='object')"
      ]
     },
     "execution_count": 35,
     "metadata": {},
     "output_type": "execute_result"
    }
   ],
   "source": [
    "list_data = [[\"강아지\", 5], [\"고양이\", 6], [\"호랑이\", 8], \n",
    "             [\"사자\", 3], [\"원숭이\", 7]]\n",
    "df_temp = pd.DataFrame(list_data, columns=[\"동물\", \"나이\"])\n",
    "\n",
    "### 컬럼명 확인\n",
    "df_temp.columns"
   ]
  }
 ],
 "metadata": {
  "kernelspec": {
   "display_name": "pk_base_202503_kernel",
   "language": "python",
   "name": "pk_base_202503"
  },
  "language_info": {
   "codemirror_mode": {
    "name": "ipython",
    "version": 3
   },
   "file_extension": ".py",
   "mimetype": "text/x-python",
   "name": "python",
   "nbconvert_exporter": "python",
   "pygments_lexer": "ipython3",
   "version": "3.9.21"
  }
 },
 "nbformat": 4,
 "nbformat_minor": 5
}
