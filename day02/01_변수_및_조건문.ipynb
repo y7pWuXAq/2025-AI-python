{
 "cells": [
  {
   "cell_type": "markdown",
   "metadata": {},
   "source": [
    "### 변수 타입 확인하기"
   ]
  },
  {
   "cell_type": "code",
   "execution_count": 1,
   "metadata": {},
   "outputs": [],
   "source": [
    "a = 1\n",
    "b = \"2\""
   ]
  },
  {
   "cell_type": "code",
   "execution_count": 3,
   "metadata": {},
   "outputs": [
    {
     "ename": "TypeError",
     "evalue": "unsupported operand type(s) for +: 'int' and 'str'",
     "output_type": "error",
     "traceback": [
      "\u001b[1;31m---------------------------------------------------------------------------\u001b[0m",
      "\u001b[1;31mTypeError\u001b[0m                                 Traceback (most recent call last)",
      "Cell \u001b[1;32mIn[3], line 3\u001b[0m\n\u001b[0;32m      1\u001b[0m \u001b[38;5;66;03m### a와 b를 더하기\u001b[39;00m\n\u001b[1;32m----> 3\u001b[0m a \u001b[38;5;241m+\u001b[39m b\n",
      "\u001b[1;31mTypeError\u001b[0m: unsupported operand type(s) for +: 'int' and 'str'"
     ]
    }
   ],
   "source": [
    "### a와 b를 더하기\n",
    "\n",
    "a + b"
   ]
  },
  {
   "cell_type": "code",
   "execution_count": 5,
   "metadata": {},
   "outputs": [
    {
     "data": {
      "text/plain": [
       "(int, str)"
      ]
     },
     "execution_count": 5,
     "metadata": {},
     "output_type": "execute_result"
    }
   ],
   "source": [
    "### 변수의 타입을 확인하는 함수 : type(값)\n",
    "\n",
    "type(a), type(b)"
   ]
  },
  {
   "cell_type": "code",
   "execution_count": 8,
   "metadata": {},
   "outputs": [],
   "source": [
    "### 타입 변환 (형변환)\n",
    "\n",
    "c = int(b)"
   ]
  },
  {
   "cell_type": "code",
   "execution_count": 11,
   "metadata": {},
   "outputs": [
    {
     "data": {
      "text/plain": [
       "int"
      ]
     },
     "execution_count": 11,
     "metadata": {},
     "output_type": "execute_result"
    }
   ],
   "source": [
    "type(c)"
   ]
  },
  {
   "cell_type": "code",
   "execution_count": 13,
   "metadata": {},
   "outputs": [
    {
     "data": {
      "text/plain": [
       "3"
      ]
     },
     "execution_count": 13,
     "metadata": {},
     "output_type": "execute_result"
    }
   ],
   "source": [
    "a + c"
   ]
  },
  {
   "cell_type": "code",
   "execution_count": 15,
   "metadata": {},
   "outputs": [
    {
     "data": {
      "text/plain": [
       "3"
      ]
     },
     "execution_count": 15,
     "metadata": {},
     "output_type": "execute_result"
    }
   ],
   "source": [
    "a + int(b)"
   ]
  },
  {
   "cell_type": "code",
   "execution_count": 16,
   "metadata": {},
   "outputs": [
    {
     "data": {
      "text/plain": [
       "'12'"
      ]
     },
     "execution_count": 16,
     "metadata": {},
     "output_type": "execute_result"
    }
   ],
   "source": [
    "str(a) + b"
   ]
  },
  {
   "cell_type": "markdown",
   "metadata": {},
   "source": [
    "### 변수명 규칙\n",
    "\n",
    "* 변수명은 변수명은 영문, 특수문자, 숫자 등의 조합으로 생성\n",
    "* 가급적 영문으로 생성\n",
    "* 필요 시 특수문자를 이용해 영문명과 연결하여 사용 (abc_a)\n",
    "* 숫자는 변수명의 뒤에 사용 (abc_1)\n",
    "    - 변수명은 숫자로 시작 할 수 없음\n",
    "* !! 중요 : 변수명은 값이 아님(임의로 변수명을 값처럼 만들어 낼 수 없음)"
   ]
  },
  {
   "cell_type": "markdown",
   "metadata": {},
   "source": [
    "### 산술연산자\n",
    "\n",
    "* 보통 숫자를 이용한 연산을 수행\n",
    "    - 간혹, 문자열간의 더하기(+) 또는 곱하기(*) 연산을 수행하는 경우도 있음\n",
    "\n",
    "* 연산자 기호 : +, -, *, /, %, //, **, ++, --\n",
    "    - 주로 사용하는 연산 기호는 +, -, *, /, %, ++\n",
    "\n",
    "* % : 나눈 나머지의 값 (홀, 짝 체크 할 때 주로 사용)\n",
    "* // : 나눈 몫의 값\n",
    "* ** : 거듭제곱(^)"
   ]
  },
  {
   "cell_type": "code",
   "execution_count": 19,
   "metadata": {},
   "outputs": [
    {
     "name": "stdout",
     "output_type": "stream",
     "text": [
      "짝수 입니다.\n"
     ]
    }
   ],
   "source": [
    "### 짝수 홀수 출력하기\n",
    "# - 아래 값이 짝수이면 \"짝수 입니다.\" 출력\n",
    "# - 아래 값이 홀수이면 \"홀수 입니다.\" 출력\n",
    "\n",
    "a = 10\n",
    "\n",
    "if a % 2 == 0 : \n",
    "    print(\"짝수 입니다.\")\n",
    "else :\n",
    "    print(\"홀수 입니다.\")"
   ]
  },
  {
   "cell_type": "code",
   "execution_count": 21,
   "metadata": {},
   "outputs": [
    {
     "data": {
      "text/plain": [
       "'acb'"
      ]
     },
     "execution_count": 21,
     "metadata": {},
     "output_type": "execute_result"
    }
   ],
   "source": [
    "### 문자열 연산자\n",
    "\n",
    "a_str = \"acb\"\n",
    "a_str"
   ]
  },
  {
   "cell_type": "code",
   "execution_count": 23,
   "metadata": {},
   "outputs": [
    {
     "data": {
      "text/plain": [
       "'acbacb'"
      ]
     },
     "execution_count": 23,
     "metadata": {},
     "output_type": "execute_result"
    }
   ],
   "source": [
    "a_str + a_str"
   ]
  },
  {
   "cell_type": "code",
   "execution_count": 24,
   "metadata": {},
   "outputs": [
    {
     "data": {
      "text/plain": [
       "'acbacbacbacbacbacbacbacbacbacb'"
      ]
     },
     "execution_count": 24,
     "metadata": {},
     "output_type": "execute_result"
    }
   ],
   "source": [
    "### abc 라는 문자열을 연속해서 10번 반복해서 출력하기\n",
    "# ex) : abcabcabcabcabcabcabcabcabcabc\n",
    "\n",
    "a_str * 10"
   ]
  },
  {
   "cell_type": "markdown",
   "metadata": {},
   "source": [
    "### 조건문"
   ]
  },
  {
   "cell_type": "code",
   "execution_count": 25,
   "metadata": {},
   "outputs": [
    {
     "name": "stdout",
     "output_type": "stream",
     "text": [
      "일반인 입니다.\n"
     ]
    }
   ],
   "source": [
    "## 임의 변수명(age)에 50이라는 값을 저장\n",
    "# - age는 나이\n",
    "# - 임의 변수명에 있는 값이 20세 미만이면 청소년입니다.\n",
    "# - 임의 변수명에 있는 값이 20세 이상이면서 60세 이하면 일반인 입니다.\n",
    "# - 임의 변수명에 있는 값이 60세를 초과하면 실버입니다.\n",
    "\n",
    "# 위 조건을 만족하는 조건문 작성\n",
    "\n",
    "age = 50\n",
    "\n",
    "if age < 20 :\n",
    "    print(\"청소년 입니다.\")\n",
    "elif 20 <= age <= 60 :\n",
    "    print(\"일반인 입니다.\")\n",
    "else :\n",
    "    print(\"실버 입니다.\") "
   ]
  },
  {
   "cell_type": "code",
   "execution_count": 35,
   "metadata": {},
   "outputs": [
    {
     "name": "stdout",
     "output_type": "stream",
     "text": [
      "50세 일반인 입니다.\n",
      "50세 일반인 입니다.\n",
      "50세 일반인 입니다.\n"
     ]
    }
   ],
   "source": [
    "### 위 문제를 그대로 사용해서 출력 결과만 처리하기\n",
    "\n",
    "# - 임의 변수명에 있는 값이 20세 미만이면 00세 청소년입니다.\n",
    "# - 임의 변수명에 있는 값이 20세 이상이면서 60세 이하면 00살 일반인 입니다.\n",
    "# - 임의 변수명에 있는 값이 60세를 초과하면 00세 실버입니다.\n",
    "# - 이 때 00살은 변수에 지정된 값을 사용\n",
    "\n",
    "#\n",
    "if age < 20 :\n",
    "    print(str(age) + \"세 청소년 입니다.\")\n",
    "elif 20 <= age <= 60 :\n",
    "    print(str(age) +\"세 일반인 입니다.\")\n",
    "else :\n",
    "    print(str(age) +\"세 실버 입니다.\")\n",
    "\n",
    "### format(포멧) : 문자열 함수\n",
    "# 문자열에 변수의 값을 포함하여 사용하고자 할 때 유용\n",
    "\n",
    "if age < 20 :\n",
    "    print(\"{}세 청소년 입니다.\".format(age))\n",
    "elif 20 <= age <= 60 :\n",
    "    print(\"{}세 일반인 입니다.\".format(age))\n",
    "else :\n",
    "    print(\"{}세 실버 입니다.\".format(age))\n",
    "\n",
    "# 주로 아래 방법이 편리함\n",
    "if age < 20 :\n",
    "    print(f\"{age}세 청소년 입니다.\")\n",
    "elif 20 <= age <= 60 :\n",
    "    print(f\"{age}세 일반인 입니다.\")\n",
    "else :\n",
    "    print(f\"{age}세 실버 입니다.\")\n"
   ]
  },
  {
   "cell_type": "code",
   "execution_count": 34,
   "metadata": {},
   "outputs": [
    {
     "name": "stdout",
     "output_type": "stream",
     "text": [
      "50세 일반인 입니다.\n"
     ]
    }
   ],
   "source": [
    "### 위의 문제 조건은 그대로 사용\n",
    "# - 출력은 if문이 완전히 종료된 후 한번만 print() 사용하여 출력하기\n",
    "# - 출력 결과를 담을 변수를 하나 생성하여 조건에 맞는 출력 결과를 저장\n",
    "# - if문이 완전히 종료 된 후 결과를 출력시키기\n",
    "\n",
    "age = 50\n",
    "\n",
    "if age < 20 :\n",
    "    age1 = \"청소년\"\n",
    "elif 20 <= age <= 60 :\n",
    "    age1 = \"일반인\"\n",
    "else :\n",
    "    age1 = \"실버\"\n",
    "\n",
    "print(f\"{age}세 {age1} 입니다.\")"
   ]
  }
 ],
 "metadata": {
  "kernelspec": {
   "display_name": "base",
   "language": "python",
   "name": "python3"
  },
  "language_info": {
   "codemirror_mode": {
    "name": "ipython",
    "version": 3
   },
   "file_extension": ".py",
   "mimetype": "text/x-python",
   "name": "python",
   "nbconvert_exporter": "python",
   "pygments_lexer": "ipython3",
   "version": "3.12.7"
  }
 },
 "nbformat": 4,
 "nbformat_minor": 2
}
