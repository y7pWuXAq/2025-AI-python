{
 "cells": [
  {
   "cell_type": "markdown",
   "metadata": {},
   "source": [
    "### 여러개의 변수값들을 묶어서 가지고 다니는 타입\n",
    "- 리스트(List), 딕셔너리(Dict), 튜플(tuple), 등등..\n",
    "\n",
    "#### 리스트(List) 변수\n",
    "\n",
    "- 여러개의 변수들의 값들을 하나로 관리하는변수\n",
    "    - 사용되는 기호 : []\n",
    "    - 리스트 메모리 공간 내에 여러개의 작은 메모리(변수)들이 존재함\n",
    "    - 여러개의 작은 메모리의 주소값을 인덱스(index) 주소, 또는 번호라고 칭함\n",
    "    - 리스트 내에 있는 값들을 처리 할 때는 주로 for 문과 함께 사용\n",
    "    - 리스트 내에 값들이 타입은 다양함 (어떤 타입도 가능)\n",
    "    - 리스트 내에 값을 추출하는 방법\n",
    "        - 작은 메모리 주소, 즉 인덱스(index) 번호를 이용해서 추출함"
   ]
  },
  {
   "cell_type": "code",
   "execution_count": 1,
   "metadata": {},
   "outputs": [],
   "source": [
    "### 리스트 변수 만들기\n",
    "\n",
    "list_val = [10, 20, 30, 40, 50, 60, 70, 60, 30, 30, 40]\n",
    "\n"
   ]
  },
  {
   "cell_type": "code",
   "execution_count": 3,
   "metadata": {},
   "outputs": [
    {
     "data": {
      "text/plain": [
       "11"
      ]
     },
     "execution_count": 3,
     "metadata": {},
     "output_type": "execute_result"
    }
   ],
   "source": [
    "### 리스트 내에 값의 갯수 확인\n",
    "len(list_val)"
   ]
  },
  {
   "cell_type": "code",
   "execution_count": 6,
   "metadata": {},
   "outputs": [
    {
     "name": "stdout",
     "output_type": "stream",
     "text": [
      "10\n",
      "20\n",
      "30\n",
      "40\n",
      "50\n",
      "60\n",
      "70\n",
      "60\n",
      "30\n",
      "30\n",
      "40\n"
     ]
    }
   ],
   "source": [
    "### 리스트 내의 값 추출하기 : for 문 이용\n",
    "\n",
    "# for range(len(list_val)) :\n",
    "# (0, 1, 2, 3, 4, .... 0)\n",
    "\n",
    "for i in range (0, len(list_val), 1) :\n",
    "    print(list_val[i])"
   ]
  },
  {
   "cell_type": "code",
   "execution_count": 17,
   "metadata": {},
   "outputs": [
    {
     "name": "stdout",
     "output_type": "stream",
     "text": [
      "3\n"
     ]
    }
   ],
   "source": [
    "### 리스트 내의 값 중에 30 이라는 숫자가 총 몇개 들어 있는지 출력\n",
    "# 총 갯수는 for 문이 종료 된 후 한번만 출력\n",
    "\n",
    "\n",
    "count = 0\n",
    "\n",
    "for i in range (0, len(list_val), 1) :\n",
    "    if list_val[i] == 30 :\n",
    "        count += 1\n",
    "print(count)"
   ]
  },
  {
   "cell_type": "markdown",
   "metadata": {},
   "source": [
    "#### 리스트 출력 시 for 문 작성하는 방법 두가지\n",
    "\n",
    "- 리스트 내에 index 번호를 이용하는 방법\n",
    "- 리스트 내에 값 자체를 이용하는 방법"
   ]
  },
  {
   "cell_type": "code",
   "execution_count": 22,
   "metadata": {},
   "outputs": [],
   "source": [
    "### 리스트 변수 생성\n",
    "# - 변수명 : list_temp\n",
    "# - 값 : 1, 2, \"이순신\", \"홍길동\", 3.141592\n",
    "\n",
    "list_temp = [ 1, 2, \"이순신\", \"홍길동\", 3.141592 ]"
   ]
  },
  {
   "cell_type": "code",
   "execution_count": 20,
   "metadata": {},
   "outputs": [
    {
     "name": "stdout",
     "output_type": "stream",
     "text": [
      "1\n",
      "2\n",
      "이순신\n",
      "홍길동\n",
      "3.141592\n"
     ]
    }
   ],
   "source": [
    "for i in range (0, len(list_temp), 1): \n",
    "    print(list_temp[i])"
   ]
  },
  {
   "cell_type": "code",
   "execution_count": 21,
   "metadata": {},
   "outputs": [
    {
     "name": "stdout",
     "output_type": "stream",
     "text": [
      "1\n",
      "2\n",
      "이순신\n",
      "홍길동\n",
      "3.141592\n"
     ]
    }
   ],
   "source": [
    "### for 문 : 리스트 내에 값 자체를 이용하는 방법\n",
    "\n",
    "for v in list_temp :\n",
    "    print(v)"
   ]
  },
  {
   "cell_type": "markdown",
   "metadata": {},
   "source": [
    "#### List 변수 생성하는 방법\n",
    "\n",
    "- 깨끗한 리스트 생성하기(값이 없는 리스트)"
   ]
  },
  {
   "cell_type": "code",
   "execution_count": 24,
   "metadata": {},
   "outputs": [
    {
     "name": "stdout",
     "output_type": "stream",
     "text": [
      "[]\n"
     ]
    }
   ],
   "source": [
    "list2 = []\n",
    "print(list2)"
   ]
  },
  {
   "cell_type": "code",
   "execution_count": 27,
   "metadata": {},
   "outputs": [
    {
     "name": "stdout",
     "output_type": "stream",
     "text": [
      "[]\n",
      "[1, '홍']\n",
      "[1, '홍']\n"
     ]
    }
   ],
   "source": [
    "### 리스트 함수 이용하여 생성\n",
    "\n",
    "list3 = list()\n",
    "print(list3)\n",
    "\n",
    "### 값을 정의하여 생성\n",
    "list4 = [1, \"홍\"]\n",
    "print(list4)\n",
    "\n",
    "list5 = list([1, \"홍\"])\n",
    "print(list5)"
   ]
  },
  {
   "cell_type": "code",
   "execution_count": 28,
   "metadata": {},
   "outputs": [
    {
     "name": "stdout",
     "output_type": "stream",
     "text": [
      "[0, 1, 2, 3, 4, 5, 6, 7, 8, 9, 10, 11, 12, 13, 14, 15, 16, 17, 18, 19, 20, 21, 22, 23, 24, 25, 26, 27, 28, 29, 30, 31, 32, 33, 34, 35, 36, 37, 38, 39, 40, 41, 42, 43, 44, 45, 46, 47, 48, 49, 50, 51, 52, 53, 54, 55, 56, 57, 58, 59, 60, 61, 62, 63, 64, 65, 66, 67, 68, 69, 70, 71, 72, 73, 74, 75, 76, 77, 78, 79, 80, 81, 82, 83, 84, 85, 86, 87, 88, 89, 90, 91, 92, 93, 94, 95, 96, 97, 98, 99, 100]\n"
     ]
    }
   ],
   "source": [
    "### 0부터 100까지의 값을 정의하여 생성하기\n",
    "\n",
    "list6 = list(range(0, 101, 1))\n",
    "print(list6)"
   ]
  },
  {
   "cell_type": "code",
   "execution_count": 29,
   "metadata": {},
   "outputs": [
    {
     "name": "stdout",
     "output_type": "stream",
     "text": [
      "[range(0, 101)]\n"
     ]
    }
   ],
   "source": [
    "list7 = [range(0, 101, 1)]\n",
    "print(list7)"
   ]
  },
  {
   "cell_type": "code",
   "execution_count": 43,
   "metadata": {},
   "outputs": [
    {
     "name": "stdout",
     "output_type": "stream",
     "text": [
      "[0, 6, 12, 18, 24, 30, 36, 42, 48, 54, 60, 66, 72, 78, 84, 90, 96]\n",
      "0\n",
      "6\n",
      "12\n",
      "18\n",
      "24\n",
      "30\n",
      "36\n",
      "42\n",
      "48\n",
      "54\n",
      "60\n",
      "66\n",
      "72\n",
      "78\n",
      "84\n",
      "90\n",
      "96\n"
     ]
    }
   ],
   "source": [
    "### 1부터 100까지의 범위 중에 짝수의 값들로 리스트 변수 생성\n",
    "\n",
    "# 변수명 : list8\n",
    "# list8에 들어 있는 값들 중에 3의 배수들만 출력\n",
    "# 인덱스 번호를 이용하는 방식과, 값을 이용하는 방식 2가지 for 문으로 작성\n",
    "\n",
    "list8 = list(range(0, 102, 2))\n",
    "# print(list8)\n",
    "\n",
    "temp1 = []\n",
    "for i in range (0, len(list8), 1) :\n",
    "    if list8[i] % 3 == 0 :\n",
    "        temp1.append(list8[i])\n",
    "print(temp1)\n",
    "\n",
    "temp2 = []\n",
    "for val in list8 :\n",
    "    if val % 3 == 0 :\n",
    "        print(val)"
   ]
  }
 ],
 "metadata": {
  "kernelspec": {
   "display_name": "base",
   "language": "python",
   "name": "python3"
  },
  "language_info": {
   "codemirror_mode": {
    "name": "ipython",
    "version": 3
   },
   "file_extension": ".py",
   "mimetype": "text/x-python",
   "name": "python",
   "nbconvert_exporter": "python",
   "pygments_lexer": "ipython3",
   "version": "3.12.7"
  }
 },
 "nbformat": 4,
 "nbformat_minor": 2
}
