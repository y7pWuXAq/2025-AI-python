{
 "cells": [
  {
   "cell_type": "markdown",
   "metadata": {},
   "source": [
    "#### 116개 파일 > 행단위로 통합하기"
   ]
  },
  {
   "cell_type": "code",
   "execution_count": null,
   "metadata": {},
   "outputs": [],
   "source": [
    "\"\"\"\n",
    "<지금까지 처리한 순서>\n",
    " 1. 파일 읽어들이기\n",
    " 2. [기준년월] 컬럼 추가\n",
    " 3. [국적] 컬럼에서 [대륙] 이름 제거\n",
    " 4. \"인덱스\" 재정의\n",
    " 5. [대륙] 컬럼 추가\n",
    " 6. [관광객비율(%)] 컬럼 추가\n",
    " 7. [전체관광객비율(%)] 컬럼 추가\n",
    "\"\"\""
   ]
  },
  {
   "cell_type": "code",
   "execution_count": 7,
   "metadata": {},
   "outputs": [],
   "source": [
    "import pandas as pd\n",
    "\n",
    "# 깨끗한 데이터프레임 정의(통합본)\n",
    "df = pd.DataFrame()\n",
    "\n",
    "# 116개의 파일을 읽어 들일 수 있도록 파일명 생성하기\n",
    "# -파일명의 패턴을 반복문을 이용해서 사용(년도,월)\n",
    "for y in range(2010, 2020, 1) :\n",
    "    for m in range(1, 13, 1) :\n",
    "        file_path = f\"./files2/kto_{y}{str(m).zfill(2)}.xlsx\"\n",
    "        #print(file_path)\n",
    "        #예외처리 try~except\n",
    "        # - 외부 영역에서 어떤 오류가 발생할지 모르는 경우에 예외처리 한다.\n",
    "\n",
    "        try :\n",
    "            kto_201901 = pd.read_excel(file_path,\n",
    "                                  header=1,\n",
    "                                  skipfooter=4,\n",
    "                                  usecols=\"A:G\")\n",
    "            # 기준년월 추가\n",
    "            kto_201901[\"기준년월\"] = f\"{y}-{str(m).zfill(2)}\"\n",
    "\n",
    "            # 국적컬럼에서 대륙이름 제거\n",
    "            c = kto_201901[\"국적\"].isin(['아시아주', '미주','구주', '대양주','아프리카주', '기타대륙', '교포소계'])\n",
    "            kto_201901_country = kto_201901[c==False]\n",
    "\n",
    "            # 인덱스번호 재정의\n",
    "            kto_201901_country_newIndex = kto_201901_country.reset_index(drop=True)\n",
    "\n",
    "            #대륙컬럼 추가하기\n",
    "            continents = ['아시아']*25 + ['아메리카']*5 + ['유럽']*23 + ['오세아니아']*3 \\\n",
    "                            + ['아프리카']*2 + ['기타대륙'] + ['교포']\n",
    "            kto_201901_country_newIndex['대륙'] = continents\n",
    "\n",
    "            #관광객비율% 컬럼 추가\n",
    "            kto_201901_country_newIndex[\"관광객 비율(%)\"] \\\n",
    "                = round(kto_201901_country_newIndex[\"관광\"] / kto_201901_country_newIndex[\"계\"] *100, 3)\n",
    "\n",
    "            #전체관광객비율% 컬럼추가\n",
    "            t_sum = kto_201901_country_newIndex[\"관광\"].sum()\n",
    "\n",
    "            kto_201901_country_newIndex[\"전체관광객비율(%)\"] \\\n",
    "                = round(kto_201901_country_newIndex[\"관광\"] / t_sum *100,3)\n",
    "\n",
    "            # 원본 df 데이터프레임에 위 데이터프레임 행단위 추가하기\n",
    "            df = pd.concat([df, kto_201901_country_newIndex], ignore_index=True)\n",
    "            \n",
    "        except :\n",
    "            # 오류가 발생할 경우 처리되는 영역\n",
    "            break\n",
    "    \n"
   ]
  },
  {
   "cell_type": "code",
   "execution_count": 8,
   "metadata": {},
   "outputs": [],
   "source": [
    "# 통합본 파일로 저장하기\n",
    "save_path = \"./files2_tot/kto_total.xlsx\"\n",
    "\n",
    "df.to_excel(save_path, index=False)"
   ]
  },
  {
   "cell_type": "markdown",
   "metadata": {},
   "source": [
    "#### OS 라이브러리를 이용하여 파일 읽기"
   ]
  },
  {
   "cell_type": "code",
   "execution_count": 9,
   "metadata": {},
   "outputs": [],
   "source": [
    "import os\n",
    "import pandas as pd"
   ]
  },
  {
   "cell_type": "code",
   "execution_count": null,
   "metadata": {},
   "outputs": [],
   "source": [
    "### 현재 작업하는 주피터 파일이 위치한 폴더 위치 조회\n",
    "# - 절대경로로 알려줌\n",
    "root = os.getcwd()\n",
    "# print(root)\n",
    "\n",
    "### root 경로 하위에 있는 폴더 및 파일 이름을 모두 조회하기\n",
    "# - 리스트 타입으로 반환받기\n",
    "# - 내가 사용할 파일 또는 폴더의 인덱스 번호를 사용하여 추출하기\n",
    "dir_nm = os.listdir(root)[2]\n",
    "# print(dir_nm)\n",
    "\n",
    "### 내가 사용할 폴더 하위의 모든 파일들 조회하기\n",
    "# - 리스트 타입으로 반환받기\n",
    "file_list = os.listdir(dir_nm)\n",
    "\n",
    "### 깨끗한 데이터프레임 정의하기\n",
    "df = pd.DataFrame()\n",
    "\n",
    "### file_list 만큼 반복하기\n",
    "for file_nm in file_list :\n",
    "    ### 파일 경로 정의하기\n",
    "    # file_path = f\"{root}/{dir_nm}/{file_nm}\"\n",
    "    file_path = f\"./{dir_nm}/{file_nm}\"\n",
    "    # print(file_path)\n",
    "\n",
    "    try :\n",
    "        kto_201901 = pd.read_excel(file_path,\n",
    "                                   header=1,\n",
    "                                   skipfooter=4,\n",
    "                                   usecols=\"A:G\")\n",
    "\n",
    "        # 2. [기준년월] 컬럼 추가\n",
    "        kto_201901[\"기준년월\"] = f\"{file_nm[4:8]}-{file_nm[8:10]}\"\n",
    "        \n",
    "        # 3. [국적] 컬럼에서 [대륙] 이름 제거\n",
    "        c = kto_201901[\"국적\"].isin(['아시아주', '미주', '구주', '대양주', \n",
    "                                     '아프리카주', '기타대륙', '교포소계'])\n",
    "        kto_201901_country = kto_201901[c == False]\n",
    "        \n",
    "        # 4. \"인덱스\" 재정의\n",
    "        kto_201901_country_newindex = kto_201901_country.reset_index(drop=True)\n",
    "        \n",
    "        # 5. [대륙] 컬럼 추가\n",
    "        continents = [\"아시아\"]*25 + [\"아메리카\"]*5 + [\"유럽\"]*23 + [\"오세아니아\"]*3 + \\\n",
    "                        [\"아프리카\"]*2 + [\"기타대륙\"] + [\"교포\"]\n",
    "        kto_201901_country_newindex[\"대륙\"] = continents\n",
    "        \n",
    "        # 6. [관광객비율(%)] 컬럼 추가\n",
    "        kto_201901_country_newindex[\"관광객비율(%)\"] = \\\n",
    "                round(kto_201901_country_newindex[\"관광\"] / \\\n",
    "                      kto_201901_country_newindex[\"계\"] * 100, 3)\n",
    "        \n",
    "        # 7. [전체관광객비율(%)] 컬럼 추가\n",
    "        t_sum = kto_201901_country_newindex[\"관광\"].sum()\n",
    "        kto_201901_country_newindex[\"전체관광객비율(%)\"] = \\\n",
    "                    round(kto_201901_country_newindex[\"관광\"] / t_sum * 100, 3)\n",
    "\n",
    "        # 8. 원본 df 데이터프레임에 위 데이터프레임 행단위 추가하기\n",
    "        df = pd.concat([df, kto_201901_country_newindex], ignore_index=True)\n",
    "        \n",
    "    except : \n",
    "        ### 오류가 발생할 경우 처리되는 영역\n",
    "        break"
   ]
  },
  {
   "cell_type": "code",
   "execution_count": 16,
   "metadata": {},
   "outputs": [],
   "source": [
    "### 통합본 파일로 저장하기\n",
    "save_path = \"./files2_tot/kto_total2.xlsx\"\n",
    "df.to_excel(save_path, index=False)"
   ]
  }
 ],
 "metadata": {
  "kernelspec": {
   "display_name": "base",
   "language": "python",
   "name": "python3"
  },
  "language_info": {
   "codemirror_mode": {
    "name": "ipython",
    "version": 3
   },
   "file_extension": ".py",
   "mimetype": "text/x-python",
   "name": "python",
   "nbconvert_exporter": "python",
   "pygments_lexer": "ipython3",
   "version": "3.12.7"
  }
 },
 "nbformat": 4,
 "nbformat_minor": 2
}
