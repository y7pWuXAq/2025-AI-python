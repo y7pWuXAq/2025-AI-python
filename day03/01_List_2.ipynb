{
 "cells": [
  {
   "cell_type": "code",
   "execution_count": 5,
   "metadata": {},
   "outputs": [
    {
     "name": "stdout",
     "output_type": "stream",
     "text": [
      "[2, 4, 6, 8, 10, 12, 14, 16, 18, 20, 22, 24, 26, 28, 30, 32, 34, 36, 38, 40, 42, 44, 46, 48, 50, 52, 54, 56, 58, 60, 62, 64, 66, 68, 70, 72, 74, 76, 78, 80, 82, 84, 86, 88, 90, 92, 94, 96, 98, 100]\n",
      "[6, 12, 18, 24, 30, 36, 42, 48, 54, 60, 66, 72, 78, 84, 90, 96]\n",
      "6\n",
      "12\n",
      "18\n",
      "24\n",
      "30\n",
      "36\n",
      "42\n",
      "48\n",
      "54\n",
      "60\n",
      "66\n",
      "72\n",
      "78\n",
      "84\n",
      "90\n",
      "96\n"
     ]
    }
   ],
   "source": [
    "### 1부터 100까지의 범위 중에 짝수의 값들로 리스트 변수 생성\n",
    "\n",
    "# 변수명 : list8\n",
    "# list8에 들어 있는 값들 중에 3의 배수들만 출력\n",
    "# 인덱스 번호를 이용하는 방식과, 값을 이용하는 방식 2가지 for 문으로 작성\n",
    "\n",
    "list8 = list(range(2, 102, 2))\n",
    "print(list8)\n",
    "\n",
    "temp1 = []\n",
    "for i in range (0, len(list8), 1) :\n",
    "    if list8[i] % 3 == 0 :\n",
    "        temp1.append(list8[i])\n",
    "print(temp1)\n",
    "\n",
    "temp2 = []\n",
    "for val in list8 :\n",
    "    if val % 3 == 0 :\n",
    "        print(val)"
   ]
  },
  {
   "cell_type": "code",
   "execution_count": 6,
   "metadata": {},
   "outputs": [
    {
     "name": "stdout",
     "output_type": "stream",
     "text": [
      "12\n"
     ]
    }
   ],
   "source": [
    "### list8 데이터 중에 8의 배수의 총 갯수를 출력\n",
    "\n",
    "count = 0\n",
    "for i in range(0, len(list8), 1) :\n",
    "    if list8[i] % 8 == 0 :\n",
    "        count += 1\n",
    "print(count)"
   ]
  },
  {
   "cell_type": "code",
   "execution_count": 8,
   "metadata": {},
   "outputs": [
    {
     "name": "stdout",
     "output_type": "stream",
     "text": [
      "12\n"
     ]
    }
   ],
   "source": [
    "### list의 값 자체를 이용해서 반복 패턴 만들기\n",
    "\n",
    "count = 0\n",
    "for val in list8 :\n",
    "    if val % 8 == 0 :\n",
    "        count += 1\n",
    "print(count)"
   ]
  },
  {
   "cell_type": "markdown",
   "metadata": {},
   "source": [
    "#### 슬라이싱"
   ]
  },
  {
   "cell_type": "code",
   "execution_count": 12,
   "metadata": {},
   "outputs": [
    {
     "name": "stdout",
     "output_type": "stream",
     "text": [
      "2\n",
      "100\n",
      "100\n",
      "[2, 4, 6, 8, 10, 12, 14, 16, 18, 20, 22, 24, 26, 28, 30, 32, 34, 36, 38, 40, 42, 44, 46, 48, 50, 52, 54, 56, 58, 60, 62, 64, 66, 68, 70, 72, 74, 76, 78, 80, 82, 84, 86, 88, 90, 92, 94, 96, 98, 100]\n",
      "[2, 4, 6, 8, 10]\n",
      "[96, 98, 100]\n"
     ]
    }
   ],
   "source": [
    "# 첫번 째 값\n",
    "print(list8[0])\n",
    "\n",
    "# 마지막 값\n",
    "print(list8[len(list8)-1])\n",
    "print(list8[-1])\n",
    "\n",
    "### 슬라이스 사용\n",
    "# 슬라이스는 범위를 의미하며, 범위를 지정하는 기호는 콜론(:) 사용\n",
    "# 범위를 지정하여 리스트 내 값을 추출 할 때 사용함\n",
    "\n",
    "\n",
    "### 리스트 내에 전체 데이터 추출하기\n",
    "print(list8[:])\n",
    "\n",
    "### 시작 인덱스 번호 0부터 5보다 하나 작은 인덱스 번호까지의 범위 지정\n",
    "print(list8[0 : 5])\n",
    "\n",
    "### 뒤에서 3번째 값부터 전체 값을 추출\n",
    "print(list8[-3 : ])"
   ]
  },
  {
   "cell_type": "markdown",
   "metadata": {},
   "source": [
    "#### 문자열 데이터도 리스트 메모리 구조와 동일하게 저장되고 처리됨"
   ]
  },
  {
   "cell_type": "code",
   "execution_count": 13,
   "metadata": {},
   "outputs": [
    {
     "data": {
      "text/plain": [
       "('안녕하세요, 파이썬 재미있어요!', str)"
      ]
     },
     "execution_count": 13,
     "metadata": {},
     "output_type": "execute_result"
    }
   ],
   "source": [
    "str1 = \"안녕하세요, 파이썬 재미있어요!\"\n",
    "str1, type(str1)"
   ]
  },
  {
   "cell_type": "code",
   "execution_count": 15,
   "metadata": {},
   "outputs": [
    {
     "name": "stdout",
     "output_type": "stream",
     "text": [
      "안\n",
      "녕\n",
      "하\n",
      "세\n",
      "요\n",
      ",\n",
      " \n",
      "파\n",
      "이\n",
      "썬\n",
      " \n",
      "재\n",
      "미\n",
      "있\n",
      "어\n",
      "요\n",
      "!\n",
      "안\n",
      "녕\n",
      "하\n",
      "세\n",
      "요\n",
      ",\n",
      " \n",
      "파\n",
      "이\n",
      "썬\n",
      " \n",
      "재\n",
      "미\n",
      "있\n",
      "어\n",
      "요\n",
      "!\n"
     ]
    }
   ],
   "source": [
    "### 인덱스 번호 및 값을 이용해서 문자열 내에 각 단어들을 출력\n",
    "# for 문 사용, 위 두가지 방법 모두 사용\n",
    "\n",
    "# 인덱스 번호 이용\n",
    "for i in range(0, len(str1), 1) :\n",
    "    print(str1[i])\n",
    "\n",
    "# 값 이용\n",
    "for str in str1 :\n",
    "    print(str)"
   ]
  },
  {
   "cell_type": "markdown",
   "metadata": {},
   "source": [
    "#### 리스트에 값 추가하기"
   ]
  },
  {
   "cell_type": "code",
   "execution_count": 19,
   "metadata": {},
   "outputs": [
    {
     "name": "stdout",
     "output_type": "stream",
     "text": [
      "['환수사']\n",
      "['환수사', '기상술사']\n",
      "['환수사', '기상술사', [2, 4, 6, 8, 10, 12, 14, 16, 18, 20, 22, 24, 26, 28, 30, 32, 34, 36, 38, 40, 42, 44, 46, 48, 50, 52, 54, 56, 58, 60, 62, 64, 66, 68, 70, 72, 74, 76, 78, 80, 82, 84, 86, 88, 90, 92, 94, 96, 98, 100]]\n",
      "['환수사', '기상술사', [2, 4, 6, 8, 10, 12, 14, 16, 18, 20, 22, 24, 26, 28, 30, 32, 34, 36, 38, 40, 42, 44, 46, 48, 50, 52, 54, 56, 58, 60, 62, 64, 66, 68, 70, 72, 74, 76, 78, 80, 82, 84, 86, 88, 90, 92, 94, 96, 98, 100], [...]]\n",
      "['환수사', '기상술사', [2, 4, 6, 8, 10, 12, 14, 16, 18, 20, 22, 24, 26, 28, 30, 32, 34, 36, 38, 40, 42, 44, 46, 48, 50, 52, 54, 56, 58, 60, 62, 64, 66, 68, 70, 72, 74, 76, 78, 80, 82, 84, 86, 88, 90, 92, 94, 96, 98, 100], [...], 100]\n"
     ]
    }
   ],
   "source": [
    "### 깨끗한 리스트 생성\n",
    "\n",
    "list_temp = []\n",
    "\n",
    "### 새로운 값 1개 추가하기\n",
    "# 리스트에 값을 추가하는 함수 : append()\n",
    "\n",
    "list_temp.append(\"환수사\")\n",
    "print(list_temp)\n",
    "\n",
    "list_temp.append(\"기상술사\")\n",
    "print(list_temp)\n",
    "\n",
    "# 리스트에 새로운 리스트 추가\n",
    "list_temp.append(list8)\n",
    "print(list_temp)\n",
    "\n",
    "# 리스트에 본인 리스트 추가\n",
    "list_temp.append(list_temp)\n",
    "print(list_temp)\n",
    "\n",
    "# 리스트에 타입이 다른 값 추가\n",
    "list_temp.append(100)\n",
    "print(list_temp)\n"
   ]
  },
  {
   "cell_type": "code",
   "execution_count": 24,
   "metadata": {},
   "outputs": [
    {
     "name": "stdout",
     "output_type": "stream",
     "text": [
      "2\n",
      "4\n",
      "6\n",
      "8\n",
      "10\n",
      "12\n",
      "14\n",
      "16\n",
      "18\n",
      "20\n",
      "22\n",
      "24\n",
      "26\n",
      "28\n",
      "30\n",
      "32\n",
      "34\n",
      "36\n",
      "38\n",
      "40\n",
      "42\n",
      "44\n",
      "46\n",
      "48\n",
      "50\n",
      "52\n",
      "54\n",
      "56\n",
      "58\n",
      "60\n",
      "62\n",
      "64\n",
      "66\n",
      "68\n",
      "70\n",
      "72\n",
      "74\n",
      "76\n",
      "78\n",
      "80\n",
      "82\n",
      "84\n",
      "86\n",
      "88\n",
      "90\n",
      "92\n",
      "94\n",
      "96\n",
      "98\n",
      "100\n"
     ]
    }
   ],
   "source": [
    "### list_temp 데이터 중에 2번째 인덱스의 값들을 모두(각각) 출력\n",
    "\n",
    "# print(list_temp[2])\n",
    "for val in list_temp[2] :\n",
    "    print(val)\n",
    "\n",
    "### list_temp 데이터 중에 3번째 인덱스의 값들을 모두(각각) 출력\n",
    "for val in list_temp[3] :\n",
    "    print(val)"
   ]
  },
  {
   "cell_type": "code",
   "execution_count": 26,
   "metadata": {},
   "outputs": [
    {
     "name": "stdout",
     "output_type": "stream",
     "text": [
      "환수사\n",
      "기상술사\n",
      "[2, 4, 6, 8, 10, 12, 14, 16, 18, 20, 22, 24, 26, 28, 30, 32, 34, 36, 38, 40, 42, 44, 46, 48, 50, 52, 54, 56, 58, 60, 62, 64, 66, 68, 70, 72, 74, 76, 78, 80, 82, 84, 86, 88, 90, 92, 94, 96, 98, 100]\n",
      "['환수사', '기상술사', [2, 4, 6, 8, 10, 12, 14, 16, 18, 20, 22, 24, 26, 28, 30, 32, 34, 36, 38, 40, 42, 44, 46, 48, 50, 52, 54, 56, 58, 60, 62, 64, 66, 68, 70, 72, 74, 76, 78, 80, 82, 84, 86, 88, 90, 92, 94, 96, 98, 100], [...], 100, '마지막에 추가1', '마지막에 추가2']\n",
      "100\n",
      "마지막에 추가1\n",
      "마지막에 추가2\n"
     ]
    }
   ],
   "source": [
    "### list_temp 데이터 중에 3번째 인덱스의 값들을 모두(각각) 출력\n",
    "\n",
    "list_temp.append(\"마지막에 추가2\")\n",
    "\n",
    "for val in list_temp[3] :\n",
    "    print(val)"
   ]
  },
  {
   "cell_type": "code",
   "execution_count": 27,
   "metadata": {},
   "outputs": [
    {
     "name": "stdout",
     "output_type": "stream",
     "text": [
      "['환수사', '기상술사', [2, 4, 6, 8, 10, 12, 14, 16, 18, 20, 22, 24, 26, 28, 30, 32, 34, 36, 38, 40, 42, 44, 46, 48, 50, 52, 54, 56, 58, 60, 62, 64, 66, 68, 70, 72, 74, 76, 78, 80, 82, 84, 86, 88, 90, 92, 94, 96, 98, 100], [...], 100, '마지막에 추가1', '마지막에 추가2']\n"
     ]
    }
   ],
   "source": [
    "print(list_temp)"
   ]
  },
  {
   "cell_type": "code",
   "execution_count": 31,
   "metadata": {},
   "outputs": [
    {
     "name": "stdout",
     "output_type": "stream",
     "text": [
      "[1, '도화가', [1, 2, 3], '샤', [4, 5, 6]]\n"
     ]
    },
    {
     "data": {
      "text/plain": [
       "(list, int, str, list, str, list)"
      ]
     },
     "execution_count": 31,
     "metadata": {},
     "output_type": "execute_result"
    }
   ],
   "source": [
    "### 리스트 변수 생성\n",
    "\n",
    "list_temp2 = [1, \"도화가\", [1, 2, 3], \"샤\", [4, 5, 6]]\n",
    "print(list_temp2)\n",
    "\n",
    "### type 확인\n",
    "type(list_temp2), type(list_temp2[0]), type(list_temp2[1]), type(list_temp2[2]), type(list_temp2[3]) , type(list_temp2[4]) "
   ]
  },
  {
   "cell_type": "code",
   "execution_count": 39,
   "metadata": {},
   "outputs": [
    {
     "name": "stdout",
     "output_type": "stream",
     "text": [
      "1\n",
      "2\n",
      "3\n",
      "4\n",
      "5\n",
      "6\n",
      " -- \n",
      "1\n",
      "2\n",
      "3\n",
      "4\n",
      "5\n",
      "6\n"
     ]
    }
   ],
   "source": [
    "### list_temp2 데이터 중에 타입이 list인 경우\n",
    "# 해당 리스트 내 데이터를 각각 출력\n",
    "# 단, 데이터 타입이 list인 인덱스 위치는 모른다고 가정\n",
    "\n",
    "# 타입 확인하는 함수 이용 방법\n",
    "for i in list_temp2 :\n",
    "    if  isinstance(i, list): # isinstance() : 데이터가 어떤 타입인지 확인하는 함수\n",
    "        for val in i :\n",
    "            print(val)\n",
    "\n",
    "print(\" -- \")\n",
    "\n",
    "# 배운 대로\n",
    "for i in list_temp2 :\n",
    "    if  type(i) == list :\n",
    "        for val in i :\n",
    "            print(val)"
   ]
  },
  {
   "cell_type": "markdown",
   "metadata": {},
   "source": [
    "#### 리스트 연산 (+, *)"
   ]
  },
  {
   "cell_type": "code",
   "execution_count": 51,
   "metadata": {},
   "outputs": [
    {
     "name": "stdout",
     "output_type": "stream",
     "text": [
      "[1, 2, 3, 4, 5, 6]\n"
     ]
    },
    {
     "data": {
      "text/plain": [
       "[1, 2, 3, 1, 2, 3]"
      ]
     },
     "execution_count": 51,
     "metadata": {},
     "output_type": "execute_result"
    }
   ],
   "source": [
    "list1 = [1, 2, 3]\n",
    "list2 = [4, 5, 6]\n",
    "\n",
    "### 리스트 더하기 연산 : 여러개의 리스트가 하나의 리스트로 더해짐\n",
    "\n",
    "list3 = list1+ list2\n",
    "print(list3)\n",
    "\n",
    "### 리스트 곱하기 연산 : 하나의 리스트 내에 동일한 값을 여러개 추가하고자 할 때 사용\n",
    "# 추가하고자 하는 갯수를 곱하면 됨\n",
    "\n",
    "list1 * 2"
   ]
  },
  {
   "cell_type": "markdown",
   "metadata": {},
   "source": [
    "#### 리스트 내 특정 인덱스 데이터 삭제하기"
   ]
  },
  {
   "cell_type": "code",
   "execution_count": 52,
   "metadata": {},
   "outputs": [
    {
     "name": "stdout",
     "output_type": "stream",
     "text": [
      "[1, 3, 4, 5, 6]\n"
     ]
    }
   ],
   "source": [
    "### list3 데이터 중에 n번째 인덱스 값 삭제하기\n",
    "# 삭제 명령 : del\n",
    "\n",
    "### del 명령은 리스트의 인덱스 번호를 사용해서 삭제할 때 사용\n",
    "del list3[1]\n",
    "print(list3)"
   ]
  },
  {
   "cell_type": "code",
   "execution_count": 53,
   "metadata": {},
   "outputs": [
    {
     "name": "stdout",
     "output_type": "stream",
     "text": [
      "[1, 3, 5, 6]\n"
     ]
    }
   ],
   "source": [
    "### remove() 함수를 이용 : 값을 이용해서 삭제할 때 사용\n",
    "# 같은 값이 존재할 경우, 가장 첫번째 나오는 값을 삭제함\n",
    "\n",
    "list3.remove(4)\n",
    "print(list3)\n"
   ]
  },
  {
   "cell_type": "markdown",
   "metadata": {},
   "source": [
    "#### 값 입력 받기"
   ]
  },
  {
   "cell_type": "code",
   "execution_count": 54,
   "metadata": {},
   "outputs": [],
   "source": [
    "### input() : 임의의 값을 입력 받을 때 사용\n",
    "# - input()을 통해 반환 받은 값의 타입 : 무조건 문자열(str) 타입\n",
    "\n",
    "p_name = (input(\"(안내) 이름을 입력해주세요 : \"))"
   ]
  },
  {
   "cell_type": "markdown",
   "metadata": {},
   "source": [
    "#### 리스트 내 특정 인덱스 위치의 값 수정하기"
   ]
  },
  {
   "cell_type": "code",
   "execution_count": 45,
   "metadata": {},
   "outputs": [
    {
     "name": "stdout",
     "output_type": "stream",
     "text": [
      "[1, 2, 4, 5, 6]\n"
     ]
    }
   ],
   "source": [
    "list3[1] = 2\n",
    "print(list3)"
   ]
  }
 ],
 "metadata": {
  "kernelspec": {
   "display_name": "base",
   "language": "python",
   "name": "python3"
  },
  "language_info": {
   "codemirror_mode": {
    "name": "ipython",
    "version": 3
   },
   "file_extension": ".py",
   "mimetype": "text/x-python",
   "name": "python",
   "nbconvert_exporter": "python",
   "pygments_lexer": "ipython3",
   "version": "3.12.7"
  }
 },
 "nbformat": 4,
 "nbformat_minor": 2
}
