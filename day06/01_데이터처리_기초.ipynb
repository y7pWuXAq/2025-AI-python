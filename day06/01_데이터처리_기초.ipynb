{
 "cells": [
  {
   "cell_type": "markdown",
   "id": "5bd0c12a-0e00-43f1-9287-7401b6c52f6f",
   "metadata": {
    "id": "5bd0c12a-0e00-43f1-9287-7401b6c52f6f"
   },
   "source": [
    "### 판다스(pandas)"
   ]
  },
  {
   "cell_type": "code",
   "execution_count": null,
   "id": "233c77fb-8863-4787-a45d-e8ca6a487d87",
   "metadata": {
    "id": "233c77fb-8863-4787-a45d-e8ca6a487d87"
   },
   "outputs": [],
   "source": [
    "\"\"\"\n",
    "<판다스(pandas)>\n",
    " - 행렬 데이터를 처리하기 위한 다양한 함수를 제공해 주는 라이브러리 이름\n",
    " - 데이터 분석에서 데이터 처리(전처리) 시에 가장 많이 사용되는 라이브러리\n",
    " - 파일 읽어들이기, 저장하기, 행렬 데이터 처리 등을 수행\n",
    " - 데이터에 대한  시각화도 일부 지원\n",
    " - 라이브러리 사용 방법 : import pandas as pd\n",
    " - 라이브러리 설치 필요(가상환경에서 설치 > 가상환경 확인) : pip install pandas\n",
    " - 시각화 및 파일 처리 라이브러리 등 기본 라이브러리 설치 : 1day 설치 파일 참조\n",
    "\n",
    "<데이터 분석 과정>\n",
    " (일반 도서에서 정의하는 과정)\n",
    "  계획수립 > 데이터 수집 > 데이터 전처리 > 데이터 후처리 > 데이터 분석 > 데이터 시각화\n",
    "\n",
    " (현장에서 사용하는 과정)\n",
    "  [탐색적 데이터 분석]\n",
    "   사전계획(파이럿 프로젝트) > 데이터 수집 > 데이터 전처리 > 데이터 가공(후처리) > 데이터 시각화 > 인사이트 도출\n",
    "  [데이터 분석 모델링]\n",
    "    > 데이터 분석(머신러닝 or 딥러닝 모델 생성)\n",
    "  [분석 서비스 및 결과]\n",
    "    > 웹서비스 or 분석보고서\n",
    "\n",
    "  - EDA(탐색적 데이터 분석) : 주로 데이터에서 발생되는 패턴들을 시각적으로 탐색하여 인사이트를 도출합니다.\n",
    "                           : 방법론이라고도 합니다. (탐색 방법론)\n",
    "\n",
    "<데이터의 형태 분류>\n",
    " - 정형 데이터   : 행렬 형태로 정리된 데이터(보통 엑셀 데이터)\n",
    " - 반정형 데이터 : 행렬 형태는 아니지만, 항목에 대한 정의 형태 처럼 구분이 가능한 데이터들\n",
    " - 비정형 데이터 : 행렬 또는 항목에 대한 정의 형태가 아닌, 뉴스와 같은 구분할 수 없는 내용들..\n",
    "                  (뉴스, 음성, 영상 등)\n",
    "\"\"\""
   ]
  },
  {
   "cell_type": "code",
   "execution_count": null,
   "id": "1ba5cdbc-3f13-4e84-83c1-6529b7dbb924",
   "metadata": {
    "id": "1ba5cdbc-3f13-4e84-83c1-6529b7dbb924"
   },
   "outputs": [],
   "source": [
    "import pandas as pd"
   ]
  },
  {
   "cell_type": "markdown",
   "id": "c3ac51d6-ca52-4ec4-8e3d-07e8e8ce7e30",
   "metadata": {
    "id": "c3ac51d6-ca52-4ec4-8e3d-07e8e8ce7e30"
   },
   "source": [
    "### 데이터 수집"
   ]
  },
  {
   "cell_type": "code",
   "execution_count": null,
   "id": "d3bf904e-e8f0-45c9-aef0-100e859659f5",
   "metadata": {
    "id": "d3bf904e-e8f0-45c9-aef0-100e859659f5"
   },
   "outputs": [],
   "source": [
    "\"\"\"\n",
    "1. 데이터 수집 방법\n",
    " - 다운로드 방식 : 보통 파일 수집(txt, excel, csv, json 등등...)\n",
    "                : 공공데이터는 data.go.kr(공공데이터 포털, 우리나라 공공기관의 일부 데이터가 공유됨-무료)\n",
    "                : 각 공공기관 사이트(기상청, 연구기관 등등....)\n",
    "                : 기업(유료인 경우가 많음, 주로 통신사, 카드사 데이터를 선호함)\n",
    " - 웹크롤링 방식 : 웹페이지 내에 데이터 수집(프로그래밍으로 처리 - 다소 많은 프로그램 코드를 요함)\n",
    " - Open-Api 방식 : 외부 시스템에 요청과 응답을 통해 데이터 수집(프로그래밍 방식 - 다소 적은 프로그램 코드 사용)\n",
    "\"\"\""
   ]
  },
  {
   "cell_type": "code",
   "execution_count": null,
   "id": "c2e5782e-5052-40c7-9e18-effe2ea7c32a",
   "metadata": {
    "id": "c2e5782e-5052-40c7-9e18-effe2ea7c32a"
   },
   "outputs": [],
   "source": [
    "### 수집한 파일 읽어들이기\n",
    "\n",
    "# - 읽어들일 파일 경로\n",
    "# 경로 : 절대 경로와 상대 경로 중 한가지 사용\n",
    "#        (주로 상대 경로 사용함)\n",
    "#      : 절대 경로 -> 드라이브 시작 위치부터(C:/~ 현재 위치까지 전체 작성)\n",
    "#                 -> C:/Users/Administrator/pk_202503/6day/files/sample_1.xlsx\n",
    "#      : 상대 경로 -> 현재 open되어있는 프로그램 파일의 위치부터(기준으로) 작성...\n",
    "#                 -> ./files/sample_1.xlsx\n",
    "file_path = \"./files/sample_1.xlsx\"\n",
    "\n",
    "### 파일 읽어 들이기\n",
    "# - 사용할 함수 : read_XXX()\n",
    "# - 엑셀 : read_excel() 함수 사용\n",
    "# - 확장자가 txt, csv 인 경우 : read_csv() 함수 사용\n",
    "# - 데이터가 많은 경우에는 보통 txt 또는 csv로 저장되어 있습니다.\n",
    "#   --> txt 또는 csv 파일은 일반적으로 메모장에서 open하시는게 좋습니다.\n",
    "#   --> csv파일은 보통 MS-Excel에서 open되는 경우가 많으며,\n",
    "#       csv 파일 내에 row데이터가 많은 경우 MS-Excel이 열리지 않는 경우가 많습니다.\n",
    "sample_1 = pd.read_excel(file_path,\n",
    "                          ### 컬럼명 위치 지정\n",
    "                          header=1,\n",
    "                          ### 행의 가장 하단부터 몇개를 제외할 것인지 지정\n",
    "                          skipfooter=2,\n",
    "                          ### 읽어들일 컬럼(열)의 영역(범위)를 지정\n",
    "                          usecols=\"A:C\"\n",
    "                          )\n",
    "\n",
    "### 데이터 수집 시 파일 데이터 중 확인할 사항 : 년/월/일 데이터 있는지 확인\n",
    "#    - 파일명에 : 년월일이 표시되어 있는지?\n",
    "#    - 파일 내 컬럼(항목) 중에 년월일 관련 항목이 있는지?\n",
    "#    - 파일 내 제목에 년월일 관련 사항이 포함되어 있는지?\n",
    "\n",
    "### {\"국적코드\" : (\"A01\", ..., \"A18\"),\n",
    "#    \"성별\"     : (\"남성\",..., \"여성\"),\n",
    "#    \"입국객수\" : (106320,..., 232943)}"
   ]
  },
  {
   "cell_type": "code",
   "execution_count": null,
   "id": "35897256-76d6-4d40-b330-1758a8b00841",
   "metadata": {
    "id": "35897256-76d6-4d40-b330-1758a8b00841",
    "outputId": "760a339e-2dec-4ba4-c155-2aef68bd07a7"
   },
   "outputs": [
    {
     "data": {
      "text/html": [
       "<div>\n",
       "<style scoped>\n",
       "    .dataframe tbody tr th:only-of-type {\n",
       "        vertical-align: middle;\n",
       "    }\n",
       "\n",
       "    .dataframe tbody tr th {\n",
       "        vertical-align: top;\n",
       "    }\n",
       "\n",
       "    .dataframe thead th {\n",
       "        text-align: right;\n",
       "    }\n",
       "</style>\n",
       "<table border=\"1\" class=\"dataframe\">\n",
       "  <thead>\n",
       "    <tr style=\"text-align: right;\">\n",
       "      <th></th>\n",
       "      <th>국적코드</th>\n",
       "      <th>성별</th>\n",
       "      <th>입국객수</th>\n",
       "    </tr>\n",
       "  </thead>\n",
       "  <tbody>\n",
       "    <tr>\n",
       "      <th>0</th>\n",
       "      <td>A01</td>\n",
       "      <td>남성</td>\n",
       "      <td>106320</td>\n",
       "    </tr>\n",
       "    <tr>\n",
       "      <th>1</th>\n",
       "      <td>A01</td>\n",
       "      <td>여성</td>\n",
       "      <td>191436</td>\n",
       "    </tr>\n",
       "    <tr>\n",
       "      <th>2</th>\n",
       "      <td>A31</td>\n",
       "      <td>남성</td>\n",
       "      <td>319</td>\n",
       "    </tr>\n",
       "    <tr>\n",
       "      <th>3</th>\n",
       "      <td>A31</td>\n",
       "      <td>여성</td>\n",
       "      <td>42</td>\n",
       "    </tr>\n",
       "    <tr>\n",
       "      <th>4</th>\n",
       "      <td>A18</td>\n",
       "      <td>남성</td>\n",
       "      <td>158912</td>\n",
       "    </tr>\n",
       "    <tr>\n",
       "      <th>5</th>\n",
       "      <td>A18</td>\n",
       "      <td>여성</td>\n",
       "      <td>232943</td>\n",
       "    </tr>\n",
       "  </tbody>\n",
       "</table>\n",
       "</div>"
      ],
      "text/plain": [
       "  국적코드  성별    입국객수\n",
       "0  A01  남성  106320\n",
       "1  A01  여성  191436\n",
       "2  A31  남성     319\n",
       "3  A31  여성      42\n",
       "4  A18  남성  158912\n",
       "5  A18  여성  232943"
      ]
     },
     "execution_count": 7,
     "metadata": {},
     "output_type": "execute_result"
    }
   ],
   "source": [
    "### 읽어들인 데이터 확인하기\n",
    "sample_1"
   ]
  },
  {
   "cell_type": "code",
   "execution_count": null,
   "id": "f6efee6b-4ae1-4d99-aa5e-a85fc8fc4bae",
   "metadata": {
    "id": "f6efee6b-4ae1-4d99-aa5e-a85fc8fc4bae",
    "outputId": "79923fcb-f916-4ca8-e5fc-4fa566b0fc29"
   },
   "outputs": [
    {
     "data": {
      "text/plain": [
       "pandas.core.frame.DataFrame"
      ]
     },
     "execution_count": 8,
     "metadata": {},
     "output_type": "execute_result"
    }
   ],
   "source": [
    "### 타입 확인하기 : DataFrame(데이터프레임) 타입 -> 클래스\n",
    "type(sample_1)"
   ]
  },
  {
   "cell_type": "code",
   "execution_count": null,
   "id": "6aec28d8-4f71-41f7-809c-73ac9a12ed62",
   "metadata": {
    "id": "6aec28d8-4f71-41f7-809c-73ac9a12ed62",
    "outputId": "228b2c1d-63e7-4408-e82d-023d57a3e2f6"
   },
   "outputs": [
    {
     "data": {
      "text/html": [
       "<div>\n",
       "<style scoped>\n",
       "    .dataframe tbody tr th:only-of-type {\n",
       "        vertical-align: middle;\n",
       "    }\n",
       "\n",
       "    .dataframe tbody tr th {\n",
       "        vertical-align: top;\n",
       "    }\n",
       "\n",
       "    .dataframe thead th {\n",
       "        text-align: right;\n",
       "    }\n",
       "</style>\n",
       "<table border=\"1\" class=\"dataframe\">\n",
       "  <thead>\n",
       "    <tr style=\"text-align: right;\">\n",
       "      <th></th>\n",
       "      <th>국적코드</th>\n",
       "      <th>성별</th>\n",
       "      <th>입국객수</th>\n",
       "    </tr>\n",
       "  </thead>\n",
       "  <tbody>\n",
       "    <tr>\n",
       "      <th>0</th>\n",
       "      <td>A01</td>\n",
       "      <td>남성</td>\n",
       "      <td>106320</td>\n",
       "    </tr>\n",
       "    <tr>\n",
       "      <th>1</th>\n",
       "      <td>A01</td>\n",
       "      <td>여성</td>\n",
       "      <td>191436</td>\n",
       "    </tr>\n",
       "    <tr>\n",
       "      <th>2</th>\n",
       "      <td>A31</td>\n",
       "      <td>남성</td>\n",
       "      <td>319</td>\n",
       "    </tr>\n",
       "    <tr>\n",
       "      <th>3</th>\n",
       "      <td>A31</td>\n",
       "      <td>여성</td>\n",
       "      <td>42</td>\n",
       "    </tr>\n",
       "    <tr>\n",
       "      <th>4</th>\n",
       "      <td>A18</td>\n",
       "      <td>남성</td>\n",
       "      <td>158912</td>\n",
       "    </tr>\n",
       "  </tbody>\n",
       "</table>\n",
       "</div>"
      ],
      "text/plain": [
       "  국적코드  성별    입국객수\n",
       "0  A01  남성  106320\n",
       "1  A01  여성  191436\n",
       "2  A31  남성     319\n",
       "3  A31  여성      42\n",
       "4  A18  남성  158912"
      ]
     },
     "execution_count": 13,
     "metadata": {},
     "output_type": "execute_result"
    }
   ],
   "source": [
    "### 데이터프레임에서 상위 5개 행(row)만 추출하는 함수\n",
    "sample_1.head()"
   ]
  },
  {
   "cell_type": "code",
   "execution_count": null,
   "id": "d07ce114-ad9f-493e-8181-b07ed9fde323",
   "metadata": {
    "id": "d07ce114-ad9f-493e-8181-b07ed9fde323",
    "outputId": "28c80694-6d88-432b-bfd7-8d75acf104c4"
   },
   "outputs": [
    {
     "data": {
      "text/html": [
       "<div>\n",
       "<style scoped>\n",
       "    .dataframe tbody tr th:only-of-type {\n",
       "        vertical-align: middle;\n",
       "    }\n",
       "\n",
       "    .dataframe tbody tr th {\n",
       "        vertical-align: top;\n",
       "    }\n",
       "\n",
       "    .dataframe thead th {\n",
       "        text-align: right;\n",
       "    }\n",
       "</style>\n",
       "<table border=\"1\" class=\"dataframe\">\n",
       "  <thead>\n",
       "    <tr style=\"text-align: right;\">\n",
       "      <th></th>\n",
       "      <th>국적코드</th>\n",
       "      <th>성별</th>\n",
       "      <th>입국객수</th>\n",
       "    </tr>\n",
       "  </thead>\n",
       "  <tbody>\n",
       "    <tr>\n",
       "      <th>5</th>\n",
       "      <td>A18</td>\n",
       "      <td>여성</td>\n",
       "      <td>232943</td>\n",
       "    </tr>\n",
       "  </tbody>\n",
       "</table>\n",
       "</div>"
      ],
      "text/plain": [
       "  국적코드  성별    입국객수\n",
       "5  A18  여성  232943"
      ]
     },
     "execution_count": 15,
     "metadata": {},
     "output_type": "execute_result"
    }
   ],
   "source": [
    "### 하위 5개만 확인하고자 할 때\n",
    "sample_1.tail(1)"
   ]
  },
  {
   "cell_type": "code",
   "execution_count": null,
   "id": "b578f0d4-304c-4a25-be4c-69c8c9e835c3",
   "metadata": {
    "id": "b578f0d4-304c-4a25-be4c-69c8c9e835c3",
    "outputId": "09f227d5-cfde-42ee-aebe-843ca018cf44"
   },
   "outputs": [
    {
     "name": "stdout",
     "output_type": "stream",
     "text": [
      "<class 'pandas.core.frame.DataFrame'>\n",
      "RangeIndex: 6 entries, 0 to 5\n",
      "Data columns (total 3 columns):\n",
      " #   Column  Non-Null Count  Dtype \n",
      "---  ------  --------------  ----- \n",
      " 0   국적코드    6 non-null      object\n",
      " 1   성별      6 non-null      object\n",
      " 2   입국객수    6 non-null      int64 \n",
      "dtypes: int64(1), object(2)\n",
      "memory usage: 272.0+ bytes\n"
     ]
    }
   ],
   "source": [
    "### 데이터프레임 내 데이터 정보 확인하기\n",
    "sample_1.info()\n",
    "\n",
    "# RangeIndex : 총 데이터의 행(row) 갯수\n",
    "# Data columns : 총 컬럼(열, column) 갯수\n",
    "# Non-Null Count : 읽어들인 각 열의 데이터 중 존재하는 데이터의 갯수(없는 데이터는 제외)\n",
    "# Dtype : 데이터프레임에서 사용하는 컬럼(열) 데이터 타입을 의미함(변수 타입과 다름)\n",
    "#       : 타입 -> int과 float은 기존 변수 타입과 동리하며,\n",
    "#              -> 문자(str) 변수 타입을, 컬럼 데이터 타입에서는 object라고 칭함\n",
    "\n",
    "### info()함수로 확인해야 할 사항\n",
    "# * 결측치 확인 : RangeIndex == 각 컬럼의 Non-Null Count의 값과 같은지 확인\n",
    "#              : 다른 컬럼이 있다면, 결측치(빈 값)가 존재한다는 의미임"
   ]
  },
  {
   "cell_type": "code",
   "execution_count": null,
   "id": "2a96ba7b-ab97-4c1d-a51e-f52adb8bd277",
   "metadata": {
    "id": "2a96ba7b-ab97-4c1d-a51e-f52adb8bd277",
    "outputId": "0822538d-4123-4f77-bfaf-9fa873376c23"
   },
   "outputs": [
    {
     "data": {
      "text/html": [
       "<div>\n",
       "<style scoped>\n",
       "    .dataframe tbody tr th:only-of-type {\n",
       "        vertical-align: middle;\n",
       "    }\n",
       "\n",
       "    .dataframe tbody tr th {\n",
       "        vertical-align: top;\n",
       "    }\n",
       "\n",
       "    .dataframe thead th {\n",
       "        text-align: right;\n",
       "    }\n",
       "</style>\n",
       "<table border=\"1\" class=\"dataframe\">\n",
       "  <thead>\n",
       "    <tr style=\"text-align: right;\">\n",
       "      <th></th>\n",
       "      <th>국적코드</th>\n",
       "      <th>성별</th>\n",
       "      <th>입국객수</th>\n",
       "    </tr>\n",
       "  </thead>\n",
       "  <tbody>\n",
       "    <tr>\n",
       "      <th>0</th>\n",
       "      <td>A01</td>\n",
       "      <td>남성</td>\n",
       "      <td>106320</td>\n",
       "    </tr>\n",
       "    <tr>\n",
       "      <th>1</th>\n",
       "      <td>A01</td>\n",
       "      <td>여성</td>\n",
       "      <td>191436</td>\n",
       "    </tr>\n",
       "    <tr>\n",
       "      <th>2</th>\n",
       "      <td>A31</td>\n",
       "      <td>남성</td>\n",
       "      <td>319</td>\n",
       "    </tr>\n",
       "    <tr>\n",
       "      <th>3</th>\n",
       "      <td>A31</td>\n",
       "      <td>여성</td>\n",
       "      <td>42</td>\n",
       "    </tr>\n",
       "    <tr>\n",
       "      <th>4</th>\n",
       "      <td>A18</td>\n",
       "      <td>남성</td>\n",
       "      <td>158912</td>\n",
       "    </tr>\n",
       "    <tr>\n",
       "      <th>5</th>\n",
       "      <td>A18</td>\n",
       "      <td>여성</td>\n",
       "      <td>232943</td>\n",
       "    </tr>\n",
       "  </tbody>\n",
       "</table>\n",
       "</div>"
      ],
      "text/plain": [
       "  국적코드  성별    입국객수\n",
       "0  A01  남성  106320\n",
       "1  A01  여성  191436\n",
       "2  A31  남성     319\n",
       "3  A31  여성      42\n",
       "4  A18  남성  158912\n",
       "5  A18  여성  232943"
      ]
     },
     "execution_count": 17,
     "metadata": {},
     "output_type": "execute_result"
    }
   ],
   "source": [
    "sample_1"
   ]
  },
  {
   "cell_type": "code",
   "execution_count": null,
   "id": "27e51066-4740-419f-8518-2e87ea877d43",
   "metadata": {
    "id": "27e51066-4740-419f-8518-2e87ea877d43",
    "outputId": "d322e993-c45c-47d1-9064-21c21e2b1195"
   },
   "outputs": [
    {
     "data": {
      "text/html": [
       "<div>\n",
       "<style scoped>\n",
       "    .dataframe tbody tr th:only-of-type {\n",
       "        vertical-align: middle;\n",
       "    }\n",
       "\n",
       "    .dataframe tbody tr th {\n",
       "        vertical-align: top;\n",
       "    }\n",
       "\n",
       "    .dataframe thead th {\n",
       "        text-align: right;\n",
       "    }\n",
       "</style>\n",
       "<table border=\"1\" class=\"dataframe\">\n",
       "  <thead>\n",
       "    <tr style=\"text-align: right;\">\n",
       "      <th></th>\n",
       "      <th>입국객수</th>\n",
       "    </tr>\n",
       "  </thead>\n",
       "  <tbody>\n",
       "    <tr>\n",
       "      <th>count</th>\n",
       "      <td>6.000000</td>\n",
       "    </tr>\n",
       "    <tr>\n",
       "      <th>mean</th>\n",
       "      <td>114995.333333</td>\n",
       "    </tr>\n",
       "    <tr>\n",
       "      <th>std</th>\n",
       "      <td>98105.752006</td>\n",
       "    </tr>\n",
       "    <tr>\n",
       "      <th>min</th>\n",
       "      <td>42.000000</td>\n",
       "    </tr>\n",
       "    <tr>\n",
       "      <th>25%</th>\n",
       "      <td>26819.250000</td>\n",
       "    </tr>\n",
       "    <tr>\n",
       "      <th>50%</th>\n",
       "      <td>132616.000000</td>\n",
       "    </tr>\n",
       "    <tr>\n",
       "      <th>75%</th>\n",
       "      <td>183305.000000</td>\n",
       "    </tr>\n",
       "    <tr>\n",
       "      <th>max</th>\n",
       "      <td>232943.000000</td>\n",
       "    </tr>\n",
       "  </tbody>\n",
       "</table>\n",
       "</div>"
      ],
      "text/plain": [
       "                입국객수\n",
       "count       6.000000\n",
       "mean   114995.333333\n",
       "std     98105.752006\n",
       "min        42.000000\n",
       "25%     26819.250000\n",
       "50%    132616.000000\n",
       "75%    183305.000000\n",
       "max    232943.000000"
      ]
     },
     "execution_count": 18,
     "metadata": {},
     "output_type": "execute_result"
    }
   ],
   "source": [
    "### 기초 통계 데이터 확인 함수 : describe()\n",
    "sample_1.describe()\n",
    "\n",
    "### 기본적으로 기초 통계는 숫자 데이터를 가지는 컬럼에 대해서만 처리 됩니다.\n",
    "# - 확인해야 하는 것 : 이상치 데이터 1차적으로 확인\n",
    "#                     (min과 max값으로 확인-> 상식선에서 확인)"
   ]
  },
  {
   "cell_type": "code",
   "execution_count": null,
   "id": "1c006275-76a0-4d8d-bfab-befb26b0a3ea",
   "metadata": {
    "id": "1c006275-76a0-4d8d-bfab-befb26b0a3ea",
    "outputId": "38bddafa-abdb-420d-ee1d-62cf50382a37"
   },
   "outputs": [
    {
     "data": {
      "text/plain": [
       "6"
      ]
     },
     "execution_count": 19,
     "metadata": {},
     "output_type": "execute_result"
    }
   ],
   "source": [
    "### 데이터프레임 내에 행(row) 갯수확인\n",
    "len(sample_1)"
   ]
  },
  {
   "cell_type": "markdown",
   "id": "715712b3-eeca-43a1-a345-552af0a8431a",
   "metadata": {
    "id": "715712b3-eeca-43a1-a345-552af0a8431a"
   },
   "source": [
    "### 데이터 추출하기"
   ]
  },
  {
   "cell_type": "code",
   "execution_count": null,
   "id": "71bac2f3-2a84-4b42-b28a-562a424128f4",
   "metadata": {
    "id": "71bac2f3-2a84-4b42-b28a-562a424128f4"
   },
   "outputs": [],
   "source": [
    "### {\"국적코드\" : (\"A01\", ..., \"A18\"),\n",
    "#    \"성별\"     : (\"남성\",..., \"여성\"),\n",
    "#    \"입국객수\" : (106320,..., 232943)}\n",
    "# 데이터프레임의 컬럼명은 key로 사용됩니다."
   ]
  },
  {
   "cell_type": "code",
   "execution_count": null,
   "id": "462215f9-6e6b-402d-9d8a-5aaf198cebf0",
   "metadata": {
    "id": "462215f9-6e6b-402d-9d8a-5aaf198cebf0",
    "outputId": "41919744-e019-41e2-9fb4-a132eeef4bc7"
   },
   "outputs": [
    {
     "name": "stdout",
     "output_type": "stream",
     "text": [
      "<class 'pandas.core.series.Series'>\n"
     ]
    },
    {
     "data": {
      "text/plain": [
       "0    A01\n",
       "1    A01\n",
       "2    A31\n",
       "3    A31\n",
       "4    A18\n",
       "5    A18\n",
       "Name: 국적코드, dtype: object"
      ]
     },
     "execution_count": 22,
     "metadata": {},
     "output_type": "execute_result"
    }
   ],
   "source": [
    "### 특정 컬럼의 데이터 추출하기\n",
    "s = sample_1[\"국적코드\"]\n",
    "\n",
    "### 타입 확인하기\n",
    "# - 각 컬럼의 데이터 타입은 -> 시리즈(Series) 타입 입니다.\n",
    "#                           -> 튜플 또는 리스트라고 생각하시면 됩니다.\n",
    "print(type(s))\n",
    "s"
   ]
  },
  {
   "cell_type": "code",
   "execution_count": null,
   "id": "fb46d006-d7e7-4808-9582-3689f3fd8910",
   "metadata": {
    "id": "fb46d006-d7e7-4808-9582-3689f3fd8910",
    "outputId": "65ab723f-55f1-4caf-c824-cfc7b9f0f097"
   },
   "outputs": [
    {
     "data": {
      "text/html": [
       "<div>\n",
       "<style scoped>\n",
       "    .dataframe tbody tr th:only-of-type {\n",
       "        vertical-align: middle;\n",
       "    }\n",
       "\n",
       "    .dataframe tbody tr th {\n",
       "        vertical-align: top;\n",
       "    }\n",
       "\n",
       "    .dataframe thead th {\n",
       "        text-align: right;\n",
       "    }\n",
       "</style>\n",
       "<table border=\"1\" class=\"dataframe\">\n",
       "  <thead>\n",
       "    <tr style=\"text-align: right;\">\n",
       "      <th></th>\n",
       "      <th>국적코드</th>\n",
       "      <th>성별</th>\n",
       "    </tr>\n",
       "  </thead>\n",
       "  <tbody>\n",
       "    <tr>\n",
       "      <th>0</th>\n",
       "      <td>A01</td>\n",
       "      <td>남성</td>\n",
       "    </tr>\n",
       "    <tr>\n",
       "      <th>1</th>\n",
       "      <td>A01</td>\n",
       "      <td>여성</td>\n",
       "    </tr>\n",
       "    <tr>\n",
       "      <th>2</th>\n",
       "      <td>A31</td>\n",
       "      <td>남성</td>\n",
       "    </tr>\n",
       "    <tr>\n",
       "      <th>3</th>\n",
       "      <td>A31</td>\n",
       "      <td>여성</td>\n",
       "    </tr>\n",
       "    <tr>\n",
       "      <th>4</th>\n",
       "      <td>A18</td>\n",
       "      <td>남성</td>\n",
       "    </tr>\n",
       "    <tr>\n",
       "      <th>5</th>\n",
       "      <td>A18</td>\n",
       "      <td>여성</td>\n",
       "    </tr>\n",
       "  </tbody>\n",
       "</table>\n",
       "</div>"
      ],
      "text/plain": [
       "  국적코드  성별\n",
       "0  A01  남성\n",
       "1  A01  여성\n",
       "2  A31  남성\n",
       "3  A31  여성\n",
       "4  A18  남성\n",
       "5  A18  여성"
      ]
     },
     "execution_count": 24,
     "metadata": {},
     "output_type": "execute_result"
    }
   ],
   "source": [
    "### 국적코드와 성별 두개 컬럼의 데이터 조회하기\n",
    "# - 두개 이상의 컬럼의 데이터를 조회하고 할 때는 리스트 기호 2개 사용\n",
    "# - 결과값은 데이터프레임 타입으로 그대로 출력이 됩니다.\n",
    "sample_1[[\"국적코드\", \"성별\"]]"
   ]
  },
  {
   "cell_type": "code",
   "execution_count": null,
   "id": "8a8cefb0-b09a-4f82-bd98-ea5f18f19383",
   "metadata": {
    "id": "8a8cefb0-b09a-4f82-bd98-ea5f18f19383",
    "outputId": "1d2f3ca9-f2c7-467a-90fb-aace95620b6b"
   },
   "outputs": [
    {
     "data": {
      "text/html": [
       "<div>\n",
       "<style scoped>\n",
       "    .dataframe tbody tr th:only-of-type {\n",
       "        vertical-align: middle;\n",
       "    }\n",
       "\n",
       "    .dataframe tbody tr th {\n",
       "        vertical-align: top;\n",
       "    }\n",
       "\n",
       "    .dataframe thead th {\n",
       "        text-align: right;\n",
       "    }\n",
       "</style>\n",
       "<table border=\"1\" class=\"dataframe\">\n",
       "  <thead>\n",
       "    <tr style=\"text-align: right;\">\n",
       "      <th></th>\n",
       "      <th>국적코드</th>\n",
       "    </tr>\n",
       "  </thead>\n",
       "  <tbody>\n",
       "    <tr>\n",
       "      <th>0</th>\n",
       "      <td>A01</td>\n",
       "    </tr>\n",
       "    <tr>\n",
       "      <th>1</th>\n",
       "      <td>A01</td>\n",
       "    </tr>\n",
       "    <tr>\n",
       "      <th>2</th>\n",
       "      <td>A31</td>\n",
       "    </tr>\n",
       "    <tr>\n",
       "      <th>3</th>\n",
       "      <td>A31</td>\n",
       "    </tr>\n",
       "    <tr>\n",
       "      <th>4</th>\n",
       "      <td>A18</td>\n",
       "    </tr>\n",
       "    <tr>\n",
       "      <th>5</th>\n",
       "      <td>A18</td>\n",
       "    </tr>\n",
       "  </tbody>\n",
       "</table>\n",
       "</div>"
      ],
      "text/plain": [
       "  국적코드\n",
       "0  A01\n",
       "1  A01\n",
       "2  A31\n",
       "3  A31\n",
       "4  A18\n",
       "5  A18"
      ]
     },
     "execution_count": 25,
     "metadata": {},
     "output_type": "execute_result"
    }
   ],
   "source": [
    "### 1개의 컬럼의 데이터 조회시 -> 컬럼명까지 포함해서 조회할 경우\n",
    "sample_1[[\"국적코드\"]]"
   ]
  },
  {
   "cell_type": "markdown",
   "id": "23546397-50a2-4b31-9800-9621a0faa320",
   "metadata": {
    "id": "23546397-50a2-4b31-9800-9621a0faa320"
   },
   "source": [
    "### 컬럼 추가하기"
   ]
  },
  {
   "cell_type": "code",
   "execution_count": null,
   "id": "e59fc94a-a92f-4237-b699-512cabf55fad",
   "metadata": {
    "id": "e59fc94a-a92f-4237-b699-512cabf55fad"
   },
   "outputs": [],
   "source": [
    "### \"기준년월\"이라는 컬럼 추가\n",
    "# - 사용할 데이터 값 : 엑셀 내에 제목에 작성되어 있는 내용을 인용\n",
    "#                   : \"2019-11\"\n",
    "\n",
    "### {\"국적코드\" : (\"A01\", ..., \"A18\"),\n",
    "#    \"성별\"     : (\"남성\",..., \"여성\"),\n",
    "#    \"입국객수\" : (106320,..., 232943)}\n",
    "# 데이터프레임의 컬럼명은 key로 사용됩니다."
   ]
  },
  {
   "cell_type": "code",
   "execution_count": null,
   "id": "3a2701fb-7a0b-4b9d-b72c-a80f5bb1147d",
   "metadata": {
    "id": "3a2701fb-7a0b-4b9d-b72c-a80f5bb1147d"
   },
   "outputs": [],
   "source": [
    "# sample_1[\"기준년월\"] = [\"2019-11\"]*3 + [\"2019-12\"]*3\n",
    "sample_1[\"기준년월\"] = \"2019-11\""
   ]
  },
  {
   "cell_type": "code",
   "execution_count": null,
   "id": "58337ba2-d63f-4476-bfae-6e6900107fff",
   "metadata": {
    "id": "58337ba2-d63f-4476-bfae-6e6900107fff",
    "outputId": "cbf3c203-399c-427d-f90c-5aaf4ed298a7"
   },
   "outputs": [
    {
     "data": {
      "text/html": [
       "<div>\n",
       "<style scoped>\n",
       "    .dataframe tbody tr th:only-of-type {\n",
       "        vertical-align: middle;\n",
       "    }\n",
       "\n",
       "    .dataframe tbody tr th {\n",
       "        vertical-align: top;\n",
       "    }\n",
       "\n",
       "    .dataframe thead th {\n",
       "        text-align: right;\n",
       "    }\n",
       "</style>\n",
       "<table border=\"1\" class=\"dataframe\">\n",
       "  <thead>\n",
       "    <tr style=\"text-align: right;\">\n",
       "      <th></th>\n",
       "      <th>국적코드</th>\n",
       "      <th>성별</th>\n",
       "      <th>입국객수</th>\n",
       "      <th>기준년월</th>\n",
       "    </tr>\n",
       "  </thead>\n",
       "  <tbody>\n",
       "    <tr>\n",
       "      <th>0</th>\n",
       "      <td>A01</td>\n",
       "      <td>남성</td>\n",
       "      <td>106320</td>\n",
       "      <td>2019-11</td>\n",
       "    </tr>\n",
       "    <tr>\n",
       "      <th>1</th>\n",
       "      <td>A01</td>\n",
       "      <td>여성</td>\n",
       "      <td>191436</td>\n",
       "      <td>2019-11</td>\n",
       "    </tr>\n",
       "    <tr>\n",
       "      <th>2</th>\n",
       "      <td>A31</td>\n",
       "      <td>남성</td>\n",
       "      <td>319</td>\n",
       "      <td>2019-11</td>\n",
       "    </tr>\n",
       "    <tr>\n",
       "      <th>3</th>\n",
       "      <td>A31</td>\n",
       "      <td>여성</td>\n",
       "      <td>42</td>\n",
       "      <td>2019-11</td>\n",
       "    </tr>\n",
       "    <tr>\n",
       "      <th>4</th>\n",
       "      <td>A18</td>\n",
       "      <td>남성</td>\n",
       "      <td>158912</td>\n",
       "      <td>2019-11</td>\n",
       "    </tr>\n",
       "    <tr>\n",
       "      <th>5</th>\n",
       "      <td>A18</td>\n",
       "      <td>여성</td>\n",
       "      <td>232943</td>\n",
       "      <td>2019-11</td>\n",
       "    </tr>\n",
       "  </tbody>\n",
       "</table>\n",
       "</div>"
      ],
      "text/plain": [
       "  국적코드  성별    입국객수     기준년월\n",
       "0  A01  남성  106320  2019-11\n",
       "1  A01  여성  191436  2019-11\n",
       "2  A31  남성     319  2019-11\n",
       "3  A31  여성      42  2019-11\n",
       "4  A18  남성  158912  2019-11\n",
       "5  A18  여성  232943  2019-11"
      ]
     },
     "execution_count": 33,
     "metadata": {},
     "output_type": "execute_result"
    }
   ],
   "source": [
    "sample_1"
   ]
  },
  {
   "cell_type": "markdown",
   "id": "8398569f-e3e8-4e17-9c31-2a3717f52767",
   "metadata": {
    "id": "8398569f-e3e8-4e17-9c31-2a3717f52767"
   },
   "source": [
    "### 데이터 필터링(조건처리하여 조회)"
   ]
  },
  {
   "cell_type": "markdown",
   "id": "cf4bb1b4-33ad-4039-9774-f48e392d4c79",
   "metadata": {
    "id": "cf4bb1b4-33ad-4039-9774-f48e392d4c79"
   },
   "source": [
    "##### <행단위 필터링>"
   ]
  },
  {
   "cell_type": "code",
   "execution_count": null,
   "id": "416a0eff-f07a-4393-8f79-b84900e39c1d",
   "metadata": {
    "id": "416a0eff-f07a-4393-8f79-b84900e39c1d"
   },
   "outputs": [],
   "source": [
    "### 행단위 필터링 : 특정 조건에 맞는 행들만 조회하는 방식\n",
    "# - 조건-> 필터링 같은 의미\n",
    "# - 파이썬 기본 문법에서 조건연산자 및 논리연산자를 그대로 사용합니다.\n",
    "#   --> 논리연산자의 경우 -> and는 &기호로, or은 | 기호를 사용합니다.\n",
    "#   --> 논리연산의 왼쪽조건과 오른쪽 조건의 각 조건은 소괄호로 묶으셔야 합니다."
   ]
  },
  {
   "cell_type": "code",
   "execution_count": null,
   "id": "d03fbda4-9444-4312-a59f-4e092f427fe4",
   "metadata": {
    "id": "d03fbda4-9444-4312-a59f-4e092f427fe4",
    "outputId": "bd74c419-95d6-4802-c962-e236fd9f321e"
   },
   "outputs": [
    {
     "data": {
      "text/plain": [
       "0    False\n",
       "1     True\n",
       "2    False\n",
       "3     True\n",
       "4    False\n",
       "5     True\n",
       "Name: 성별, dtype: bool"
      ]
     },
     "execution_count": 37,
     "metadata": {},
     "output_type": "execute_result"
    }
   ],
   "source": [
    "### 성별 데이터에서 \"여성\"인 데이터만 필터링 하기\n",
    "c = sample_1[\"성별\"] == \"여성\"\n",
    "c"
   ]
  },
  {
   "cell_type": "code",
   "execution_count": null,
   "id": "8714cd82-f4c0-4cd5-bd22-b9605b67bf4b",
   "metadata": {
    "id": "8714cd82-f4c0-4cd5-bd22-b9605b67bf4b",
    "outputId": "a3514a8f-28ea-40b7-b9f1-e399e3d462d5"
   },
   "outputs": [
    {
     "data": {
      "text/html": [
       "<div>\n",
       "<style scoped>\n",
       "    .dataframe tbody tr th:only-of-type {\n",
       "        vertical-align: middle;\n",
       "    }\n",
       "\n",
       "    .dataframe tbody tr th {\n",
       "        vertical-align: top;\n",
       "    }\n",
       "\n",
       "    .dataframe thead th {\n",
       "        text-align: right;\n",
       "    }\n",
       "</style>\n",
       "<table border=\"1\" class=\"dataframe\">\n",
       "  <thead>\n",
       "    <tr style=\"text-align: right;\">\n",
       "      <th></th>\n",
       "      <th>국적코드</th>\n",
       "      <th>성별</th>\n",
       "      <th>입국객수</th>\n",
       "      <th>기준년월</th>\n",
       "    </tr>\n",
       "  </thead>\n",
       "  <tbody>\n",
       "    <tr>\n",
       "      <th>1</th>\n",
       "      <td>A01</td>\n",
       "      <td>여성</td>\n",
       "      <td>191436</td>\n",
       "      <td>2019-11</td>\n",
       "    </tr>\n",
       "    <tr>\n",
       "      <th>3</th>\n",
       "      <td>A31</td>\n",
       "      <td>여성</td>\n",
       "      <td>42</td>\n",
       "      <td>2019-11</td>\n",
       "    </tr>\n",
       "    <tr>\n",
       "      <th>5</th>\n",
       "      <td>A18</td>\n",
       "      <td>여성</td>\n",
       "      <td>232943</td>\n",
       "      <td>2019-11</td>\n",
       "    </tr>\n",
       "  </tbody>\n",
       "</table>\n",
       "</div>"
      ],
      "text/plain": [
       "  국적코드  성별    입국객수     기준년월\n",
       "1  A01  여성  191436  2019-11\n",
       "3  A31  여성      42  2019-11\n",
       "5  A18  여성  232943  2019-11"
      ]
     },
     "execution_count": 38,
     "metadata": {},
     "output_type": "execute_result"
    }
   ],
   "source": [
    "### 필터링한 결과 중에 True인 행의 결과 조회하기\n",
    "sample_1[c == True]"
   ]
  },
  {
   "cell_type": "code",
   "execution_count": null,
   "id": "7674828b-7b8f-4935-a4a0-f2c9dbf4bd88",
   "metadata": {
    "id": "7674828b-7b8f-4935-a4a0-f2c9dbf4bd88",
    "outputId": "73ef584f-3e7d-4c5c-a221-6941036ae1b4"
   },
   "outputs": [
    {
     "data": {
      "text/html": [
       "<div>\n",
       "<style scoped>\n",
       "    .dataframe tbody tr th:only-of-type {\n",
       "        vertical-align: middle;\n",
       "    }\n",
       "\n",
       "    .dataframe tbody tr th {\n",
       "        vertical-align: top;\n",
       "    }\n",
       "\n",
       "    .dataframe thead th {\n",
       "        text-align: right;\n",
       "    }\n",
       "</style>\n",
       "<table border=\"1\" class=\"dataframe\">\n",
       "  <thead>\n",
       "    <tr style=\"text-align: right;\">\n",
       "      <th></th>\n",
       "      <th>국적코드</th>\n",
       "      <th>성별</th>\n",
       "      <th>입국객수</th>\n",
       "      <th>기준년월</th>\n",
       "    </tr>\n",
       "  </thead>\n",
       "  <tbody>\n",
       "    <tr>\n",
       "      <th>0</th>\n",
       "      <td>A01</td>\n",
       "      <td>남성</td>\n",
       "      <td>106320</td>\n",
       "      <td>2019-11</td>\n",
       "    </tr>\n",
       "    <tr>\n",
       "      <th>2</th>\n",
       "      <td>A31</td>\n",
       "      <td>남성</td>\n",
       "      <td>319</td>\n",
       "      <td>2019-11</td>\n",
       "    </tr>\n",
       "    <tr>\n",
       "      <th>4</th>\n",
       "      <td>A18</td>\n",
       "      <td>남성</td>\n",
       "      <td>158912</td>\n",
       "      <td>2019-11</td>\n",
       "    </tr>\n",
       "  </tbody>\n",
       "</table>\n",
       "</div>"
      ],
      "text/plain": [
       "  국적코드  성별    입국객수     기준년월\n",
       "0  A01  남성  106320  2019-11\n",
       "2  A31  남성     319  2019-11\n",
       "4  A18  남성  158912  2019-11"
      ]
     },
     "execution_count": 39,
     "metadata": {},
     "output_type": "execute_result"
    }
   ],
   "source": [
    "### 필터링한 결과 중에 False인 행의 결과 조회하기\n",
    "sample_1[c == False]"
   ]
  },
  {
   "cell_type": "code",
   "execution_count": null,
   "id": "2eafe989-abff-475b-990e-d5e722ee9b4d",
   "metadata": {
    "id": "2eafe989-abff-475b-990e-d5e722ee9b4d",
    "outputId": "6b8a0659-27cb-4cc1-85c0-075da824cfb1"
   },
   "outputs": [
    {
     "data": {
      "text/html": [
       "<div>\n",
       "<style scoped>\n",
       "    .dataframe tbody tr th:only-of-type {\n",
       "        vertical-align: middle;\n",
       "    }\n",
       "\n",
       "    .dataframe tbody tr th {\n",
       "        vertical-align: top;\n",
       "    }\n",
       "\n",
       "    .dataframe thead th {\n",
       "        text-align: right;\n",
       "    }\n",
       "</style>\n",
       "<table border=\"1\" class=\"dataframe\">\n",
       "  <thead>\n",
       "    <tr style=\"text-align: right;\">\n",
       "      <th></th>\n",
       "      <th>국적코드</th>\n",
       "      <th>성별</th>\n",
       "      <th>입국객수</th>\n",
       "      <th>기준년월</th>\n",
       "    </tr>\n",
       "  </thead>\n",
       "  <tbody>\n",
       "    <tr>\n",
       "      <th>0</th>\n",
       "      <td>A01</td>\n",
       "      <td>남성</td>\n",
       "      <td>106320</td>\n",
       "      <td>2019-11</td>\n",
       "    </tr>\n",
       "    <tr>\n",
       "      <th>2</th>\n",
       "      <td>A31</td>\n",
       "      <td>남성</td>\n",
       "      <td>319</td>\n",
       "      <td>2019-11</td>\n",
       "    </tr>\n",
       "    <tr>\n",
       "      <th>4</th>\n",
       "      <td>A18</td>\n",
       "      <td>남성</td>\n",
       "      <td>158912</td>\n",
       "      <td>2019-11</td>\n",
       "    </tr>\n",
       "  </tbody>\n",
       "</table>\n",
       "</div>"
      ],
      "text/plain": [
       "  국적코드  성별    입국객수     기준년월\n",
       "0  A01  남성  106320  2019-11\n",
       "2  A31  남성     319  2019-11\n",
       "4  A18  남성  158912  2019-11"
      ]
     },
     "execution_count": 40,
     "metadata": {},
     "output_type": "execute_result"
    }
   ],
   "source": [
    "### 필터링한 결과 중에 False인 행의 결과 조회하기\n",
    "sample_1[c != True]"
   ]
  },
  {
   "cell_type": "code",
   "execution_count": null,
   "id": "085ec50d-b30a-4c7c-9c1d-76f35ac32f0d",
   "metadata": {
    "id": "085ec50d-b30a-4c7c-9c1d-76f35ac32f0d",
    "outputId": "e74901d9-b1b6-4966-857b-ab37ff5afeaa"
   },
   "outputs": [
    {
     "data": {
      "text/html": [
       "<div>\n",
       "<style scoped>\n",
       "    .dataframe tbody tr th:only-of-type {\n",
       "        vertical-align: middle;\n",
       "    }\n",
       "\n",
       "    .dataframe tbody tr th {\n",
       "        vertical-align: top;\n",
       "    }\n",
       "\n",
       "    .dataframe thead th {\n",
       "        text-align: right;\n",
       "    }\n",
       "</style>\n",
       "<table border=\"1\" class=\"dataframe\">\n",
       "  <thead>\n",
       "    <tr style=\"text-align: right;\">\n",
       "      <th></th>\n",
       "      <th>국적코드</th>\n",
       "      <th>성별</th>\n",
       "      <th>입국객수</th>\n",
       "      <th>기준년월</th>\n",
       "    </tr>\n",
       "  </thead>\n",
       "  <tbody>\n",
       "    <tr>\n",
       "      <th>1</th>\n",
       "      <td>A01</td>\n",
       "      <td>여성</td>\n",
       "      <td>191436</td>\n",
       "      <td>2019-11</td>\n",
       "    </tr>\n",
       "    <tr>\n",
       "      <th>3</th>\n",
       "      <td>A31</td>\n",
       "      <td>여성</td>\n",
       "      <td>42</td>\n",
       "      <td>2019-11</td>\n",
       "    </tr>\n",
       "    <tr>\n",
       "      <th>5</th>\n",
       "      <td>A18</td>\n",
       "      <td>여성</td>\n",
       "      <td>232943</td>\n",
       "      <td>2019-11</td>\n",
       "    </tr>\n",
       "  </tbody>\n",
       "</table>\n",
       "</div>"
      ],
      "text/plain": [
       "  국적코드  성별    입국객수     기준년월\n",
       "1  A01  여성  191436  2019-11\n",
       "3  A31  여성      42  2019-11\n",
       "5  A18  여성  232943  2019-11"
      ]
     },
     "execution_count": 41,
     "metadata": {},
     "output_type": "execute_result"
    }
   ],
   "source": [
    "### 필터링한 결과 중에 True인 행의 결과 조회하기\n",
    "# ==> 디폴트 True : 생략가능\n",
    "sample_1[c]"
   ]
  },
  {
   "cell_type": "code",
   "execution_count": null,
   "id": "c5f4dcf6-f2a9-46bd-8b71-cad63af5bc1f",
   "metadata": {
    "id": "c5f4dcf6-f2a9-46bd-8b71-cad63af5bc1f",
    "outputId": "cbae675f-e5d7-48e3-ba1c-1b4790425f28"
   },
   "outputs": [
    {
     "data": {
      "text/html": [
       "<div>\n",
       "<style scoped>\n",
       "    .dataframe tbody tr th:only-of-type {\n",
       "        vertical-align: middle;\n",
       "    }\n",
       "\n",
       "    .dataframe tbody tr th {\n",
       "        vertical-align: top;\n",
       "    }\n",
       "\n",
       "    .dataframe thead th {\n",
       "        text-align: right;\n",
       "    }\n",
       "</style>\n",
       "<table border=\"1\" class=\"dataframe\">\n",
       "  <thead>\n",
       "    <tr style=\"text-align: right;\">\n",
       "      <th></th>\n",
       "      <th>국적코드</th>\n",
       "      <th>성별</th>\n",
       "      <th>입국객수</th>\n",
       "      <th>기준년월</th>\n",
       "    </tr>\n",
       "  </thead>\n",
       "  <tbody>\n",
       "    <tr>\n",
       "      <th>1</th>\n",
       "      <td>A01</td>\n",
       "      <td>여성</td>\n",
       "      <td>191436</td>\n",
       "      <td>2019-11</td>\n",
       "    </tr>\n",
       "    <tr>\n",
       "      <th>3</th>\n",
       "      <td>A31</td>\n",
       "      <td>여성</td>\n",
       "      <td>42</td>\n",
       "      <td>2019-11</td>\n",
       "    </tr>\n",
       "    <tr>\n",
       "      <th>5</th>\n",
       "      <td>A18</td>\n",
       "      <td>여성</td>\n",
       "      <td>232943</td>\n",
       "      <td>2019-11</td>\n",
       "    </tr>\n",
       "  </tbody>\n",
       "</table>\n",
       "</div>"
      ],
      "text/plain": [
       "  국적코드  성별    입국객수     기준년월\n",
       "1  A01  여성  191436  2019-11\n",
       "3  A31  여성      42  2019-11\n",
       "5  A18  여성  232943  2019-11"
      ]
     },
     "execution_count": 42,
     "metadata": {},
     "output_type": "execute_result"
    }
   ],
   "source": [
    "### 필터링한 결과 중에 True인 행의 결과 조회하기\n",
    "sample_1[sample_1[\"성별\"]==\"여성\"]"
   ]
  },
  {
   "cell_type": "code",
   "execution_count": null,
   "id": "defffdec-2b1f-4525-8247-3672328fc681",
   "metadata": {
    "id": "defffdec-2b1f-4525-8247-3672328fc681"
   },
   "outputs": [],
   "source": [
    "### 입국객수가 500명 이상인 데이터 필터링하기\n",
    "# - 조회 컬럼 : 전체 컬럼"
   ]
  },
  {
   "cell_type": "code",
   "execution_count": null,
   "id": "b163c5f6-1338-476e-82c4-c9ab5b6bf9ba",
   "metadata": {
    "id": "b163c5f6-1338-476e-82c4-c9ab5b6bf9ba",
    "outputId": "d21e54bb-c989-43f6-e69a-aa540dd93b76"
   },
   "outputs": [
    {
     "data": {
      "text/html": [
       "<div>\n",
       "<style scoped>\n",
       "    .dataframe tbody tr th:only-of-type {\n",
       "        vertical-align: middle;\n",
       "    }\n",
       "\n",
       "    .dataframe tbody tr th {\n",
       "        vertical-align: top;\n",
       "    }\n",
       "\n",
       "    .dataframe thead th {\n",
       "        text-align: right;\n",
       "    }\n",
       "</style>\n",
       "<table border=\"1\" class=\"dataframe\">\n",
       "  <thead>\n",
       "    <tr style=\"text-align: right;\">\n",
       "      <th></th>\n",
       "      <th>국적코드</th>\n",
       "      <th>성별</th>\n",
       "      <th>입국객수</th>\n",
       "      <th>기준년월</th>\n",
       "    </tr>\n",
       "  </thead>\n",
       "  <tbody>\n",
       "    <tr>\n",
       "      <th>0</th>\n",
       "      <td>A01</td>\n",
       "      <td>남성</td>\n",
       "      <td>106320</td>\n",
       "      <td>2019-11</td>\n",
       "    </tr>\n",
       "    <tr>\n",
       "      <th>1</th>\n",
       "      <td>A01</td>\n",
       "      <td>여성</td>\n",
       "      <td>191436</td>\n",
       "      <td>2019-11</td>\n",
       "    </tr>\n",
       "    <tr>\n",
       "      <th>4</th>\n",
       "      <td>A18</td>\n",
       "      <td>남성</td>\n",
       "      <td>158912</td>\n",
       "      <td>2019-11</td>\n",
       "    </tr>\n",
       "    <tr>\n",
       "      <th>5</th>\n",
       "      <td>A18</td>\n",
       "      <td>여성</td>\n",
       "      <td>232943</td>\n",
       "      <td>2019-11</td>\n",
       "    </tr>\n",
       "  </tbody>\n",
       "</table>\n",
       "</div>"
      ],
      "text/plain": [
       "  국적코드  성별    입국객수     기준년월\n",
       "0  A01  남성  106320  2019-11\n",
       "1  A01  여성  191436  2019-11\n",
       "4  A18  남성  158912  2019-11\n",
       "5  A18  여성  232943  2019-11"
      ]
     },
     "execution_count": 47,
     "metadata": {},
     "output_type": "execute_result"
    }
   ],
   "source": [
    "c = sample_1[\"입국객수\"] >= 500\n",
    "sample_1[c]\n",
    "\n",
    "sample_1[sample_1[\"입국객수\"] >= 500]"
   ]
  },
  {
   "cell_type": "code",
   "execution_count": null,
   "id": "aa0bdd0e-9bca-4e51-94c0-a3bb8a91ae7d",
   "metadata": {
    "id": "aa0bdd0e-9bca-4e51-94c0-a3bb8a91ae7d",
    "outputId": "a948c1c3-df75-4b8e-c9a1-65d4e819f157"
   },
   "outputs": [
    {
     "data": {
      "text/html": [
       "<div>\n",
       "<style scoped>\n",
       "    .dataframe tbody tr th:only-of-type {\n",
       "        vertical-align: middle;\n",
       "    }\n",
       "\n",
       "    .dataframe tbody tr th {\n",
       "        vertical-align: top;\n",
       "    }\n",
       "\n",
       "    .dataframe thead th {\n",
       "        text-align: right;\n",
       "    }\n",
       "</style>\n",
       "<table border=\"1\" class=\"dataframe\">\n",
       "  <thead>\n",
       "    <tr style=\"text-align: right;\">\n",
       "      <th></th>\n",
       "      <th>국적코드</th>\n",
       "      <th>성별</th>\n",
       "    </tr>\n",
       "  </thead>\n",
       "  <tbody>\n",
       "    <tr>\n",
       "      <th>0</th>\n",
       "      <td>A01</td>\n",
       "      <td>남성</td>\n",
       "    </tr>\n",
       "    <tr>\n",
       "      <th>1</th>\n",
       "      <td>A01</td>\n",
       "      <td>여성</td>\n",
       "    </tr>\n",
       "  </tbody>\n",
       "</table>\n",
       "</div>"
      ],
      "text/plain": [
       "  국적코드  성별\n",
       "0  A01  남성\n",
       "1  A01  여성"
      ]
     },
     "execution_count": 53,
     "metadata": {},
     "output_type": "execute_result"
    }
   ],
   "source": [
    "### 국적코드가 A01인 데이터를 필터링 해주세요.\n",
    "# 조회 컬럼 : 국적코드, 성별\n",
    "\n",
    "c = sample_1[\"국적코드\"] == \"A01\"\n",
    "c\n",
    "\n",
    "sample_1[c][[\"국적코드\", \"성별\"]]\n",
    "\n",
    "### 필터링 조건을 이용해서 데이터 조회하면 데이터프레임 타입\n",
    "#  - 변수에 담아서 사용\n",
    "df1 = sample_1[c]\n",
    "df1\n",
    "\n",
    "df1[[\"국적코드\", \"성별\"]]"
   ]
  },
  {
   "cell_type": "code",
   "execution_count": null,
   "id": "ac5fbb38-441e-451c-a16e-8367bed02818",
   "metadata": {
    "id": "ac5fbb38-441e-451c-a16e-8367bed02818",
    "outputId": "a40ca44d-b473-44ef-dad8-340c0a0c4a17"
   },
   "outputs": [
    {
     "data": {
      "text/html": [
       "<div>\n",
       "<style scoped>\n",
       "    .dataframe tbody tr th:only-of-type {\n",
       "        vertical-align: middle;\n",
       "    }\n",
       "\n",
       "    .dataframe tbody tr th {\n",
       "        vertical-align: top;\n",
       "    }\n",
       "\n",
       "    .dataframe thead th {\n",
       "        text-align: right;\n",
       "    }\n",
       "</style>\n",
       "<table border=\"1\" class=\"dataframe\">\n",
       "  <thead>\n",
       "    <tr style=\"text-align: right;\">\n",
       "      <th></th>\n",
       "      <th>국적코드</th>\n",
       "      <th>입국객수</th>\n",
       "    </tr>\n",
       "  </thead>\n",
       "  <tbody>\n",
       "    <tr>\n",
       "      <th>1</th>\n",
       "      <td>A01</td>\n",
       "      <td>191436</td>\n",
       "    </tr>\n",
       "  </tbody>\n",
       "</table>\n",
       "</div>"
      ],
      "text/plain": [
       "  국적코드    입국객수\n",
       "1  A01  191436"
      ]
     },
     "execution_count": 60,
     "metadata": {},
     "output_type": "execute_result"
    }
   ],
   "source": [
    "### 국적코드의 값이 A01이고, 입국객수가 150,000 이상인 데이터만 조회\n",
    "# - 조회 컬럼 : 국적코드, 입국객수\n",
    "c = (sample_1[\"국적코드\"] == \"A01\") & (sample_1[\"입국객수\"] >= 150000)\n",
    "df1 = sample_1[c]\n",
    "df1[[\"국적코드\", \"입국객수\"]]"
   ]
  },
  {
   "cell_type": "code",
   "execution_count": null,
   "id": "5c0de1d3-eaa2-4dc8-998b-ceed10069c7a",
   "metadata": {
    "id": "5c0de1d3-eaa2-4dc8-998b-ceed10069c7a",
    "outputId": "181628ef-3c41-4a0e-a9e6-fb5dc191ac1a"
   },
   "outputs": [
    {
     "data": {
      "text/html": [
       "<div>\n",
       "<style scoped>\n",
       "    .dataframe tbody tr th:only-of-type {\n",
       "        vertical-align: middle;\n",
       "    }\n",
       "\n",
       "    .dataframe tbody tr th {\n",
       "        vertical-align: top;\n",
       "    }\n",
       "\n",
       "    .dataframe thead th {\n",
       "        text-align: right;\n",
       "    }\n",
       "</style>\n",
       "<table border=\"1\" class=\"dataframe\">\n",
       "  <thead>\n",
       "    <tr style=\"text-align: right;\">\n",
       "      <th></th>\n",
       "      <th>국적코드</th>\n",
       "      <th>성별</th>\n",
       "      <th>입국객수</th>\n",
       "      <th>기준년월</th>\n",
       "    </tr>\n",
       "  </thead>\n",
       "  <tbody>\n",
       "    <tr>\n",
       "      <th>0</th>\n",
       "      <td>A01</td>\n",
       "      <td>남성</td>\n",
       "      <td>106320</td>\n",
       "      <td>2019-11</td>\n",
       "    </tr>\n",
       "    <tr>\n",
       "      <th>1</th>\n",
       "      <td>A01</td>\n",
       "      <td>여성</td>\n",
       "      <td>191436</td>\n",
       "      <td>2019-11</td>\n",
       "    </tr>\n",
       "    <tr>\n",
       "      <th>2</th>\n",
       "      <td>A31</td>\n",
       "      <td>남성</td>\n",
       "      <td>319</td>\n",
       "      <td>2019-11</td>\n",
       "    </tr>\n",
       "    <tr>\n",
       "      <th>3</th>\n",
       "      <td>A31</td>\n",
       "      <td>여성</td>\n",
       "      <td>42</td>\n",
       "      <td>2019-11</td>\n",
       "    </tr>\n",
       "    <tr>\n",
       "      <th>4</th>\n",
       "      <td>A18</td>\n",
       "      <td>남성</td>\n",
       "      <td>158912</td>\n",
       "      <td>2019-11</td>\n",
       "    </tr>\n",
       "    <tr>\n",
       "      <th>5</th>\n",
       "      <td>A18</td>\n",
       "      <td>여성</td>\n",
       "      <td>232943</td>\n",
       "      <td>2019-11</td>\n",
       "    </tr>\n",
       "  </tbody>\n",
       "</table>\n",
       "</div>"
      ],
      "text/plain": [
       "  국적코드  성별    입국객수     기준년월\n",
       "0  A01  남성  106320  2019-11\n",
       "1  A01  여성  191436  2019-11\n",
       "2  A31  남성     319  2019-11\n",
       "3  A31  여성      42  2019-11\n",
       "4  A18  남성  158912  2019-11\n",
       "5  A18  여성  232943  2019-11"
      ]
     },
     "execution_count": 61,
     "metadata": {},
     "output_type": "execute_result"
    }
   ],
   "source": [
    "sample_1"
   ]
  },
  {
   "cell_type": "code",
   "execution_count": null,
   "id": "7952dcd9-43b2-4cd1-af37-516f39fe536e",
   "metadata": {
    "id": "7952dcd9-43b2-4cd1-af37-516f39fe536e",
    "outputId": "4448a190-ae80-4e1d-d9f4-0cd929608b29"
   },
   "outputs": [
    {
     "data": {
      "text/html": [
       "<div>\n",
       "<style scoped>\n",
       "    .dataframe tbody tr th:only-of-type {\n",
       "        vertical-align: middle;\n",
       "    }\n",
       "\n",
       "    .dataframe tbody tr th {\n",
       "        vertical-align: top;\n",
       "    }\n",
       "\n",
       "    .dataframe thead th {\n",
       "        text-align: right;\n",
       "    }\n",
       "</style>\n",
       "<table border=\"1\" class=\"dataframe\">\n",
       "  <thead>\n",
       "    <tr style=\"text-align: right;\">\n",
       "      <th></th>\n",
       "      <th>국적코드</th>\n",
       "      <th>성별</th>\n",
       "      <th>입국객수</th>\n",
       "      <th>기준년월</th>\n",
       "    </tr>\n",
       "  </thead>\n",
       "  <tbody>\n",
       "    <tr>\n",
       "      <th>0</th>\n",
       "      <td>A01</td>\n",
       "      <td>남성</td>\n",
       "      <td>106320</td>\n",
       "      <td>2019-11</td>\n",
       "    </tr>\n",
       "    <tr>\n",
       "      <th>1</th>\n",
       "      <td>A01</td>\n",
       "      <td>여성</td>\n",
       "      <td>191436</td>\n",
       "      <td>2019-11</td>\n",
       "    </tr>\n",
       "    <tr>\n",
       "      <th>4</th>\n",
       "      <td>A18</td>\n",
       "      <td>남성</td>\n",
       "      <td>158912</td>\n",
       "      <td>2019-11</td>\n",
       "    </tr>\n",
       "    <tr>\n",
       "      <th>5</th>\n",
       "      <td>A18</td>\n",
       "      <td>여성</td>\n",
       "      <td>232943</td>\n",
       "      <td>2019-11</td>\n",
       "    </tr>\n",
       "  </tbody>\n",
       "</table>\n",
       "</div>"
      ],
      "text/plain": [
       "  국적코드  성별    입국객수     기준년월\n",
       "0  A01  남성  106320  2019-11\n",
       "1  A01  여성  191436  2019-11\n",
       "4  A18  남성  158912  2019-11\n",
       "5  A18  여성  232943  2019-11"
      ]
     },
     "execution_count": 63,
     "metadata": {},
     "output_type": "execute_result"
    }
   ],
   "source": [
    "### 국적코드의 값이 A01 또는 A18 인 데이터 조회하기\n",
    "# - 조회 컬럼 : 전체\n",
    "c = (sample_1[\"국적코드\"]==\"A01\") | (sample_1[\"국적코드\"]==\"A18\")\n",
    "sample_1[c]"
   ]
  },
  {
   "cell_type": "code",
   "execution_count": null,
   "id": "c3c744e1-3f8c-4095-981d-e3b751b1ff77",
   "metadata": {
    "id": "c3c744e1-3f8c-4095-981d-e3b751b1ff77",
    "outputId": "a353be9e-8256-4d62-99d6-38d3af3aa936"
   },
   "outputs": [
    {
     "data": {
      "text/html": [
       "<div>\n",
       "<style scoped>\n",
       "    .dataframe tbody tr th:only-of-type {\n",
       "        vertical-align: middle;\n",
       "    }\n",
       "\n",
       "    .dataframe tbody tr th {\n",
       "        vertical-align: top;\n",
       "    }\n",
       "\n",
       "    .dataframe thead th {\n",
       "        text-align: right;\n",
       "    }\n",
       "</style>\n",
       "<table border=\"1\" class=\"dataframe\">\n",
       "  <thead>\n",
       "    <tr style=\"text-align: right;\">\n",
       "      <th></th>\n",
       "      <th>국적코드</th>\n",
       "      <th>성별</th>\n",
       "      <th>입국객수</th>\n",
       "      <th>기준년월</th>\n",
       "    </tr>\n",
       "  </thead>\n",
       "  <tbody>\n",
       "    <tr>\n",
       "      <th>0</th>\n",
       "      <td>A01</td>\n",
       "      <td>남성</td>\n",
       "      <td>106320</td>\n",
       "      <td>2019-11</td>\n",
       "    </tr>\n",
       "    <tr>\n",
       "      <th>1</th>\n",
       "      <td>A01</td>\n",
       "      <td>여성</td>\n",
       "      <td>191436</td>\n",
       "      <td>2019-11</td>\n",
       "    </tr>\n",
       "    <tr>\n",
       "      <th>4</th>\n",
       "      <td>A18</td>\n",
       "      <td>남성</td>\n",
       "      <td>158912</td>\n",
       "      <td>2019-11</td>\n",
       "    </tr>\n",
       "    <tr>\n",
       "      <th>5</th>\n",
       "      <td>A18</td>\n",
       "      <td>여성</td>\n",
       "      <td>232943</td>\n",
       "      <td>2019-11</td>\n",
       "    </tr>\n",
       "  </tbody>\n",
       "</table>\n",
       "</div>"
      ],
      "text/plain": [
       "  국적코드  성별    입국객수     기준년월\n",
       "0  A01  남성  106320  2019-11\n",
       "1  A01  여성  191436  2019-11\n",
       "4  A18  남성  158912  2019-11\n",
       "5  A18  여성  232943  2019-11"
      ]
     },
     "execution_count": 66,
     "metadata": {},
     "output_type": "execute_result"
    }
   ],
   "source": [
    "### or 조건인 경우 함수를 사용할 수 있음\n",
    "# - 포함관계를 처리해 주는 함수 : isin([\"조건값1\", \"조건값2\"...])\n",
    "#   --> 데이터프레임 내에 해당 조건값이 포함된 경우 해당 인덱스 행을 조회합니다.\n",
    "c = sample_1[\"국적코드\"].isin([\"A01\", \"A18\"])\n",
    "sample_1[c]"
   ]
  },
  {
   "cell_type": "markdown",
   "id": "802a63e5-46f4-4679-9c35-57f202b4a141",
   "metadata": {
    "id": "802a63e5-46f4-4679-9c35-57f202b4a141"
   },
   "source": [
    "### 데이터 통합하기"
   ]
  },
  {
   "cell_type": "code",
   "execution_count": null,
   "id": "63b65b14-389c-4898-a9bb-72f4ff634d7e",
   "metadata": {
    "id": "63b65b14-389c-4898-a9bb-72f4ff634d7e"
   },
   "outputs": [],
   "source": [
    "\"\"\"\n",
    "<데이터 통합 방법>\n",
    " - 다른 파일 또는 데이터프레임의 데이터를 열(Column) 또는 행(Row) 단위로\n",
    "   추가하는 방식을 \"통합\"이라고 칭합니다.\n",
    " - 데이터 통합은 열단위통합과 행단위통합 2가지 통합을 수행합니다.\n",
    "\n",
    "(열단위 통합)\n",
    " - 외부 파일 또는 데이터프레임에 있는 특정 열(Column)의 데이터를 원본으로 가지고 올 때 사용\n",
    " - 보통 \"메타정의서\"라는 파일의 데이터를 원본으로 가지고 올때 주로 사용되는 통합 방식 임\n",
    " - 원본의 행의 갯수와 통합하려는 외부 파일의 컬럼의 데이터(행)의 갯수는 같아야 가능합니다.\n",
    "   또는 같지 않더라도, 특정 값이 같은 조건의 관계에 의해서 가져오는 경우에도 사용됩니다.\n",
    " - 열단위 통합에 주로 사용되는 함수 : merge()\n",
    "\n",
    "(행단위 통합)\n",
    " - 수집한 데이터의 양이 너무 많은 경우, 여러개의 파일로 분리해서 제공하는 경우가 많습니다.\n",
    " - 이런 경우 분리된 모든 파일을 하나로 통합 할 때 사용하는 방식으로,\n",
    " - 원본과 외부 파일의 컬럼의 성격과 컬럼의 갯수가 일치해야 합니다.\n",
    " - 행단위 통합에 주로 사용되는 함수 : concat([원본, 추가])\n",
    "\"\"\""
   ]
  },
  {
   "cell_type": "markdown",
   "id": "b1d7b7ea-864a-433d-82f1-171176df3756",
   "metadata": {
    "id": "b1d7b7ea-864a-433d-82f1-171176df3756"
   },
   "source": [
    "##### <열단위 통합>"
   ]
  },
  {
   "cell_type": "code",
   "execution_count": null,
   "id": "8e8f1a4b-a5ec-4f62-8e8f-5e2d9887f637",
   "metadata": {
    "id": "8e8f1a4b-a5ec-4f62-8e8f-5e2d9887f637",
    "outputId": "f746d557-9078-43ef-ab1d-9412da924071"
   },
   "outputs": [
    {
     "data": {
      "text/html": [
       "<div>\n",
       "<style scoped>\n",
       "    .dataframe tbody tr th:only-of-type {\n",
       "        vertical-align: middle;\n",
       "    }\n",
       "\n",
       "    .dataframe tbody tr th {\n",
       "        vertical-align: top;\n",
       "    }\n",
       "\n",
       "    .dataframe thead th {\n",
       "        text-align: right;\n",
       "    }\n",
       "</style>\n",
       "<table border=\"1\" class=\"dataframe\">\n",
       "  <thead>\n",
       "    <tr style=\"text-align: right;\">\n",
       "      <th></th>\n",
       "      <th>국적코드</th>\n",
       "      <th>성별</th>\n",
       "      <th>입국객수</th>\n",
       "      <th>기준년월</th>\n",
       "    </tr>\n",
       "  </thead>\n",
       "  <tbody>\n",
       "    <tr>\n",
       "      <th>0</th>\n",
       "      <td>A01</td>\n",
       "      <td>남성</td>\n",
       "      <td>106320</td>\n",
       "      <td>2019-11</td>\n",
       "    </tr>\n",
       "    <tr>\n",
       "      <th>1</th>\n",
       "      <td>A01</td>\n",
       "      <td>여성</td>\n",
       "      <td>191436</td>\n",
       "      <td>2019-11</td>\n",
       "    </tr>\n",
       "    <tr>\n",
       "      <th>2</th>\n",
       "      <td>A31</td>\n",
       "      <td>남성</td>\n",
       "      <td>319</td>\n",
       "      <td>2019-11</td>\n",
       "    </tr>\n",
       "    <tr>\n",
       "      <th>3</th>\n",
       "      <td>A31</td>\n",
       "      <td>여성</td>\n",
       "      <td>42</td>\n",
       "      <td>2019-11</td>\n",
       "    </tr>\n",
       "    <tr>\n",
       "      <th>4</th>\n",
       "      <td>A18</td>\n",
       "      <td>남성</td>\n",
       "      <td>158912</td>\n",
       "      <td>2019-11</td>\n",
       "    </tr>\n",
       "    <tr>\n",
       "      <th>5</th>\n",
       "      <td>A18</td>\n",
       "      <td>여성</td>\n",
       "      <td>232943</td>\n",
       "      <td>2019-11</td>\n",
       "    </tr>\n",
       "  </tbody>\n",
       "</table>\n",
       "</div>"
      ],
      "text/plain": [
       "  국적코드  성별    입국객수     기준년월\n",
       "0  A01  남성  106320  2019-11\n",
       "1  A01  여성  191436  2019-11\n",
       "2  A31  남성     319  2019-11\n",
       "3  A31  여성      42  2019-11\n",
       "4  A18  남성  158912  2019-11\n",
       "5  A18  여성  232943  2019-11"
      ]
     },
     "execution_count": 67,
     "metadata": {},
     "output_type": "execute_result"
    }
   ],
   "source": [
    "### 원본 데이터프레임 : sample_1\n",
    "sample_1"
   ]
  },
  {
   "cell_type": "code",
   "execution_count": null,
   "id": "92376ca8-e672-4914-b228-fd234efcf6b5",
   "metadata": {
    "id": "92376ca8-e672-4914-b228-fd234efcf6b5"
   },
   "outputs": [],
   "source": [
    "### 국적코드에 대한 실제 국적명 컬럼을 외부 파일에서 가져오기\n",
    "# 원본 데이터프레임에 \"국적명\" 컬럼을 추가"
   ]
  },
  {
   "cell_type": "code",
   "execution_count": null,
   "id": "edde4f9e-9b90-4b18-87ba-b71574069f45",
   "metadata": {
    "id": "edde4f9e-9b90-4b18-87ba-b71574069f45",
    "outputId": "d47771ba-09fc-41b4-f07f-b0dcc1a263b4"
   },
   "outputs": [
    {
     "data": {
      "text/html": [
       "<div>\n",
       "<style scoped>\n",
       "    .dataframe tbody tr th:only-of-type {\n",
       "        vertical-align: middle;\n",
       "    }\n",
       "\n",
       "    .dataframe tbody tr th {\n",
       "        vertical-align: top;\n",
       "    }\n",
       "\n",
       "    .dataframe thead th {\n",
       "        text-align: right;\n",
       "    }\n",
       "</style>\n",
       "<table border=\"1\" class=\"dataframe\">\n",
       "  <thead>\n",
       "    <tr style=\"text-align: right;\">\n",
       "      <th></th>\n",
       "      <th>국적코드</th>\n",
       "      <th>국적명</th>\n",
       "    </tr>\n",
       "  </thead>\n",
       "  <tbody>\n",
       "    <tr>\n",
       "      <th>0</th>\n",
       "      <td>A01</td>\n",
       "      <td>일본</td>\n",
       "    </tr>\n",
       "    <tr>\n",
       "      <th>1</th>\n",
       "      <td>A02</td>\n",
       "      <td>대만</td>\n",
       "    </tr>\n",
       "    <tr>\n",
       "      <th>2</th>\n",
       "      <td>A03</td>\n",
       "      <td>홍콩</td>\n",
       "    </tr>\n",
       "    <tr>\n",
       "      <th>3</th>\n",
       "      <td>A18</td>\n",
       "      <td>중국</td>\n",
       "    </tr>\n",
       "    <tr>\n",
       "      <th>4</th>\n",
       "      <td>A19</td>\n",
       "      <td>이란</td>\n",
       "    </tr>\n",
       "    <tr>\n",
       "      <th>5</th>\n",
       "      <td>A22</td>\n",
       "      <td>우즈베키스탄</td>\n",
       "    </tr>\n",
       "    <tr>\n",
       "      <th>6</th>\n",
       "      <td>A23</td>\n",
       "      <td>카자흐스탄</td>\n",
       "    </tr>\n",
       "    <tr>\n",
       "      <th>7</th>\n",
       "      <td>A99</td>\n",
       "      <td>아시아 기타</td>\n",
       "    </tr>\n",
       "  </tbody>\n",
       "</table>\n",
       "</div>"
      ],
      "text/plain": [
       "  국적코드     국적명\n",
       "0  A01      일본\n",
       "1  A02      대만\n",
       "2  A03      홍콩\n",
       "3  A18      중국\n",
       "4  A19      이란\n",
       "5  A22  우즈베키스탄\n",
       "6  A23   카자흐스탄\n",
       "7  A99  아시아 기타"
      ]
     },
     "execution_count": 68,
     "metadata": {},
     "output_type": "execute_result"
    }
   ],
   "source": [
    "### 국적코드에 대한 국적명이 정의된 외부 파일 읽어들이기\n",
    "file_path   = \"./files/sample_codemaster.xlsx\"\n",
    "code_master = pd.read_excel(file_path)\n",
    "code_master"
   ]
  },
  {
   "cell_type": "code",
   "execution_count": null,
   "id": "8a4d904f-0baf-4740-976d-7be54254540e",
   "metadata": {
    "id": "8a4d904f-0baf-4740-976d-7be54254540e",
    "outputId": "44218c20-d1ed-4306-a3ef-d4149b973e2e"
   },
   "outputs": [
    {
     "name": "stdout",
     "output_type": "stream",
     "text": [
      "<class 'pandas.core.frame.DataFrame'>\n",
      "RangeIndex: 8 entries, 0 to 7\n",
      "Data columns (total 2 columns):\n",
      " #   Column  Non-Null Count  Dtype \n",
      "---  ------  --------------  ----- \n",
      " 0   국적코드    8 non-null      object\n",
      " 1   국적명     8 non-null      object\n",
      "dtypes: object(2)\n",
      "memory usage: 256.0+ bytes\n"
     ]
    }
   ],
   "source": [
    "### 결측데이터 확인하기\n",
    "# - 데이터프레임 정보를 확인하면 결측데이터 1차적으로 확인 가능\n",
    "code_master.info()"
   ]
  },
  {
   "cell_type": "code",
   "execution_count": null,
   "id": "48279d0e-d093-4fb9-8bd5-2c0dc7b5f500",
   "metadata": {
    "id": "48279d0e-d093-4fb9-8bd5-2c0dc7b5f500",
    "outputId": "d478103a-0e47-457c-dd0f-475cd91e4114"
   },
   "outputs": [
    {
     "data": {
      "text/html": [
       "<div>\n",
       "<style scoped>\n",
       "    .dataframe tbody tr th:only-of-type {\n",
       "        vertical-align: middle;\n",
       "    }\n",
       "\n",
       "    .dataframe tbody tr th {\n",
       "        vertical-align: top;\n",
       "    }\n",
       "\n",
       "    .dataframe thead th {\n",
       "        text-align: right;\n",
       "    }\n",
       "</style>\n",
       "<table border=\"1\" class=\"dataframe\">\n",
       "  <thead>\n",
       "    <tr style=\"text-align: right;\">\n",
       "      <th></th>\n",
       "      <th>국적코드</th>\n",
       "      <th>성별</th>\n",
       "      <th>입국객수</th>\n",
       "      <th>기준년월</th>\n",
       "      <th>국적명</th>\n",
       "    </tr>\n",
       "  </thead>\n",
       "  <tbody>\n",
       "    <tr>\n",
       "      <th>0</th>\n",
       "      <td>A01</td>\n",
       "      <td>남성</td>\n",
       "      <td>106320</td>\n",
       "      <td>2019-11</td>\n",
       "      <td>일본</td>\n",
       "    </tr>\n",
       "    <tr>\n",
       "      <th>1</th>\n",
       "      <td>A01</td>\n",
       "      <td>여성</td>\n",
       "      <td>191436</td>\n",
       "      <td>2019-11</td>\n",
       "      <td>일본</td>\n",
       "    </tr>\n",
       "    <tr>\n",
       "      <th>2</th>\n",
       "      <td>A18</td>\n",
       "      <td>남성</td>\n",
       "      <td>158912</td>\n",
       "      <td>2019-11</td>\n",
       "      <td>중국</td>\n",
       "    </tr>\n",
       "    <tr>\n",
       "      <th>3</th>\n",
       "      <td>A18</td>\n",
       "      <td>여성</td>\n",
       "      <td>232943</td>\n",
       "      <td>2019-11</td>\n",
       "      <td>중국</td>\n",
       "    </tr>\n",
       "  </tbody>\n",
       "</table>\n",
       "</div>"
      ],
      "text/plain": [
       "  국적코드  성별    입국객수     기준년월 국적명\n",
       "0  A01  남성  106320  2019-11  일본\n",
       "1  A01  여성  191436  2019-11  일본\n",
       "2  A18  남성  158912  2019-11  중국\n",
       "3  A18  여성  232943  2019-11  중국"
      ]
     },
     "execution_count": 72,
     "metadata": {},
     "output_type": "execute_result"
    }
   ],
   "source": [
    "\"\"\"\n",
    " - left : 왼쪽 메모리 영역으로, 보통 원본 데이터프레임이 위치함\n",
    " - right : 오른쪽 메모리 영역으로, 보통 외부 데이터프레임이 위치함\n",
    "           (가져올 데이터가 있는 곳)\n",
    " - left_on과 right_on : 왼쪽 데이터와 오른쪽 데이터를 통합 시 매핑할 컬럼명을 작성\n",
    "                        (보통 코드 데이터로 되어 있는 경우가 많으며,\n",
    "                         컬럼의 성격이 같은 경우 사용 가능합니다.)\n",
    " - how : 통합 방식\n",
    "         -> inner : 왼쪽 및 오른쪽의 매핑 컬럼의 값이 같은 데이터의 행들만 통합하여 추출\n",
    "                  : 오른쪽 데이터를 -> 왼쪽으로 통합\n",
    "         -> left  : 왼쪽 전체 행을 추출(단, 매핑된 결과가 없으면 NaN으로 처리됨)\n",
    "                  : 오른쪽 데이터를 -> 왼쪽으로 통합\n",
    "         -> right : 오른쪽 전체 행을 추출(단, 매핑된 결과가 없으면 NaN으로 처리됨)\n",
    "                  : 왼쪽 데이터를 -> 오른쪽으로 통합\n",
    "\"\"\"\n",
    "pd.merge(left=sample_1,\n",
    "         right=code_master,\n",
    "         how=\"inner\",\n",
    "         left_on=\"국적코드\",\n",
    "         right_on=\"국적코드\")"
   ]
  },
  {
   "cell_type": "code",
   "execution_count": null,
   "id": "7f0b94ab-18ba-4cdd-a047-29ed1f478a97",
   "metadata": {
    "id": "7f0b94ab-18ba-4cdd-a047-29ed1f478a97",
    "outputId": "e3b5f964-6c96-470a-af8d-e07651725cdc"
   },
   "outputs": [
    {
     "data": {
      "text/html": [
       "<div>\n",
       "<style scoped>\n",
       "    .dataframe tbody tr th:only-of-type {\n",
       "        vertical-align: middle;\n",
       "    }\n",
       "\n",
       "    .dataframe tbody tr th {\n",
       "        vertical-align: top;\n",
       "    }\n",
       "\n",
       "    .dataframe thead th {\n",
       "        text-align: right;\n",
       "    }\n",
       "</style>\n",
       "<table border=\"1\" class=\"dataframe\">\n",
       "  <thead>\n",
       "    <tr style=\"text-align: right;\">\n",
       "      <th></th>\n",
       "      <th>국적코드</th>\n",
       "      <th>성별</th>\n",
       "      <th>입국객수</th>\n",
       "      <th>기준년월</th>\n",
       "      <th>국적명</th>\n",
       "    </tr>\n",
       "  </thead>\n",
       "  <tbody>\n",
       "    <tr>\n",
       "      <th>0</th>\n",
       "      <td>A01</td>\n",
       "      <td>남성</td>\n",
       "      <td>106320</td>\n",
       "      <td>2019-11</td>\n",
       "      <td>일본</td>\n",
       "    </tr>\n",
       "    <tr>\n",
       "      <th>1</th>\n",
       "      <td>A01</td>\n",
       "      <td>여성</td>\n",
       "      <td>191436</td>\n",
       "      <td>2019-11</td>\n",
       "      <td>일본</td>\n",
       "    </tr>\n",
       "    <tr>\n",
       "      <th>2</th>\n",
       "      <td>A31</td>\n",
       "      <td>남성</td>\n",
       "      <td>319</td>\n",
       "      <td>2019-11</td>\n",
       "      <td>NaN</td>\n",
       "    </tr>\n",
       "    <tr>\n",
       "      <th>3</th>\n",
       "      <td>A31</td>\n",
       "      <td>여성</td>\n",
       "      <td>42</td>\n",
       "      <td>2019-11</td>\n",
       "      <td>NaN</td>\n",
       "    </tr>\n",
       "    <tr>\n",
       "      <th>4</th>\n",
       "      <td>A18</td>\n",
       "      <td>남성</td>\n",
       "      <td>158912</td>\n",
       "      <td>2019-11</td>\n",
       "      <td>중국</td>\n",
       "    </tr>\n",
       "    <tr>\n",
       "      <th>5</th>\n",
       "      <td>A18</td>\n",
       "      <td>여성</td>\n",
       "      <td>232943</td>\n",
       "      <td>2019-11</td>\n",
       "      <td>중국</td>\n",
       "    </tr>\n",
       "  </tbody>\n",
       "</table>\n",
       "</div>"
      ],
      "text/plain": [
       "  국적코드  성별    입국객수     기준년월  국적명\n",
       "0  A01  남성  106320  2019-11   일본\n",
       "1  A01  여성  191436  2019-11   일본\n",
       "2  A31  남성     319  2019-11  NaN\n",
       "3  A31  여성      42  2019-11  NaN\n",
       "4  A18  남성  158912  2019-11   중국\n",
       "5  A18  여성  232943  2019-11   중국"
      ]
     },
     "execution_count": 73,
     "metadata": {},
     "output_type": "execute_result"
    }
   ],
   "source": [
    "pd.merge(left=sample_1,\n",
    "         right=code_master,\n",
    "         how=\"left\",\n",
    "         left_on=\"국적코드\",\n",
    "         right_on=\"국적코드\")"
   ]
  },
  {
   "cell_type": "code",
   "execution_count": null,
   "id": "259903d5-14fd-430b-a71f-9231f8dae62b",
   "metadata": {
    "id": "259903d5-14fd-430b-a71f-9231f8dae62b",
    "outputId": "efd104e6-c08d-49ea-ce67-9d2550a311b2"
   },
   "outputs": [
    {
     "data": {
      "text/html": [
       "<div>\n",
       "<style scoped>\n",
       "    .dataframe tbody tr th:only-of-type {\n",
       "        vertical-align: middle;\n",
       "    }\n",
       "\n",
       "    .dataframe tbody tr th {\n",
       "        vertical-align: top;\n",
       "    }\n",
       "\n",
       "    .dataframe thead th {\n",
       "        text-align: right;\n",
       "    }\n",
       "</style>\n",
       "<table border=\"1\" class=\"dataframe\">\n",
       "  <thead>\n",
       "    <tr style=\"text-align: right;\">\n",
       "      <th></th>\n",
       "      <th>국적코드</th>\n",
       "      <th>성별</th>\n",
       "      <th>입국객수</th>\n",
       "      <th>기준년월</th>\n",
       "      <th>국적명</th>\n",
       "    </tr>\n",
       "  </thead>\n",
       "  <tbody>\n",
       "    <tr>\n",
       "      <th>0</th>\n",
       "      <td>A01</td>\n",
       "      <td>남성</td>\n",
       "      <td>106320.0</td>\n",
       "      <td>2019-11</td>\n",
       "      <td>일본</td>\n",
       "    </tr>\n",
       "    <tr>\n",
       "      <th>1</th>\n",
       "      <td>A01</td>\n",
       "      <td>여성</td>\n",
       "      <td>191436.0</td>\n",
       "      <td>2019-11</td>\n",
       "      <td>일본</td>\n",
       "    </tr>\n",
       "    <tr>\n",
       "      <th>2</th>\n",
       "      <td>A02</td>\n",
       "      <td>NaN</td>\n",
       "      <td>NaN</td>\n",
       "      <td>NaN</td>\n",
       "      <td>대만</td>\n",
       "    </tr>\n",
       "    <tr>\n",
       "      <th>3</th>\n",
       "      <td>A03</td>\n",
       "      <td>NaN</td>\n",
       "      <td>NaN</td>\n",
       "      <td>NaN</td>\n",
       "      <td>홍콩</td>\n",
       "    </tr>\n",
       "    <tr>\n",
       "      <th>4</th>\n",
       "      <td>A18</td>\n",
       "      <td>남성</td>\n",
       "      <td>158912.0</td>\n",
       "      <td>2019-11</td>\n",
       "      <td>중국</td>\n",
       "    </tr>\n",
       "    <tr>\n",
       "      <th>5</th>\n",
       "      <td>A18</td>\n",
       "      <td>여성</td>\n",
       "      <td>232943.0</td>\n",
       "      <td>2019-11</td>\n",
       "      <td>중국</td>\n",
       "    </tr>\n",
       "    <tr>\n",
       "      <th>6</th>\n",
       "      <td>A19</td>\n",
       "      <td>NaN</td>\n",
       "      <td>NaN</td>\n",
       "      <td>NaN</td>\n",
       "      <td>이란</td>\n",
       "    </tr>\n",
       "    <tr>\n",
       "      <th>7</th>\n",
       "      <td>A22</td>\n",
       "      <td>NaN</td>\n",
       "      <td>NaN</td>\n",
       "      <td>NaN</td>\n",
       "      <td>우즈베키스탄</td>\n",
       "    </tr>\n",
       "    <tr>\n",
       "      <th>8</th>\n",
       "      <td>A23</td>\n",
       "      <td>NaN</td>\n",
       "      <td>NaN</td>\n",
       "      <td>NaN</td>\n",
       "      <td>카자흐스탄</td>\n",
       "    </tr>\n",
       "    <tr>\n",
       "      <th>9</th>\n",
       "      <td>A99</td>\n",
       "      <td>NaN</td>\n",
       "      <td>NaN</td>\n",
       "      <td>NaN</td>\n",
       "      <td>아시아 기타</td>\n",
       "    </tr>\n",
       "  </tbody>\n",
       "</table>\n",
       "</div>"
      ],
      "text/plain": [
       "  국적코드   성별      입국객수     기준년월     국적명\n",
       "0  A01   남성  106320.0  2019-11      일본\n",
       "1  A01   여성  191436.0  2019-11      일본\n",
       "2  A02  NaN       NaN      NaN      대만\n",
       "3  A03  NaN       NaN      NaN      홍콩\n",
       "4  A18   남성  158912.0  2019-11      중국\n",
       "5  A18   여성  232943.0  2019-11      중국\n",
       "6  A19  NaN       NaN      NaN      이란\n",
       "7  A22  NaN       NaN      NaN  우즈베키스탄\n",
       "8  A23  NaN       NaN      NaN   카자흐스탄\n",
       "9  A99  NaN       NaN      NaN  아시아 기타"
      ]
     },
     "execution_count": 74,
     "metadata": {},
     "output_type": "execute_result"
    }
   ],
   "source": [
    "pd.merge(left=sample_1,\n",
    "         right=code_master,\n",
    "         how=\"right\",\n",
    "         left_on=\"국적코드\",\n",
    "         right_on=\"국적코드\")"
   ]
  },
  {
   "cell_type": "code",
   "execution_count": null,
   "id": "cabb6af8-481b-4862-8a6e-1c4c3ff44505",
   "metadata": {
    "id": "cabb6af8-481b-4862-8a6e-1c4c3ff44505",
    "outputId": "525ec2eb-0ccd-444c-d7c4-b359cce58949"
   },
   "outputs": [
    {
     "data": {
      "text/html": [
       "<div>\n",
       "<style scoped>\n",
       "    .dataframe tbody tr th:only-of-type {\n",
       "        vertical-align: middle;\n",
       "    }\n",
       "\n",
       "    .dataframe tbody tr th {\n",
       "        vertical-align: top;\n",
       "    }\n",
       "\n",
       "    .dataframe thead th {\n",
       "        text-align: right;\n",
       "    }\n",
       "</style>\n",
       "<table border=\"1\" class=\"dataframe\">\n",
       "  <thead>\n",
       "    <tr style=\"text-align: right;\">\n",
       "      <th></th>\n",
       "      <th>국적코드</th>\n",
       "      <th>성별</th>\n",
       "      <th>입국객수</th>\n",
       "      <th>기준년월</th>\n",
       "      <th>국적명</th>\n",
       "    </tr>\n",
       "  </thead>\n",
       "  <tbody>\n",
       "    <tr>\n",
       "      <th>0</th>\n",
       "      <td>A01</td>\n",
       "      <td>남성</td>\n",
       "      <td>106320</td>\n",
       "      <td>2019-11</td>\n",
       "      <td>일본</td>\n",
       "    </tr>\n",
       "    <tr>\n",
       "      <th>1</th>\n",
       "      <td>A01</td>\n",
       "      <td>여성</td>\n",
       "      <td>191436</td>\n",
       "      <td>2019-11</td>\n",
       "      <td>일본</td>\n",
       "    </tr>\n",
       "    <tr>\n",
       "      <th>2</th>\n",
       "      <td>A31</td>\n",
       "      <td>남성</td>\n",
       "      <td>319</td>\n",
       "      <td>2019-11</td>\n",
       "      <td>NaN</td>\n",
       "    </tr>\n",
       "    <tr>\n",
       "      <th>3</th>\n",
       "      <td>A31</td>\n",
       "      <td>여성</td>\n",
       "      <td>42</td>\n",
       "      <td>2019-11</td>\n",
       "      <td>NaN</td>\n",
       "    </tr>\n",
       "    <tr>\n",
       "      <th>4</th>\n",
       "      <td>A18</td>\n",
       "      <td>남성</td>\n",
       "      <td>158912</td>\n",
       "      <td>2019-11</td>\n",
       "      <td>중국</td>\n",
       "    </tr>\n",
       "    <tr>\n",
       "      <th>5</th>\n",
       "      <td>A18</td>\n",
       "      <td>여성</td>\n",
       "      <td>232943</td>\n",
       "      <td>2019-11</td>\n",
       "      <td>중국</td>\n",
       "    </tr>\n",
       "  </tbody>\n",
       "</table>\n",
       "</div>"
      ],
      "text/plain": [
       "  국적코드  성별    입국객수     기준년월  국적명\n",
       "0  A01  남성  106320  2019-11   일본\n",
       "1  A01  여성  191436  2019-11   일본\n",
       "2  A31  남성     319  2019-11  NaN\n",
       "3  A31  여성      42  2019-11  NaN\n",
       "4  A18  남성  158912  2019-11   중국\n",
       "5  A18  여성  232943  2019-11   중국"
      ]
     },
     "execution_count": 82,
     "metadata": {},
     "output_type": "execute_result"
    }
   ],
   "source": [
    "### 국적명 컬럼 통합하기 : 원본으로 사용\n",
    "sample_1_code = pd.merge(left=sample_1,\n",
    "                         right=code_master,\n",
    "                         how=\"left\",\n",
    "                         left_on=\"국적코드\",\n",
    "                         right_on=\"국적코드\")\n",
    "sample_1_code"
   ]
  },
  {
   "cell_type": "markdown",
   "id": "32797c8d-4f0c-4365-9cf1-f525c1ff59f5",
   "metadata": {
    "id": "32797c8d-4f0c-4365-9cf1-f525c1ff59f5"
   },
   "source": [
    "##### <행단위 통합>"
   ]
  },
  {
   "cell_type": "code",
   "execution_count": null,
   "id": "3fa79f05-e35b-453f-bb06-dd1ac0da3aef",
   "metadata": {
    "id": "3fa79f05-e35b-453f-bb06-dd1ac0da3aef",
    "outputId": "83b5bce9-c0d9-4e60-c952-a70d0b575602"
   },
   "outputs": [
    {
     "data": {
      "text/html": [
       "<div>\n",
       "<style scoped>\n",
       "    .dataframe tbody tr th:only-of-type {\n",
       "        vertical-align: middle;\n",
       "    }\n",
       "\n",
       "    .dataframe tbody tr th {\n",
       "        vertical-align: top;\n",
       "    }\n",
       "\n",
       "    .dataframe thead th {\n",
       "        text-align: right;\n",
       "    }\n",
       "</style>\n",
       "<table border=\"1\" class=\"dataframe\">\n",
       "  <thead>\n",
       "    <tr style=\"text-align: right;\">\n",
       "      <th></th>\n",
       "      <th>국적코드</th>\n",
       "      <th>성별</th>\n",
       "      <th>입국객수</th>\n",
       "    </tr>\n",
       "  </thead>\n",
       "  <tbody>\n",
       "    <tr>\n",
       "      <th>0</th>\n",
       "      <td>A01</td>\n",
       "      <td>남성</td>\n",
       "      <td>92556</td>\n",
       "    </tr>\n",
       "    <tr>\n",
       "      <th>1</th>\n",
       "      <td>A01</td>\n",
       "      <td>여성</td>\n",
       "      <td>163737</td>\n",
       "    </tr>\n",
       "    <tr>\n",
       "      <th>2</th>\n",
       "      <td>A18</td>\n",
       "      <td>남성</td>\n",
       "      <td>155540</td>\n",
       "    </tr>\n",
       "    <tr>\n",
       "      <th>3</th>\n",
       "      <td>A18</td>\n",
       "      <td>여성</td>\n",
       "      <td>249023</td>\n",
       "    </tr>\n",
       "  </tbody>\n",
       "</table>\n",
       "</div>"
      ],
      "text/plain": [
       "  국적코드  성별    입국객수\n",
       "0  A01  남성   92556\n",
       "1  A01  여성  163737\n",
       "2  A18  남성  155540\n",
       "3  A18  여성  249023"
      ]
     },
     "execution_count": 77,
     "metadata": {},
     "output_type": "execute_result"
    }
   ],
   "source": [
    "### sample_2 엑셀 데이터 읽어들이기\n",
    "file_path = \"./files/sample_2.xlsx\"\n",
    "sample_2 = pd.read_excel(file_path,\n",
    "                         header=1,\n",
    "                         skipfooter=2,\n",
    "                         usecols=\"A:C\")\n",
    "sample_2"
   ]
  },
  {
   "cell_type": "code",
   "execution_count": null,
   "id": "f479bac3-b232-4234-b329-51983911bb4b",
   "metadata": {
    "id": "f479bac3-b232-4234-b329-51983911bb4b",
    "outputId": "ad5619a5-672b-4cee-f93e-8696b43bedcf"
   },
   "outputs": [
    {
     "name": "stdout",
     "output_type": "stream",
     "text": [
      "<class 'pandas.core.frame.DataFrame'>\n",
      "RangeIndex: 4 entries, 0 to 3\n",
      "Data columns (total 3 columns):\n",
      " #   Column  Non-Null Count  Dtype \n",
      "---  ------  --------------  ----- \n",
      " 0   국적코드    4 non-null      object\n",
      " 1   성별      4 non-null      object\n",
      " 2   입국객수    4 non-null      int64 \n",
      "dtypes: int64(1), object(2)\n",
      "memory usage: 224.0+ bytes\n"
     ]
    }
   ],
   "source": [
    "### 데이터 정보 확인하기\n",
    "sample_2.info()"
   ]
  },
  {
   "cell_type": "code",
   "execution_count": null,
   "id": "4eb1e35e-f866-4da3-8d87-339249dbb886",
   "metadata": {
    "id": "4eb1e35e-f866-4da3-8d87-339249dbb886",
    "outputId": "a8d35f00-1909-42d7-81a8-f03f68d580c8"
   },
   "outputs": [
    {
     "data": {
      "text/html": [
       "<div>\n",
       "<style scoped>\n",
       "    .dataframe tbody tr th:only-of-type {\n",
       "        vertical-align: middle;\n",
       "    }\n",
       "\n",
       "    .dataframe tbody tr th {\n",
       "        vertical-align: top;\n",
       "    }\n",
       "\n",
       "    .dataframe thead th {\n",
       "        text-align: right;\n",
       "    }\n",
       "</style>\n",
       "<table border=\"1\" class=\"dataframe\">\n",
       "  <thead>\n",
       "    <tr style=\"text-align: right;\">\n",
       "      <th></th>\n",
       "      <th>입국객수</th>\n",
       "    </tr>\n",
       "  </thead>\n",
       "  <tbody>\n",
       "    <tr>\n",
       "      <th>count</th>\n",
       "      <td>4.000000</td>\n",
       "    </tr>\n",
       "    <tr>\n",
       "      <th>mean</th>\n",
       "      <td>165214.000000</td>\n",
       "    </tr>\n",
       "    <tr>\n",
       "      <th>std</th>\n",
       "      <td>64288.156633</td>\n",
       "    </tr>\n",
       "    <tr>\n",
       "      <th>min</th>\n",
       "      <td>92556.000000</td>\n",
       "    </tr>\n",
       "    <tr>\n",
       "      <th>25%</th>\n",
       "      <td>139794.000000</td>\n",
       "    </tr>\n",
       "    <tr>\n",
       "      <th>50%</th>\n",
       "      <td>159638.500000</td>\n",
       "    </tr>\n",
       "    <tr>\n",
       "      <th>75%</th>\n",
       "      <td>185058.500000</td>\n",
       "    </tr>\n",
       "    <tr>\n",
       "      <th>max</th>\n",
       "      <td>249023.000000</td>\n",
       "    </tr>\n",
       "  </tbody>\n",
       "</table>\n",
       "</div>"
      ],
      "text/plain": [
       "                입국객수\n",
       "count       4.000000\n",
       "mean   165214.000000\n",
       "std     64288.156633\n",
       "min     92556.000000\n",
       "25%    139794.000000\n",
       "50%    159638.500000\n",
       "75%    185058.500000\n",
       "max    249023.000000"
      ]
     },
     "execution_count": 79,
     "metadata": {},
     "output_type": "execute_result"
    }
   ],
   "source": [
    "### 기초 통계 데이터 확인하기\n",
    "sample_2.describe()"
   ]
  },
  {
   "cell_type": "code",
   "execution_count": null,
   "id": "79c3ce27-8358-4616-8ccb-c29793df1684",
   "metadata": {
    "id": "79c3ce27-8358-4616-8ccb-c29793df1684",
    "outputId": "749adac2-85ee-4dc4-ab00-6540ac88be3a"
   },
   "outputs": [
    {
     "data": {
      "text/html": [
       "<div>\n",
       "<style scoped>\n",
       "    .dataframe tbody tr th:only-of-type {\n",
       "        vertical-align: middle;\n",
       "    }\n",
       "\n",
       "    .dataframe tbody tr th {\n",
       "        vertical-align: top;\n",
       "    }\n",
       "\n",
       "    .dataframe thead th {\n",
       "        text-align: right;\n",
       "    }\n",
       "</style>\n",
       "<table border=\"1\" class=\"dataframe\">\n",
       "  <thead>\n",
       "    <tr style=\"text-align: right;\">\n",
       "      <th></th>\n",
       "      <th>국적코드</th>\n",
       "      <th>성별</th>\n",
       "      <th>입국객수</th>\n",
       "      <th>기준년월</th>\n",
       "      <th>국적명</th>\n",
       "    </tr>\n",
       "  </thead>\n",
       "  <tbody>\n",
       "    <tr>\n",
       "      <th>0</th>\n",
       "      <td>A01</td>\n",
       "      <td>남성</td>\n",
       "      <td>106320</td>\n",
       "      <td>2019-11</td>\n",
       "      <td>일본</td>\n",
       "    </tr>\n",
       "  </tbody>\n",
       "</table>\n",
       "</div>"
      ],
      "text/plain": [
       "  국적코드  성별    입국객수     기준년월 국적명\n",
       "0  A01  남성  106320  2019-11  일본"
      ]
     },
     "execution_count": 83,
     "metadata": {},
     "output_type": "execute_result"
    }
   ],
   "source": [
    "### 원본\n",
    "sample_1_code.head(1)"
   ]
  },
  {
   "cell_type": "code",
   "execution_count": null,
   "id": "71ee1ac8-bf4b-42c1-95d8-f64a5edc25ac",
   "metadata": {
    "id": "71ee1ac8-bf4b-42c1-95d8-f64a5edc25ac",
    "outputId": "61bd7dee-0440-41d2-c648-2d75cc18128f"
   },
   "outputs": [
    {
     "data": {
      "text/html": [
       "<div>\n",
       "<style scoped>\n",
       "    .dataframe tbody tr th:only-of-type {\n",
       "        vertical-align: middle;\n",
       "    }\n",
       "\n",
       "    .dataframe tbody tr th {\n",
       "        vertical-align: top;\n",
       "    }\n",
       "\n",
       "    .dataframe thead th {\n",
       "        text-align: right;\n",
       "    }\n",
       "</style>\n",
       "<table border=\"1\" class=\"dataframe\">\n",
       "  <thead>\n",
       "    <tr style=\"text-align: right;\">\n",
       "      <th></th>\n",
       "      <th>국적코드</th>\n",
       "      <th>성별</th>\n",
       "      <th>입국객수</th>\n",
       "    </tr>\n",
       "  </thead>\n",
       "  <tbody>\n",
       "    <tr>\n",
       "      <th>0</th>\n",
       "      <td>A01</td>\n",
       "      <td>남성</td>\n",
       "      <td>92556</td>\n",
       "    </tr>\n",
       "  </tbody>\n",
       "</table>\n",
       "</div>"
      ],
      "text/plain": [
       "  국적코드  성별   입국객수\n",
       "0  A01  남성  92556"
      ]
     },
     "execution_count": 84,
     "metadata": {},
     "output_type": "execute_result"
    }
   ],
   "source": [
    "### 원본에 추가할 데이터\n",
    "sample_2.head(1)"
   ]
  },
  {
   "cell_type": "code",
   "execution_count": null,
   "id": "fd8bb0db-29ba-4f95-a067-a4ff14ad8073",
   "metadata": {
    "id": "fd8bb0db-29ba-4f95-a067-a4ff14ad8073"
   },
   "outputs": [],
   "source": [
    "### 추가할 sample_2의 컬럼을 원본과 동일하게 추가하기\n",
    "# 기준년월 및 국적명 추가하기"
   ]
  },
  {
   "cell_type": "code",
   "execution_count": null,
   "id": "2bbe4ec8-fb74-4f92-9cda-5ebc651bda35",
   "metadata": {
    "id": "2bbe4ec8-fb74-4f92-9cda-5ebc651bda35",
    "outputId": "4c0ffe62-349d-45b6-b7fe-4367f6ad224a"
   },
   "outputs": [
    {
     "data": {
      "text/html": [
       "<div>\n",
       "<style scoped>\n",
       "    .dataframe tbody tr th:only-of-type {\n",
       "        vertical-align: middle;\n",
       "    }\n",
       "\n",
       "    .dataframe tbody tr th {\n",
       "        vertical-align: top;\n",
       "    }\n",
       "\n",
       "    .dataframe thead th {\n",
       "        text-align: right;\n",
       "    }\n",
       "</style>\n",
       "<table border=\"1\" class=\"dataframe\">\n",
       "  <thead>\n",
       "    <tr style=\"text-align: right;\">\n",
       "      <th></th>\n",
       "      <th>국적코드</th>\n",
       "      <th>성별</th>\n",
       "      <th>입국객수</th>\n",
       "      <th>기준년월</th>\n",
       "    </tr>\n",
       "  </thead>\n",
       "  <tbody>\n",
       "    <tr>\n",
       "      <th>0</th>\n",
       "      <td>A01</td>\n",
       "      <td>남성</td>\n",
       "      <td>92556</td>\n",
       "      <td>2019-12</td>\n",
       "    </tr>\n",
       "    <tr>\n",
       "      <th>1</th>\n",
       "      <td>A01</td>\n",
       "      <td>여성</td>\n",
       "      <td>163737</td>\n",
       "      <td>2019-12</td>\n",
       "    </tr>\n",
       "    <tr>\n",
       "      <th>2</th>\n",
       "      <td>A18</td>\n",
       "      <td>남성</td>\n",
       "      <td>155540</td>\n",
       "      <td>2019-12</td>\n",
       "    </tr>\n",
       "    <tr>\n",
       "      <th>3</th>\n",
       "      <td>A18</td>\n",
       "      <td>여성</td>\n",
       "      <td>249023</td>\n",
       "      <td>2019-12</td>\n",
       "    </tr>\n",
       "  </tbody>\n",
       "</table>\n",
       "</div>"
      ],
      "text/plain": [
       "  국적코드  성별    입국객수     기준년월\n",
       "0  A01  남성   92556  2019-12\n",
       "1  A01  여성  163737  2019-12\n",
       "2  A18  남성  155540  2019-12\n",
       "3  A18  여성  249023  2019-12"
      ]
     },
     "execution_count": 85,
     "metadata": {},
     "output_type": "execute_result"
    }
   ],
   "source": [
    "### 기준년월 추가\n",
    "sample_2[\"기준년월\"] = \"2019-12\"\n",
    "sample_2"
   ]
  },
  {
   "cell_type": "code",
   "execution_count": null,
   "id": "4f94bd02-3ba8-4a18-a96c-621cddc63388",
   "metadata": {
    "id": "4f94bd02-3ba8-4a18-a96c-621cddc63388",
    "outputId": "db3df59c-e763-4697-f6eb-b8e1f3026716"
   },
   "outputs": [
    {
     "data": {
      "text/html": [
       "<div>\n",
       "<style scoped>\n",
       "    .dataframe tbody tr th:only-of-type {\n",
       "        vertical-align: middle;\n",
       "    }\n",
       "\n",
       "    .dataframe tbody tr th {\n",
       "        vertical-align: top;\n",
       "    }\n",
       "\n",
       "    .dataframe thead th {\n",
       "        text-align: right;\n",
       "    }\n",
       "</style>\n",
       "<table border=\"1\" class=\"dataframe\">\n",
       "  <thead>\n",
       "    <tr style=\"text-align: right;\">\n",
       "      <th></th>\n",
       "      <th>국적코드</th>\n",
       "      <th>성별</th>\n",
       "      <th>입국객수</th>\n",
       "      <th>기준년월</th>\n",
       "      <th>국적명</th>\n",
       "    </tr>\n",
       "  </thead>\n",
       "  <tbody>\n",
       "    <tr>\n",
       "      <th>0</th>\n",
       "      <td>A01</td>\n",
       "      <td>남성</td>\n",
       "      <td>92556</td>\n",
       "      <td>2019-12</td>\n",
       "      <td>일본</td>\n",
       "    </tr>\n",
       "    <tr>\n",
       "      <th>1</th>\n",
       "      <td>A01</td>\n",
       "      <td>여성</td>\n",
       "      <td>163737</td>\n",
       "      <td>2019-12</td>\n",
       "      <td>일본</td>\n",
       "    </tr>\n",
       "    <tr>\n",
       "      <th>2</th>\n",
       "      <td>A18</td>\n",
       "      <td>남성</td>\n",
       "      <td>155540</td>\n",
       "      <td>2019-12</td>\n",
       "      <td>중국</td>\n",
       "    </tr>\n",
       "    <tr>\n",
       "      <th>3</th>\n",
       "      <td>A18</td>\n",
       "      <td>여성</td>\n",
       "      <td>249023</td>\n",
       "      <td>2019-12</td>\n",
       "      <td>중국</td>\n",
       "    </tr>\n",
       "  </tbody>\n",
       "</table>\n",
       "</div>"
      ],
      "text/plain": [
       "  국적코드  성별    입국객수     기준년월 국적명\n",
       "0  A01  남성   92556  2019-12  일본\n",
       "1  A01  여성  163737  2019-12  일본\n",
       "2  A18  남성  155540  2019-12  중국\n",
       "3  A18  여성  249023  2019-12  중국"
      ]
     },
     "execution_count": 87,
     "metadata": {},
     "output_type": "execute_result"
    }
   ],
   "source": [
    "### 국적명 컬럼 추가하기\n",
    "sample_2_code = pd.merge(left=sample_2,\n",
    "                         right=code_master,\n",
    "                         how=\"left\",\n",
    "                         left_on=\"국적코드\",\n",
    "                         right_on=\"국적코드\")\n",
    "sample_2_code"
   ]
  },
  {
   "cell_type": "code",
   "execution_count": null,
   "id": "3d647206-f73c-499c-a1ce-89f688023539",
   "metadata": {
    "id": "3d647206-f73c-499c-a1ce-89f688023539",
    "outputId": "43c18536-75e1-44f1-ebec-9493f4cce3d9"
   },
   "outputs": [
    {
     "data": {
      "text/html": [
       "<div>\n",
       "<style scoped>\n",
       "    .dataframe tbody tr th:only-of-type {\n",
       "        vertical-align: middle;\n",
       "    }\n",
       "\n",
       "    .dataframe tbody tr th {\n",
       "        vertical-align: top;\n",
       "    }\n",
       "\n",
       "    .dataframe thead th {\n",
       "        text-align: right;\n",
       "    }\n",
       "</style>\n",
       "<table border=\"1\" class=\"dataframe\">\n",
       "  <thead>\n",
       "    <tr style=\"text-align: right;\">\n",
       "      <th></th>\n",
       "      <th>국적코드</th>\n",
       "      <th>성별</th>\n",
       "      <th>입국객수</th>\n",
       "      <th>기준년월</th>\n",
       "      <th>국적명</th>\n",
       "    </tr>\n",
       "  </thead>\n",
       "  <tbody>\n",
       "    <tr>\n",
       "      <th>0</th>\n",
       "      <td>A01</td>\n",
       "      <td>남성</td>\n",
       "      <td>106320</td>\n",
       "      <td>2019-11</td>\n",
       "      <td>일본</td>\n",
       "    </tr>\n",
       "    <tr>\n",
       "      <th>1</th>\n",
       "      <td>A01</td>\n",
       "      <td>여성</td>\n",
       "      <td>191436</td>\n",
       "      <td>2019-11</td>\n",
       "      <td>일본</td>\n",
       "    </tr>\n",
       "    <tr>\n",
       "      <th>2</th>\n",
       "      <td>A31</td>\n",
       "      <td>남성</td>\n",
       "      <td>319</td>\n",
       "      <td>2019-11</td>\n",
       "      <td>NaN</td>\n",
       "    </tr>\n",
       "    <tr>\n",
       "      <th>3</th>\n",
       "      <td>A31</td>\n",
       "      <td>여성</td>\n",
       "      <td>42</td>\n",
       "      <td>2019-11</td>\n",
       "      <td>NaN</td>\n",
       "    </tr>\n",
       "    <tr>\n",
       "      <th>4</th>\n",
       "      <td>A18</td>\n",
       "      <td>남성</td>\n",
       "      <td>158912</td>\n",
       "      <td>2019-11</td>\n",
       "      <td>중국</td>\n",
       "    </tr>\n",
       "    <tr>\n",
       "      <th>5</th>\n",
       "      <td>A18</td>\n",
       "      <td>여성</td>\n",
       "      <td>232943</td>\n",
       "      <td>2019-11</td>\n",
       "      <td>중국</td>\n",
       "    </tr>\n",
       "    <tr>\n",
       "      <th>6</th>\n",
       "      <td>A01</td>\n",
       "      <td>남성</td>\n",
       "      <td>92556</td>\n",
       "      <td>2019-12</td>\n",
       "      <td>일본</td>\n",
       "    </tr>\n",
       "    <tr>\n",
       "      <th>7</th>\n",
       "      <td>A01</td>\n",
       "      <td>여성</td>\n",
       "      <td>163737</td>\n",
       "      <td>2019-12</td>\n",
       "      <td>일본</td>\n",
       "    </tr>\n",
       "    <tr>\n",
       "      <th>8</th>\n",
       "      <td>A18</td>\n",
       "      <td>남성</td>\n",
       "      <td>155540</td>\n",
       "      <td>2019-12</td>\n",
       "      <td>중국</td>\n",
       "    </tr>\n",
       "    <tr>\n",
       "      <th>9</th>\n",
       "      <td>A18</td>\n",
       "      <td>여성</td>\n",
       "      <td>249023</td>\n",
       "      <td>2019-12</td>\n",
       "      <td>중국</td>\n",
       "    </tr>\n",
       "  </tbody>\n",
       "</table>\n",
       "</div>"
      ],
      "text/plain": [
       "  국적코드  성별    입국객수     기준년월  국적명\n",
       "0  A01  남성  106320  2019-11   일본\n",
       "1  A01  여성  191436  2019-11   일본\n",
       "2  A31  남성     319  2019-11  NaN\n",
       "3  A31  여성      42  2019-11  NaN\n",
       "4  A18  남성  158912  2019-11   중국\n",
       "5  A18  여성  232943  2019-11   중국\n",
       "6  A01  남성   92556  2019-12   일본\n",
       "7  A01  여성  163737  2019-12   일본\n",
       "8  A18  남성  155540  2019-12   중국\n",
       "9  A18  여성  249023  2019-12   중국"
      ]
     },
     "execution_count": 90,
     "metadata": {},
     "output_type": "execute_result"
    }
   ],
   "source": [
    "### sample_2_code의 데이터를 sample_1_code 밑으로(행단위) 통합하기\n",
    "# - ignore_index : 눈에 보이는 인덱스 값을 자동 증가 시킴(True)\n",
    "sample_all = pd.concat([sample_1_code, sample_2_code], ignore_index=True)\n",
    "sample_all"
   ]
  },
  {
   "cell_type": "markdown",
   "id": "779be114-d1d2-46e1-b462-d3869f38811b",
   "metadata": {
    "id": "779be114-d1d2-46e1-b462-d3869f38811b"
   },
   "source": [
    "### 통합본 파일로 저장하기"
   ]
  },
  {
   "cell_type": "code",
   "execution_count": null,
   "id": "f5bd92e8-91c6-4295-b4e4-6828272262bd",
   "metadata": {
    "id": "f5bd92e8-91c6-4295-b4e4-6828272262bd"
   },
   "outputs": [],
   "source": [
    "### 엑셀 포멧으로 저장하기\n",
    "save_path = \"./files/sample_all.xlsx\"\n",
    "### index : 저장시 인덱스 번호는 저장시 제외하기...(False)\n",
    "sample_all.to_excel(save_path, index=False)"
   ]
  }
 ],
 "metadata": {
  "colab": {
   "provenance": []
  },
  "kernelspec": {
   "display_name": "base",
   "language": "python",
   "name": "python3"
  },
  "language_info": {
   "codemirror_mode": {
    "name": "ipython",
    "version": 3
   },
   "file_extension": ".py",
   "mimetype": "text/x-python",
   "name": "python",
   "nbconvert_exporter": "python",
   "pygments_lexer": "ipython3",
   "version": "3.12.7"
  }
 },
 "nbformat": 4,
 "nbformat_minor": 5
}
